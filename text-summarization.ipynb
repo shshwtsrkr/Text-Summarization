{
 "cells": [
  {
   "cell_type": "markdown",
   "id": "3cf3cd1e",
   "metadata": {
    "papermill": {
     "duration": 0.004979,
     "end_time": "2023-04-07T21:57:00.076688",
     "exception": false,
     "start_time": "2023-04-07T21:57:00.071709",
     "status": "completed"
    },
    "tags": []
   },
   "source": [
    "Import required libraries"
   ]
  },
  {
   "cell_type": "code",
   "execution_count": 1,
   "id": "54fa6369",
   "metadata": {
    "execution": {
     "iopub.execute_input": "2023-04-07T21:57:00.086507Z",
     "iopub.status.busy": "2023-04-07T21:57:00.086058Z",
     "iopub.status.idle": "2023-04-07T21:57:01.139255Z",
     "shell.execute_reply": "2023-04-07T21:57:01.138019Z"
    },
    "papermill": {
     "duration": 1.06165,
     "end_time": "2023-04-07T21:57:01.142411",
     "exception": false,
     "start_time": "2023-04-07T21:57:00.080761",
     "status": "completed"
    },
    "tags": []
   },
   "outputs": [],
   "source": [
    "# to work with the file system and folder structure\n",
    "import os\n",
    "import time\n",
    "import glob\n",
    "import pathlib\n",
    "\n",
    "import numpy as np # to work with arrays\n",
    "import pandas as pd # to work with dataframes\n",
    "import matplotlib.pyplot as plt # to plot graphs for data and accuracy\n",
    "import seaborn as sns # to plot graphs for data and accuracy"
   ]
  },
  {
   "cell_type": "markdown",
   "id": "3c29b2d9",
   "metadata": {
    "papermill": {
     "duration": 0.007011,
     "end_time": "2023-04-07T21:57:01.155428",
     "exception": false,
     "start_time": "2023-04-07T21:57:01.148417",
     "status": "completed"
    },
    "tags": []
   },
   "source": [
    "Check categories of news articles available"
   ]
  },
  {
   "cell_type": "code",
   "execution_count": 2,
   "id": "4064156c",
   "metadata": {
    "execution": {
     "iopub.execute_input": "2023-04-07T21:57:01.168436Z",
     "iopub.status.busy": "2023-04-07T21:57:01.167731Z",
     "iopub.status.idle": "2023-04-07T21:57:01.188206Z",
     "shell.execute_reply": "2023-04-07T21:57:01.187173Z"
    },
    "papermill": {
     "duration": 0.030182,
     "end_time": "2023-04-07T21:57:01.190879",
     "exception": false,
     "start_time": "2023-04-07T21:57:01.160697",
     "status": "completed"
    },
    "tags": []
   },
   "outputs": [
    {
     "data": {
      "text/plain": [
       "['politics', 'sport', 'tech', 'entertainment', 'business']"
      ]
     },
     "execution_count": 2,
     "metadata": {},
     "output_type": "execute_result"
    }
   ],
   "source": [
    "os.listdir('/kaggle/input/bbc-news-summary/BBC News Summary/Summaries/')"
   ]
  },
  {
   "cell_type": "markdown",
   "id": "d8e7ce74",
   "metadata": {
    "papermill": {
     "duration": 0.005346,
     "end_time": "2023-04-07T21:57:01.202425",
     "exception": false,
     "start_time": "2023-04-07T21:57:01.197079",
     "status": "completed"
    },
    "tags": []
   },
   "source": [
    "Defining paths for variables for articles and summaries along with setting a list for categories of news articles"
   ]
  },
  {
   "cell_type": "code",
   "execution_count": 3,
   "id": "74387b20",
   "metadata": {
    "execution": {
     "iopub.execute_input": "2023-04-07T21:57:01.215697Z",
     "iopub.status.busy": "2023-04-07T21:57:01.215014Z",
     "iopub.status.idle": "2023-04-07T21:57:01.219954Z",
     "shell.execute_reply": "2023-04-07T21:57:01.218962Z"
    },
    "papermill": {
     "duration": 0.014964,
     "end_time": "2023-04-07T21:57:01.223020",
     "exception": false,
     "start_time": "2023-04-07T21:57:01.208056",
     "status": "completed"
    },
    "tags": []
   },
   "outputs": [],
   "source": [
    "# Now we define paths for articles, summaries and maintain a list of categories of our data\n",
    "article_path = '/kaggle/input/bbc-news-summary/BBC News Summary/News Articles'\n",
    "summary_path = '/kaggle/input/bbc-news-summary/BBC News Summary/Summaries'\n",
    "categories_list = ['politics', 'sport', 'tech', 'entertainment', 'business']"
   ]
  },
  {
   "cell_type": "markdown",
   "id": "75bddb32",
   "metadata": {
    "papermill": {
     "duration": 0.005309,
     "end_time": "2023-04-07T21:57:01.234061",
     "exception": false,
     "start_time": "2023-04-07T21:57:01.228752",
     "status": "completed"
    },
    "tags": []
   },
   "source": [
    "**purpose of the function** : to read into the folders and store articles, summaries and categories into variables."
   ]
  },
  {
   "cell_type": "code",
   "execution_count": 4,
   "id": "1286dc60",
   "metadata": {
    "execution": {
     "iopub.execute_input": "2023-04-07T21:57:01.246956Z",
     "iopub.status.busy": "2023-04-07T21:57:01.246338Z",
     "iopub.status.idle": "2023-04-07T21:57:01.256187Z",
     "shell.execute_reply": "2023-04-07T21:57:01.255320Z"
    },
    "papermill": {
     "duration": 0.018946,
     "end_time": "2023-04-07T21:57:01.258578",
     "exception": false,
     "start_time": "2023-04-07T21:57:01.239632",
     "status": "completed"
    },
    "tags": []
   },
   "outputs": [],
   "source": [
    "# providing inputs for articles, summaries and categories\n",
    "def read_in_folders(article_path, summary_path, categories_list, encoding = \"ISO-8859-1\"):\n",
    "    articles = []\n",
    "    summaries = []\n",
    "    categories = []\n",
    "    \n",
    "    \n",
    "    for category in categories_list: # category iterates over the entire list of categories one by one\n",
    "        \n",
    "        # store all articles & summaries in the variables respectively for a given category, recursively\n",
    "        # therefore, essentially it make a list for all artivles and summaries per category, in the end it stores it for all categories\n",
    "        article_paths = glob.glob(os.path.join(article_path, category, '*.txt'), recursive=True)\n",
    "        summary_paths = glob.glob(os.path.join(summary_path, category, '*.txt'), recursive=True)\n",
    "        \n",
    "        print(f'found {len(article_paths)} in articles/{category} folder, {len(summary_paths)} in summaries/{category}')\n",
    "        \n",
    "        # check if number of articles & summaries are same or not\n",
    "        if(len(article_paths) != len(summary_paths)):\n",
    "            print('Both are not equal')\n",
    "            return \n",
    "        \n",
    "        # put the content of all articles per category in articles\n",
    "        for index in range(len(article_paths)):\n",
    "            categories.append(category)\n",
    "            with open(article_paths[index], mode = 'r', encoding = encoding) as file:\n",
    "                articles.append(file.read())\n",
    "                \n",
    "            with open(summary_paths[index], mode = 'r', encoding = encoding) as file:\n",
    "                summaries.append(file.read())\n",
    "                \n",
    "    return articles, summaries, categories"
   ]
  },
  {
   "cell_type": "code",
   "execution_count": 5,
   "id": "801fdba7",
   "metadata": {
    "execution": {
     "iopub.execute_input": "2023-04-07T21:57:01.271531Z",
     "iopub.status.busy": "2023-04-07T21:57:01.270883Z",
     "iopub.status.idle": "2023-04-07T21:57:15.144308Z",
     "shell.execute_reply": "2023-04-07T21:57:15.143279Z"
    },
    "papermill": {
     "duration": 13.882462,
     "end_time": "2023-04-07T21:57:15.146735",
     "exception": false,
     "start_time": "2023-04-07T21:57:01.264273",
     "status": "completed"
    },
    "tags": []
   },
   "outputs": [
    {
     "name": "stdout",
     "output_type": "stream",
     "text": [
      "found 417 in articles/politics folder, 417 in summaries/politics\n",
      "found 511 in articles/sport folder, 511 in summaries/sport\n",
      "found 401 in articles/tech folder, 401 in summaries/tech\n",
      "found 386 in articles/entertainment folder, 386 in summaries/entertainment\n",
      "found 510 in articles/business folder, 510 in summaries/business\n"
     ]
    }
   ],
   "source": [
    "#store the return values into the variables\n",
    "articles, summaries, categories = read_in_folders(article_path, summary_path, categories_list)"
   ]
  },
  {
   "cell_type": "markdown",
   "id": "dd48f779",
   "metadata": {
    "papermill": {
     "duration": 0.004144,
     "end_time": "2023-04-07T21:57:15.155760",
     "exception": false,
     "start_time": "2023-04-07T21:57:15.151616",
     "status": "completed"
    },
    "tags": []
   },
   "source": [
    "Create a dataframe to work with the data"
   ]
  },
  {
   "cell_type": "code",
   "execution_count": 6,
   "id": "28af4f68",
   "metadata": {
    "execution": {
     "iopub.execute_input": "2023-04-07T21:57:15.165700Z",
     "iopub.status.busy": "2023-04-07T21:57:15.165394Z",
     "iopub.status.idle": "2023-04-07T21:57:15.189546Z",
     "shell.execute_reply": "2023-04-07T21:57:15.188559Z"
    },
    "papermill": {
     "duration": 0.031448,
     "end_time": "2023-04-07T21:57:15.191543",
     "exception": false,
     "start_time": "2023-04-07T21:57:15.160095",
     "status": "completed"
    },
    "tags": []
   },
   "outputs": [
    {
     "data": {
      "text/html": [
       "<div>\n",
       "<style scoped>\n",
       "    .dataframe tbody tr th:only-of-type {\n",
       "        vertical-align: middle;\n",
       "    }\n",
       "\n",
       "    .dataframe tbody tr th {\n",
       "        vertical-align: top;\n",
       "    }\n",
       "\n",
       "    .dataframe thead th {\n",
       "        text-align: right;\n",
       "    }\n",
       "</style>\n",
       "<table border=\"1\" class=\"dataframe\">\n",
       "  <thead>\n",
       "    <tr style=\"text-align: right;\">\n",
       "      <th></th>\n",
       "      <th>articles</th>\n",
       "      <th>summaries</th>\n",
       "      <th>categories</th>\n",
       "    </tr>\n",
       "  </thead>\n",
       "  <tbody>\n",
       "    <tr>\n",
       "      <th>0</th>\n",
       "      <td>Budget to set scene for election\\n\\nGordon Bro...</td>\n",
       "      <td>- Increase in the stamp duty threshold from Â£...</td>\n",
       "      <td>politics</td>\n",
       "    </tr>\n",
       "    <tr>\n",
       "      <th>1</th>\n",
       "      <td>Army chiefs in regiments decision\\n\\nMilitary ...</td>\n",
       "      <td>\"They are very much not for the good and will ...</td>\n",
       "      <td>politics</td>\n",
       "    </tr>\n",
       "    <tr>\n",
       "      <th>2</th>\n",
       "      <td>Howard denies split over ID cards\\n\\nMichael H...</td>\n",
       "      <td>Michael Howard has denied his shadow cabinet w...</td>\n",
       "      <td>politics</td>\n",
       "    </tr>\n",
       "    <tr>\n",
       "      <th>3</th>\n",
       "      <td>Observers to monitor UK election\\n\\nMinisters ...</td>\n",
       "      <td>The report said individual registration should...</td>\n",
       "      <td>politics</td>\n",
       "    </tr>\n",
       "    <tr>\n",
       "      <th>4</th>\n",
       "      <td>Kilroy names election seat target\\n\\nEx-chat s...</td>\n",
       "      <td>UKIP's leader, Roger Knapman, has said he is g...</td>\n",
       "      <td>politics</td>\n",
       "    </tr>\n",
       "    <tr>\n",
       "      <th>...</th>\n",
       "      <td>...</td>\n",
       "      <td>...</td>\n",
       "      <td>...</td>\n",
       "    </tr>\n",
       "    <tr>\n",
       "      <th>2220</th>\n",
       "      <td>India opens skies to competition\\n\\nIndia will...</td>\n",
       "      <td>India will allow domestic commercial airlines ...</td>\n",
       "      <td>business</td>\n",
       "    </tr>\n",
       "    <tr>\n",
       "      <th>2221</th>\n",
       "      <td>Yukos bankruptcy 'not US matter'\\n\\nRussian au...</td>\n",
       "      <td>Yukos says a US court was entitled to declare ...</td>\n",
       "      <td>business</td>\n",
       "    </tr>\n",
       "    <tr>\n",
       "      <th>2222</th>\n",
       "      <td>Survey confirms property slowdown\\n\\nGovernmen...</td>\n",
       "      <td>House prices were 11.8% higher on the year in ...</td>\n",
       "      <td>business</td>\n",
       "    </tr>\n",
       "    <tr>\n",
       "      <th>2223</th>\n",
       "      <td>High fuel prices hit BA's profits\\n\\nBritish A...</td>\n",
       "      <td>Rod Eddington, BA's chief executive, said the ...</td>\n",
       "      <td>business</td>\n",
       "    </tr>\n",
       "    <tr>\n",
       "      <th>2224</th>\n",
       "      <td>US trade gap hits record in 2004\\n\\nThe gap be...</td>\n",
       "      <td>The Commerce Department said the trade deficit...</td>\n",
       "      <td>business</td>\n",
       "    </tr>\n",
       "  </tbody>\n",
       "</table>\n",
       "<p>2225 rows × 3 columns</p>\n",
       "</div>"
      ],
      "text/plain": [
       "                                               articles  \\\n",
       "0     Budget to set scene for election\\n\\nGordon Bro...   \n",
       "1     Army chiefs in regiments decision\\n\\nMilitary ...   \n",
       "2     Howard denies split over ID cards\\n\\nMichael H...   \n",
       "3     Observers to monitor UK election\\n\\nMinisters ...   \n",
       "4     Kilroy names election seat target\\n\\nEx-chat s...   \n",
       "...                                                 ...   \n",
       "2220  India opens skies to competition\\n\\nIndia will...   \n",
       "2221  Yukos bankruptcy 'not US matter'\\n\\nRussian au...   \n",
       "2222  Survey confirms property slowdown\\n\\nGovernmen...   \n",
       "2223  High fuel prices hit BA's profits\\n\\nBritish A...   \n",
       "2224  US trade gap hits record in 2004\\n\\nThe gap be...   \n",
       "\n",
       "                                              summaries categories  \n",
       "0     - Increase in the stamp duty threshold from Â£...   politics  \n",
       "1     \"They are very much not for the good and will ...   politics  \n",
       "2     Michael Howard has denied his shadow cabinet w...   politics  \n",
       "3     The report said individual registration should...   politics  \n",
       "4     UKIP's leader, Roger Knapman, has said he is g...   politics  \n",
       "...                                                 ...        ...  \n",
       "2220  India will allow domestic commercial airlines ...   business  \n",
       "2221  Yukos says a US court was entitled to declare ...   business  \n",
       "2222  House prices were 11.8% higher on the year in ...   business  \n",
       "2223  Rod Eddington, BA's chief executive, said the ...   business  \n",
       "2224  The Commerce Department said the trade deficit...   business  \n",
       "\n",
       "[2225 rows x 3 columns]"
      ]
     },
     "execution_count": 6,
     "metadata": {},
     "output_type": "execute_result"
    }
   ],
   "source": [
    "#creates the dataframe df with articles, summaries and categories storeed in key value pairs\n",
    "df = pd.DataFrame({'articles':articles, 'summaries':summaries, 'categories': categories},)\n",
    "df\n"
   ]
  },
  {
   "cell_type": "code",
   "execution_count": 7,
   "id": "28cfbc05",
   "metadata": {
    "execution": {
     "iopub.execute_input": "2023-04-07T21:57:15.203175Z",
     "iopub.status.busy": "2023-04-07T21:57:15.201765Z",
     "iopub.status.idle": "2023-04-07T21:57:15.212276Z",
     "shell.execute_reply": "2023-04-07T21:57:15.211322Z"
    },
    "papermill": {
     "duration": 0.018191,
     "end_time": "2023-04-07T21:57:15.214305",
     "exception": false,
     "start_time": "2023-04-07T21:57:15.196114",
     "status": "completed"
    },
    "tags": []
   },
   "outputs": [
    {
     "data": {
      "text/plain": [
       "0    politics\n",
       "1    politics\n",
       "2    politics\n",
       "3    politics\n",
       "4    politics\n",
       "Name: categories, dtype: object"
      ]
     },
     "execution_count": 7,
     "metadata": {},
     "output_type": "execute_result"
    }
   ],
   "source": [
    "df['categories'].head()"
   ]
  },
  {
   "cell_type": "code",
   "execution_count": 8,
   "id": "0088871c",
   "metadata": {
    "execution": {
     "iopub.execute_input": "2023-04-07T21:57:15.225981Z",
     "iopub.status.busy": "2023-04-07T21:57:15.224547Z",
     "iopub.status.idle": "2023-04-07T21:57:15.434687Z",
     "shell.execute_reply": "2023-04-07T21:57:15.433742Z"
    },
    "papermill": {
     "duration": 0.218296,
     "end_time": "2023-04-07T21:57:15.437072",
     "exception": false,
     "start_time": "2023-04-07T21:57:15.218776",
     "status": "completed"
    },
    "tags": []
   },
   "outputs": [
    {
     "data": {
      "image/png": "[encoded data removed]",
      "text/plain": [
       "<Figure size 640x480 with 1 Axes>"
      ]
     },
     "metadata": {},
     "output_type": "display_data"
    }
   ],
   "source": [
    "# group sizes by the various categories \n",
    "categ_sizes = df.groupby('categories').size() \n",
    "sns.barplot(x=categ_sizes.index, y=categ_sizes) # indexes are the different categories\n",
    "plt.show()"
   ]
  },
  {
   "cell_type": "markdown",
   "id": "b144b601",
   "metadata": {
    "papermill": {
     "duration": 0.004673,
     "end_time": "2023-04-07T21:57:15.447081",
     "exception": false,
     "start_time": "2023-04-07T21:57:15.442408",
     "status": "completed"
    },
    "tags": []
   },
   "source": [
    "Caclulating the number of words in each article & summary"
   ]
  },
  {
   "cell_type": "code",
   "execution_count": 9,
   "id": "6b34152c",
   "metadata": {
    "execution": {
     "iopub.execute_input": "2023-04-07T21:57:15.457988Z",
     "iopub.status.busy": "2023-04-07T21:57:15.457704Z",
     "iopub.status.idle": "2023-04-07T21:57:15.522161Z",
     "shell.execute_reply": "2023-04-07T21:57:15.521300Z"
    },
    "papermill": {
     "duration": 0.072767,
     "end_time": "2023-04-07T21:57:15.524603",
     "exception": false,
     "start_time": "2023-04-07T21:57:15.451836",
     "status": "completed"
    },
    "tags": []
   },
   "outputs": [],
   "source": [
    "# apply adds allows us to apply the lambda function and store output in the new columns into the dataframe\n",
    "# x is each article, x.split() split each word in x and len returns the final number of words\n",
    "df['article_len'] = df['articles'].apply(lambda x : len(x.split())) \n",
    "df['summary_len'] = df['summaries'].apply(lambda x : len(x.split()))\n"
   ]
  },
  {
   "cell_type": "code",
   "execution_count": 10,
   "id": "ef8020d3",
   "metadata": {
    "execution": {
     "iopub.execute_input": "2023-04-07T21:57:15.535258Z",
     "iopub.status.busy": "2023-04-07T21:57:15.534988Z",
     "iopub.status.idle": "2023-04-07T21:57:15.550130Z",
     "shell.execute_reply": "2023-04-07T21:57:15.549248Z"
    },
    "papermill": {
     "duration": 0.022771,
     "end_time": "2023-04-07T21:57:15.552130",
     "exception": false,
     "start_time": "2023-04-07T21:57:15.529359",
     "status": "completed"
    },
    "tags": []
   },
   "outputs": [
    {
     "data": {
      "text/html": [
       "<div>\n",
       "<style scoped>\n",
       "    .dataframe tbody tr th:only-of-type {\n",
       "        vertical-align: middle;\n",
       "    }\n",
       "\n",
       "    .dataframe tbody tr th {\n",
       "        vertical-align: top;\n",
       "    }\n",
       "\n",
       "    .dataframe thead th {\n",
       "        text-align: right;\n",
       "    }\n",
       "</style>\n",
       "<table border=\"1\" class=\"dataframe\">\n",
       "  <thead>\n",
       "    <tr style=\"text-align: right;\">\n",
       "      <th></th>\n",
       "      <th>articles</th>\n",
       "      <th>summaries</th>\n",
       "      <th>categories</th>\n",
       "      <th>article_len</th>\n",
       "      <th>summary_len</th>\n",
       "    </tr>\n",
       "  </thead>\n",
       "  <tbody>\n",
       "    <tr>\n",
       "      <th>0</th>\n",
       "      <td>Budget to set scene for election\\n\\nGordon Bro...</td>\n",
       "      <td>- Increase in the stamp duty threshold from Â£...</td>\n",
       "      <td>politics</td>\n",
       "      <td>538</td>\n",
       "      <td>192</td>\n",
       "    </tr>\n",
       "    <tr>\n",
       "      <th>1</th>\n",
       "      <td>Army chiefs in regiments decision\\n\\nMilitary ...</td>\n",
       "      <td>\"They are very much not for the good and will ...</td>\n",
       "      <td>politics</td>\n",
       "      <td>500</td>\n",
       "      <td>266</td>\n",
       "    </tr>\n",
       "    <tr>\n",
       "      <th>2</th>\n",
       "      <td>Howard denies split over ID cards\\n\\nMichael H...</td>\n",
       "      <td>Michael Howard has denied his shadow cabinet w...</td>\n",
       "      <td>politics</td>\n",
       "      <td>540</td>\n",
       "      <td>225</td>\n",
       "    </tr>\n",
       "    <tr>\n",
       "      <th>3</th>\n",
       "      <td>Observers to monitor UK election\\n\\nMinisters ...</td>\n",
       "      <td>The report said individual registration should...</td>\n",
       "      <td>politics</td>\n",
       "      <td>496</td>\n",
       "      <td>223</td>\n",
       "    </tr>\n",
       "    <tr>\n",
       "      <th>4</th>\n",
       "      <td>Kilroy names election seat target\\n\\nEx-chat s...</td>\n",
       "      <td>UKIP's leader, Roger Knapman, has said he is g...</td>\n",
       "      <td>politics</td>\n",
       "      <td>440</td>\n",
       "      <td>185</td>\n",
       "    </tr>\n",
       "    <tr>\n",
       "      <th>...</th>\n",
       "      <td>...</td>\n",
       "      <td>...</td>\n",
       "      <td>...</td>\n",
       "      <td>...</td>\n",
       "      <td>...</td>\n",
       "    </tr>\n",
       "    <tr>\n",
       "      <th>2220</th>\n",
       "      <td>India opens skies to competition\\n\\nIndia will...</td>\n",
       "      <td>India will allow domestic commercial airlines ...</td>\n",
       "      <td>business</td>\n",
       "      <td>225</td>\n",
       "      <td>90</td>\n",
       "    </tr>\n",
       "    <tr>\n",
       "      <th>2221</th>\n",
       "      <td>Yukos bankruptcy 'not US matter'\\n\\nRussian au...</td>\n",
       "      <td>Yukos says a US court was entitled to declare ...</td>\n",
       "      <td>business</td>\n",
       "      <td>398</td>\n",
       "      <td>180</td>\n",
       "    </tr>\n",
       "    <tr>\n",
       "      <th>2222</th>\n",
       "      <td>Survey confirms property slowdown\\n\\nGovernmen...</td>\n",
       "      <td>House prices were 11.8% higher on the year in ...</td>\n",
       "      <td>business</td>\n",
       "      <td>322</td>\n",
       "      <td>120</td>\n",
       "    </tr>\n",
       "    <tr>\n",
       "      <th>2223</th>\n",
       "      <td>High fuel prices hit BA's profits\\n\\nBritish A...</td>\n",
       "      <td>Rod Eddington, BA's chief executive, said the ...</td>\n",
       "      <td>business</td>\n",
       "      <td>406</td>\n",
       "      <td>197</td>\n",
       "    </tr>\n",
       "    <tr>\n",
       "      <th>2224</th>\n",
       "      <td>US trade gap hits record in 2004\\n\\nThe gap be...</td>\n",
       "      <td>The Commerce Department said the trade deficit...</td>\n",
       "      <td>business</td>\n",
       "      <td>328</td>\n",
       "      <td>148</td>\n",
       "    </tr>\n",
       "  </tbody>\n",
       "</table>\n",
       "<p>2225 rows × 5 columns</p>\n",
       "</div>"
      ],
      "text/plain": [
       "                                               articles  \\\n",
       "0     Budget to set scene for election\\n\\nGordon Bro...   \n",
       "1     Army chiefs in regiments decision\\n\\nMilitary ...   \n",
       "2     Howard denies split over ID cards\\n\\nMichael H...   \n",
       "3     Observers to monitor UK election\\n\\nMinisters ...   \n",
       "4     Kilroy names election seat target\\n\\nEx-chat s...   \n",
       "...                                                 ...   \n",
       "2220  India opens skies to competition\\n\\nIndia will...   \n",
       "2221  Yukos bankruptcy 'not US matter'\\n\\nRussian au...   \n",
       "2222  Survey confirms property slowdown\\n\\nGovernmen...   \n",
       "2223  High fuel prices hit BA's profits\\n\\nBritish A...   \n",
       "2224  US trade gap hits record in 2004\\n\\nThe gap be...   \n",
       "\n",
       "                                              summaries categories  \\\n",
       "0     - Increase in the stamp duty threshold from Â£...   politics   \n",
       "1     \"They are very much not for the good and will ...   politics   \n",
       "2     Michael Howard has denied his shadow cabinet w...   politics   \n",
       "3     The report said individual registration should...   politics   \n",
       "4     UKIP's leader, Roger Knapman, has said he is g...   politics   \n",
       "...                                                 ...        ...   \n",
       "2220  India will allow domestic commercial airlines ...   business   \n",
       "2221  Yukos says a US court was entitled to declare ...   business   \n",
       "2222  House prices were 11.8% higher on the year in ...   business   \n",
       "2223  Rod Eddington, BA's chief executive, said the ...   business   \n",
       "2224  The Commerce Department said the trade deficit...   business   \n",
       "\n",
       "      article_len  summary_len  \n",
       "0             538          192  \n",
       "1             500          266  \n",
       "2             540          225  \n",
       "3             496          223  \n",
       "4             440          185  \n",
       "...           ...          ...  \n",
       "2220          225           90  \n",
       "2221          398          180  \n",
       "2222          322          120  \n",
       "2223          406          197  \n",
       "2224          328          148  \n",
       "\n",
       "[2225 rows x 5 columns]"
      ]
     },
     "execution_count": 10,
     "metadata": {},
     "output_type": "execute_result"
    }
   ],
   "source": [
    "df"
   ]
  },
  {
   "cell_type": "code",
   "execution_count": 11,
   "id": "4f9dd4ec",
   "metadata": {
    "execution": {
     "iopub.execute_input": "2023-04-07T21:57:15.563840Z",
     "iopub.status.busy": "2023-04-07T21:57:15.563574Z",
     "iopub.status.idle": "2023-04-07T21:57:15.577231Z",
     "shell.execute_reply": "2023-04-07T21:57:15.576299Z"
    },
    "papermill": {
     "duration": 0.021879,
     "end_time": "2023-04-07T21:57:15.579249",
     "exception": false,
     "start_time": "2023-04-07T21:57:15.557370",
     "status": "completed"
    },
    "tags": []
   },
   "outputs": [
    {
     "data": {
      "text/html": [
       "<div>\n",
       "<style scoped>\n",
       "    .dataframe tbody tr th:only-of-type {\n",
       "        vertical-align: middle;\n",
       "    }\n",
       "\n",
       "    .dataframe tbody tr th {\n",
       "        vertical-align: top;\n",
       "    }\n",
       "\n",
       "    .dataframe thead th {\n",
       "        text-align: right;\n",
       "    }\n",
       "</style>\n",
       "<table border=\"1\" class=\"dataframe\">\n",
       "  <thead>\n",
       "    <tr style=\"text-align: right;\">\n",
       "      <th></th>\n",
       "      <th>article_len</th>\n",
       "      <th>summary_len</th>\n",
       "    </tr>\n",
       "    <tr>\n",
       "      <th>categories</th>\n",
       "      <th></th>\n",
       "      <th></th>\n",
       "    </tr>\n",
       "  </thead>\n",
       "  <tbody>\n",
       "    <tr>\n",
       "      <th>business</th>\n",
       "      <td>328.880392</td>\n",
       "      <td>139.929412</td>\n",
       "    </tr>\n",
       "    <tr>\n",
       "      <th>entertainment</th>\n",
       "      <td>330.621762</td>\n",
       "      <td>144.049223</td>\n",
       "    </tr>\n",
       "    <tr>\n",
       "      <th>politics</th>\n",
       "      <td>453.973621</td>\n",
       "      <td>195.709832</td>\n",
       "    </tr>\n",
       "    <tr>\n",
       "      <th>sport</th>\n",
       "      <td>329.262231</td>\n",
       "      <td>143.187867</td>\n",
       "    </tr>\n",
       "    <tr>\n",
       "      <th>tech</th>\n",
       "      <td>502.695761</td>\n",
       "      <td>213.837905</td>\n",
       "    </tr>\n",
       "  </tbody>\n",
       "</table>\n",
       "</div>"
      ],
      "text/plain": [
       "               article_len  summary_len\n",
       "categories                             \n",
       "business        328.880392   139.929412\n",
       "entertainment   330.621762   144.049223\n",
       "politics        453.973621   195.709832\n",
       "sport           329.262231   143.187867\n",
       "tech            502.695761   213.837905"
      ]
     },
     "execution_count": 11,
     "metadata": {},
     "output_type": "execute_result"
    }
   ],
   "source": [
    "# 0 means x axis\\\n",
    "# check mean length of all articles per category\n",
    "category_wise_len = df.groupby('categories', 0).agg({'article_len': 'mean', 'summary_len': 'mean'})\n",
    "category_wise_len"
   ]
  },
  {
   "cell_type": "code",
   "execution_count": 12,
   "id": "2dd7d39c",
   "metadata": {
    "execution": {
     "iopub.execute_input": "2023-04-07T21:57:15.591179Z",
     "iopub.status.busy": "2023-04-07T21:57:15.590911Z",
     "iopub.status.idle": "2023-04-07T21:57:16.601601Z",
     "shell.execute_reply": "2023-04-07T21:57:16.600331Z"
    },
    "papermill": {
     "duration": 1.019264,
     "end_time": "2023-04-07T21:57:16.604121",
     "exception": false,
     "start_time": "2023-04-07T21:57:15.584857",
     "status": "completed"
    },
    "tags": []
   },
   "outputs": [
    {
     "name": "stdout",
     "output_type": "stream",
     "text": [
      "Fri Apr  7 21:57:16 2023       \r\n",
      "+-----------------------------------------------------------------------------+\r\n",
      "| NVIDIA-SMI 470.161.03   Driver Version: 470.161.03   CUDA Version: 11.4     |\r\n",
      "|-------------------------------+----------------------+----------------------+\r\n",
      "| GPU  Name        Persistence-M| Bus-Id        Disp.A | Volatile Uncorr. ECC |\r\n",
      "| Fan  Temp  Perf  Pwr:Usage/Cap|         Memory-Usage | GPU-Util  Compute M. |\r\n",
      "|                               |                      |               MIG M. |\r\n",
      "|===============================+======================+======================|\r\n",
      "|   0  Tesla P100-PCIE...  Off  | 00000000:00:04.0 Off |                    0 |\r\n",
      "| N/A   42C    P0    28W / 250W |      0MiB / 16280MiB |      0%      Default |\r\n",
      "|                               |                      |                  N/A |\r\n",
      "+-------------------------------+----------------------+----------------------+\r\n",
      "                                                                               \r\n",
      "+-----------------------------------------------------------------------------+\r\n",
      "| Processes:                                                                  |\r\n",
      "|  GPU   GI   CI        PID   Type   Process name                  GPU Memory |\r\n",
      "|        ID   ID                                                   Usage      |\r\n",
      "|=============================================================================|\r\n",
      "|  No running processes found                                                 |\r\n",
      "+-----------------------------------------------------------------------------+\r\n"
     ]
    }
   ],
   "source": [
    "!nvidia-smi"
   ]
  },
  {
   "cell_type": "code",
   "execution_count": 13,
   "id": "716b636a",
   "metadata": {
    "execution": {
     "iopub.execute_input": "2023-04-07T21:57:16.617935Z",
     "iopub.status.busy": "2023-04-07T21:57:16.616958Z",
     "iopub.status.idle": "2023-04-07T21:57:45.557414Z",
     "shell.execute_reply": "2023-04-07T21:57:45.556163Z"
    },
    "papermill": {
     "duration": 28.950396,
     "end_time": "2023-04-07T21:57:45.560081",
     "exception": false,
     "start_time": "2023-04-07T21:57:16.609685",
     "status": "completed"
    },
    "tags": []
   },
   "outputs": [
    {
     "name": "stdout",
     "output_type": "stream",
     "text": [
      "\u001b[33mWARNING: Running pip as the 'root' user can result in broken permissions and conflicting behaviour with the system package manager. It is recommended to use a virtual environment instead: https://pip.pypa.io/warnings/venv\u001b[0m\u001b[33m\r\n",
      "\u001b[0m\u001b[33mWARNING: Running pip as the 'root' user can result in broken permissions and conflicting behaviour with the system package manager. It is recommended to use a virtual environment instead: https://pip.pypa.io/warnings/venv\u001b[0m\u001b[33m\r\n",
      "\u001b[0m"
     ]
    }
   ],
   "source": [
    "!pip install --quiet transformers==4.5.0\n",
    "!pip install --quiet pytorch-lightning==1.2.7"
   ]
  },
  {
   "cell_type": "code",
   "execution_count": null,
   "id": "0cbc5681",
   "metadata": {
    "papermill": {
     "duration": 0.005269,
     "end_time": "2023-04-07T21:57:45.571157",
     "exception": false,
     "start_time": "2023-04-07T21:57:45.565888",
     "status": "completed"
    },
    "tags": []
   },
   "outputs": [],
   "source": []
  }
 ],
 "metadata": {
  "kernelspec": {
   "display_name": "Python 3",
   "language": "python",
   "name": "python3"
  },
  "language_info": {
   "codemirror_mode": {
    "name": "ipython",
    "version": 3
   },
   "file_extension": ".py",
   "mimetype": "text/x-python",
   "name": "python",
   "nbconvert_exporter": "python",
   "pygments_lexer": "ipython3",
   "version": "3.7.12"
  },
  "papermill": {
   "default_parameters": {},
   "duration": 55.316239,
   "end_time": "2023-04-07T21:57:46.199216",
   "environment_variables": {},
   "exception": null,
   "input_path": "__notebook__.ipynb",
   "output_path": "__notebook__.ipynb",
   "parameters": {},
   "start_time": "2023-04-07T21:56:50.882977",
   "version": "2.4.0"
  }
 },
 "nbformat": 4,
 "nbformat_minor": 5
}
