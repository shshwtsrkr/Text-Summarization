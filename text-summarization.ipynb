{
 "cells": [
  {
   "cell_type": "code",
   "execution_count": 1,
   "id": "986d7cad",
   "metadata": {
    "_cell_guid": "b1076dfc-b9ad-4769-8c92-a6c4dae69d19",
    "_uuid": "8f2839f25d086af736a60e9eeb907d3b93b6e0e5",
    "execution": {
     "iopub.execute_input": "2023-04-03T23:55:04.778838Z",
     "iopub.status.busy": "2023-04-03T23:55:04.778250Z",
     "iopub.status.idle": "2023-04-03T23:55:05.782042Z",
     "shell.execute_reply": "2023-04-03T23:55:05.781032Z"
    },
    "papermill": {
     "duration": 1.017177,
     "end_time": "2023-04-03T23:55:05.784714",
     "exception": false,
     "start_time": "2023-04-03T23:55:04.767537",
     "status": "completed"
    },
    "tags": []
   },
   "outputs": [],
   "source": [
    "import os\n",
    "import time\n",
    "import glob\n",
    "import pathlib\n",
    "\n",
    "import numpy as np\n",
    "import pandas as pd\n",
    "import matplotlib.pyplot as plt\n",
    "import seaborn as sns\n",
    "\n",
    "\n"
   ]
  },
  {
   "cell_type": "code",
   "execution_count": 2,
   "id": "da8e7e3f",
   "metadata": {
    "execution": {
     "iopub.execute_input": "2023-04-03T23:55:05.790708Z",
     "iopub.status.busy": "2023-04-03T23:55:05.789956Z",
     "iopub.status.idle": "2023-04-03T23:55:05.800689Z",
     "shell.execute_reply": "2023-04-03T23:55:05.799633Z"
    },
    "papermill": {
     "duration": 0.015768,
     "end_time": "2023-04-03T23:55:05.802803",
     "exception": false,
     "start_time": "2023-04-03T23:55:05.787035",
     "status": "completed"
    },
    "tags": []
   },
   "outputs": [
    {
     "data": {
      "text/plain": [
       "['politics', 'sport', 'tech', 'entertainment', 'business']"
      ]
     },
     "execution_count": 2,
     "metadata": {},
     "output_type": "execute_result"
    }
   ],
   "source": [
    "os.listdir('/kaggle/input/bbc-news-summary/BBC News Summary/Summaries/') # categories of summaries"
   ]
  },
  {
   "cell_type": "code",
   "execution_count": 3,
   "id": "ffc68224",
   "metadata": {
    "execution": {
     "iopub.execute_input": "2023-04-03T23:55:05.808361Z",
     "iopub.status.busy": "2023-04-03T23:55:05.807714Z",
     "iopub.status.idle": "2023-04-03T23:55:05.812950Z",
     "shell.execute_reply": "2023-04-03T23:55:05.812099Z"
    },
    "papermill": {
     "duration": 0.010237,
     "end_time": "2023-04-03T23:55:05.815043",
     "exception": false,
     "start_time": "2023-04-03T23:55:05.804806",
     "status": "completed"
    },
    "tags": []
   },
   "outputs": [],
   "source": [
    "# Now we define paths for articles, summaries and maintain a list of categories of our data\n",
    "article_path = '/kaggle/input/bbc-news-summary/BBC News Summary/News Articles'\n",
    "summary_path = '/kaggle/input/bbc-news-summary/BBC News Summary/Summaries'\n",
    "categories = ['politics', 'sport', 'tech', 'entertainment', 'business']"
   ]
  },
  {
   "cell_type": "code",
   "execution_count": 4,
   "id": "3e62b968",
   "metadata": {
    "execution": {
     "iopub.execute_input": "2023-04-03T23:55:05.820357Z",
     "iopub.status.busy": "2023-04-03T23:55:05.820072Z",
     "iopub.status.idle": "2023-04-03T23:55:05.828737Z",
     "shell.execute_reply": "2023-04-03T23:55:05.827887Z"
    },
    "papermill": {
     "duration": 0.013876,
     "end_time": "2023-04-03T23:55:05.830871",
     "exception": false,
     "start_time": "2023-04-03T23:55:05.816995",
     "status": "completed"
    },
    "tags": []
   },
   "outputs": [],
   "source": [
    "def read_in_folders(article_path, summary_path, categories, encoding = \"ISO-8859-1\"):\n",
    "    articles = []\n",
    "    summaries = []\n",
    "    categs = []\n",
    "    \n",
    "    for categs in categories:\n",
    "        article_paths = glob.glob(os.path.join(article_path, categs, '*.txt'), recursive=True)\n",
    "        summary_paths = glob.glob(os.path.join(summary_path, categs, '*.txt'), recursive=True)\n",
    "        print(f'found {len(article_paths)} in articles/{categs} folder, {len(summary_paths)} in summaries/{categs}\\n')\n",
    "        \n",
    "        if(len(article_paths) != len(summary_paths)):\n",
    "            print('Both are not equal')\n",
    "            return \n",
    "        \n",
    "        # put all articles per category in articles\n",
    "        for index in range(len(article_paths)):\n",
    "            with open(article_paths[index], mode = 'r', encoding = encoding) as file:\n",
    "                articles.append(file.read())\n",
    "                \n",
    "            with open(summary_paths[index], mode = 'r', encoding = encoding) as file:\n",
    "                summaries.append(file.read())\n",
    "                \n",
    "    return articles, summaries, categs"
   ]
  },
  {
   "cell_type": "code",
   "execution_count": 5,
   "id": "e4caa137",
   "metadata": {
    "execution": {
     "iopub.execute_input": "2023-04-03T23:55:05.835804Z",
     "iopub.status.busy": "2023-04-03T23:55:05.835548Z",
     "iopub.status.idle": "2023-04-03T23:55:18.689259Z",
     "shell.execute_reply": "2023-04-03T23:55:18.688237Z"
    },
    "papermill": {
     "duration": 12.859308,
     "end_time": "2023-04-03T23:55:18.692115",
     "exception": false,
     "start_time": "2023-04-03T23:55:05.832807",
     "status": "completed"
    },
    "tags": []
   },
   "outputs": [
    {
     "name": "stdout",
     "output_type": "stream",
     "text": [
      "found 417 in articles/politics folder, 417 in summaries/politics\n",
      "\n",
      "found 511 in articles/sport folder, 511 in summaries/sport\n",
      "\n",
      "found 401 in articles/tech folder, 401 in summaries/tech\n",
      "\n",
      "found 386 in articles/entertainment folder, 386 in summaries/entertainment\n",
      "\n",
      "found 510 in articles/business folder, 510 in summaries/business\n",
      "\n"
     ]
    }
   ],
   "source": [
    "articles, summaries, categories = read_in_folders(article_path, summary_path, categories)"
   ]
  },
  {
   "cell_type": "code",
   "execution_count": null,
   "id": "ca992622",
   "metadata": {
    "papermill": {
     "duration": 0.002105,
     "end_time": "2023-04-03T23:55:18.696783",
     "exception": false,
     "start_time": "2023-04-03T23:55:18.694678",
     "status": "completed"
    },
    "tags": []
   },
   "outputs": [],
   "source": []
  }
 ],
 "metadata": {
  "kernelspec": {
   "display_name": "Python 3",
   "language": "python",
   "name": "python3"
  },
  "language_info": {
   "codemirror_mode": {
    "name": "ipython",
    "version": 3
   },
   "file_extension": ".py",
   "mimetype": "text/x-python",
   "name": "python",
   "nbconvert_exporter": "python",
   "pygments_lexer": "ipython3",
   "version": "3.7.12"
  },
  "papermill": {
   "default_parameters": {},
   "duration": 24.473383,
   "end_time": "2023-04-03T23:55:19.218084",
   "environment_variables": {},
   "exception": null,
   "input_path": "__notebook__.ipynb",
   "output_path": "__notebook__.ipynb",
   "parameters": {},
   "start_time": "2023-04-03T23:54:54.744701",
   "version": "2.4.0"
  }
 },
 "nbformat": 4,
 "nbformat_minor": 5
}
