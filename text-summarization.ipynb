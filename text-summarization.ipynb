{
 "cells": [
  {
   "cell_type": "code",
   "execution_count": 1,
   "id": "8b64e44d",
   "metadata": {
    "_cell_guid": "b1076dfc-b9ad-4769-8c92-a6c4dae69d19",
    "_uuid": "8f2839f25d086af736a60e9eeb907d3b93b6e0e5",
    "execution": {
     "iopub.execute_input": "2023-04-03T23:33:00.950935Z",
     "iopub.status.busy": "2023-04-03T23:33:00.950515Z",
     "iopub.status.idle": "2023-04-03T23:33:02.010992Z",
     "shell.execute_reply": "2023-04-03T23:33:02.009972Z"
    },
    "papermill": {
     "duration": 1.068319,
     "end_time": "2023-04-03T23:33:02.013914",
     "exception": false,
     "start_time": "2023-04-03T23:33:00.945595",
     "status": "completed"
    },
    "tags": []
   },
   "outputs": [],
   "source": [
    "import os\n",
    "import time\n",
    "import glob\n",
    "import pathlib\n",
    "\n",
    "import numpy as np\n",
    "import pandas as pd\n",
    "import matplotlib.pyplot as plt\n",
    "import seaborn as sns\n",
    "\n",
    "\n"
   ]
  },
  {
   "cell_type": "code",
   "execution_count": 2,
   "id": "efcb3c19",
   "metadata": {
    "execution": {
     "iopub.execute_input": "2023-04-03T23:33:02.019583Z",
     "iopub.status.busy": "2023-04-03T23:33:02.018544Z",
     "iopub.status.idle": "2023-04-03T23:33:02.031648Z",
     "shell.execute_reply": "2023-04-03T23:33:02.030578Z"
    },
    "papermill": {
     "duration": 0.019027,
     "end_time": "2023-04-03T23:33:02.034934",
     "exception": false,
     "start_time": "2023-04-03T23:33:02.015907",
     "status": "completed"
    },
    "tags": []
   },
   "outputs": [
    {
     "data": {
      "text/plain": [
       "['politics', 'sport', 'tech', 'entertainment', 'business']"
      ]
     },
     "execution_count": 2,
     "metadata": {},
     "output_type": "execute_result"
    }
   ],
   "source": [
    "os.listdir('/kaggle/input/bbc-news-summary/BBC News Summary/Summaries/') # categories of summaries"
   ]
  },
  {
   "cell_type": "code",
   "execution_count": 3,
   "id": "4a4d3536",
   "metadata": {
    "execution": {
     "iopub.execute_input": "2023-04-03T23:33:02.039812Z",
     "iopub.status.busy": "2023-04-03T23:33:02.039527Z",
     "iopub.status.idle": "2023-04-03T23:33:02.045057Z",
     "shell.execute_reply": "2023-04-03T23:33:02.044154Z"
    },
    "papermill": {
     "duration": 0.010478,
     "end_time": "2023-04-03T23:33:02.047198",
     "exception": false,
     "start_time": "2023-04-03T23:33:02.036720",
     "status": "completed"
    },
    "tags": []
   },
   "outputs": [],
   "source": [
    "# Now we define paths for articles, summaries and maintain a list of categories of our data\n",
    "article_path = '/kaggle/input/bbc-news-summary/BBC News Summary/News Articles'\n",
    "summary_path = '/kaggle/input/bbc-news-summary/BBC News Summary/Summaries/'\n",
    "categories = ['politics', 'sport', 'tech', 'entertainment', 'business']"
   ]
  },
  {
   "cell_type": "code",
   "execution_count": null,
   "id": "d0c3a4a3",
   "metadata": {
    "papermill": {
     "duration": 0.001521,
     "end_time": "2023-04-03T23:33:02.050445",
     "exception": false,
     "start_time": "2023-04-03T23:33:02.048924",
     "status": "completed"
    },
    "tags": []
   },
   "outputs": [],
   "source": []
  }
 ],
 "metadata": {
  "kernelspec": {
   "display_name": "Python 3",
   "language": "python",
   "name": "python3"
  },
  "language_info": {
   "codemirror_mode": {
    "name": "ipython",
    "version": 3
   },
   "file_extension": ".py",
   "mimetype": "text/x-python",
   "name": "python",
   "nbconvert_exporter": "python",
   "pygments_lexer": "ipython3",
   "version": "3.7.12"
  },
  "papermill": {
   "default_parameters": {},
   "duration": 11.524834,
   "end_time": "2023-04-03T23:33:02.571544",
   "environment_variables": {},
   "exception": null,
   "input_path": "__notebook__.ipynb",
   "output_path": "__notebook__.ipynb",
   "parameters": {},
   "start_time": "2023-04-03T23:32:51.046710",
   "version": "2.4.0"
  }
 },
 "nbformat": 4,
 "nbformat_minor": 5
}
