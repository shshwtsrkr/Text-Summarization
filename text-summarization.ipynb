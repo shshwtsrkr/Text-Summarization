{
 "cells": [
  {
   "cell_type": "markdown",
   "id": "26cf9151",
   "metadata": {
    "papermill": {
     "duration": 0.011651,
     "end_time": "2023-04-08T12:48:03.536150",
     "exception": false,
     "start_time": "2023-04-08T12:48:03.524499",
     "status": "completed"
    },
    "tags": []
   },
   "source": [
    "Import required libraries"
   ]
  },
  {
   "cell_type": "code",
   "execution_count": 1,
   "id": "8c38abb8",
   "metadata": {
    "execution": {
     "iopub.execute_input": "2023-04-08T12:48:03.558593Z",
     "iopub.status.busy": "2023-04-08T12:48:03.558078Z",
     "iopub.status.idle": "2023-04-08T12:48:04.608709Z",
     "shell.execute_reply": "2023-04-08T12:48:04.607638Z"
    },
    "papermill": {
     "duration": 1.065061,
     "end_time": "2023-04-08T12:48:04.611649",
     "exception": false,
     "start_time": "2023-04-08T12:48:03.546588",
     "status": "completed"
    },
    "tags": []
   },
   "outputs": [],
   "source": [
    "# to work with the file system and folder structure\n",
    "import os\n",
    "import time\n",
    "import glob\n",
    "import pathlib\n",
    "\n",
    "import numpy as np # to work with arrays\n",
    "import pandas as pd # to work with dataframes\n",
    "import matplotlib.pyplot as plt # to plot graphs for data and accuracy\n",
    "import seaborn as sns # to plot graphs for data and accuracy"
   ]
  },
  {
   "cell_type": "markdown",
   "id": "eba93f10",
   "metadata": {
    "papermill": {
     "duration": 0.009784,
     "end_time": "2023-04-08T12:48:04.632258",
     "exception": false,
     "start_time": "2023-04-08T12:48:04.622474",
     "status": "completed"
    },
    "tags": []
   },
   "source": [
    "Check categories of news articles available"
   ]
  },
  {
   "cell_type": "code",
   "execution_count": 2,
   "id": "0cfb147b",
   "metadata": {
    "execution": {
     "iopub.execute_input": "2023-04-08T12:48:04.654771Z",
     "iopub.status.busy": "2023-04-08T12:48:04.654416Z",
     "iopub.status.idle": "2023-04-08T12:48:04.668496Z",
     "shell.execute_reply": "2023-04-08T12:48:04.667389Z"
    },
    "papermill": {
     "duration": 0.027196,
     "end_time": "2023-04-08T12:48:04.670680",
     "exception": false,
     "start_time": "2023-04-08T12:48:04.643484",
     "status": "completed"
    },
    "tags": []
   },
   "outputs": [
    {
     "data": {
      "text/plain": [
       "['politics', 'sport', 'tech', 'entertainment', 'business']"
      ]
     },
     "execution_count": 2,
     "metadata": {},
     "output_type": "execute_result"
    }
   ],
   "source": [
    "os.listdir('/kaggle/input/bbc-news-summary/BBC News Summary/Summaries/')"
   ]
  },
  {
   "cell_type": "markdown",
   "id": "8efdc84c",
   "metadata": {
    "papermill": {
     "duration": 0.009785,
     "end_time": "2023-04-08T12:48:04.690857",
     "exception": false,
     "start_time": "2023-04-08T12:48:04.681072",
     "status": "completed"
    },
    "tags": []
   },
   "source": [
    "Defining paths for variables for articles and summaries along with setting a list for categories of news articles"
   ]
  },
  {
   "cell_type": "code",
   "execution_count": 3,
   "id": "74e49f35",
   "metadata": {
    "execution": {
     "iopub.execute_input": "2023-04-08T12:48:04.713785Z",
     "iopub.status.busy": "2023-04-08T12:48:04.712910Z",
     "iopub.status.idle": "2023-04-08T12:48:04.718220Z",
     "shell.execute_reply": "2023-04-08T12:48:04.717308Z"
    },
    "papermill": {
     "duration": 0.01899,
     "end_time": "2023-04-08T12:48:04.720317",
     "exception": false,
     "start_time": "2023-04-08T12:48:04.701327",
     "status": "completed"
    },
    "tags": []
   },
   "outputs": [],
   "source": [
    "# Now we define paths for articles, summaries and maintain a list of categories of our data\n",
    "article_path = '/kaggle/input/bbc-news-summary/BBC News Summary/News Articles'\n",
    "summary_path = '/kaggle/input/bbc-news-summary/BBC News Summary/Summaries'\n",
    "categories_list = ['politics', 'sport', 'tech', 'entertainment', 'business']"
   ]
  },
  {
   "cell_type": "markdown",
   "id": "5930454b",
   "metadata": {
    "papermill": {
     "duration": 0.009989,
     "end_time": "2023-04-08T12:48:04.740511",
     "exception": false,
     "start_time": "2023-04-08T12:48:04.730522",
     "status": "completed"
    },
    "tags": []
   },
   "source": [
    "**purpose of the function** : to read into the folders and store articles, summaries and categories into variables."
   ]
  },
  {
   "cell_type": "code",
   "execution_count": 4,
   "id": "2881cb48",
   "metadata": {
    "execution": {
     "iopub.execute_input": "2023-04-08T12:48:04.762744Z",
     "iopub.status.busy": "2023-04-08T12:48:04.761883Z",
     "iopub.status.idle": "2023-04-08T12:48:04.771075Z",
     "shell.execute_reply": "2023-04-08T12:48:04.770028Z"
    },
    "papermill": {
     "duration": 0.022415,
     "end_time": "2023-04-08T12:48:04.773320",
     "exception": false,
     "start_time": "2023-04-08T12:48:04.750905",
     "status": "completed"
    },
    "tags": []
   },
   "outputs": [],
   "source": [
    "# providing inputs for articles, summaries and categories\n",
    "def read_in_folders(article_path, summary_path, categories_list, encoding = \"ISO-8859-1\"):\n",
    "    articles = []\n",
    "    summaries = []\n",
    "    categories = []\n",
    "    \n",
    "    \n",
    "    for category in categories_list: # category iterates over the entire list of categories one by one\n",
    "        \n",
    "        # store all articles & summaries in the variables respectively for a given category, recursively\n",
    "        # therefore, essentially it make a list for all artivles and summaries per category, in the end it stores it for all categories\n",
    "        article_paths = glob.glob(os.path.join(article_path, category, '*.txt'), recursive=True)\n",
    "        summary_paths = glob.glob(os.path.join(summary_path, category, '*.txt'), recursive=True)\n",
    "        \n",
    "        print(f'found {len(article_paths)} in articles/{category} folder, {len(summary_paths)} in summaries/{category}')\n",
    "        \n",
    "        # check if number of articles & summaries are same or not\n",
    "        if(len(article_paths) != len(summary_paths)):\n",
    "            print('Both are not equal')\n",
    "            return \n",
    "        \n",
    "        # put the content of all articles per category in articles\n",
    "        for index in range(len(article_paths)):\n",
    "            categories.append(category)\n",
    "            with open(article_paths[index], mode = 'r', encoding = encoding) as file:\n",
    "                articles.append(file.read())\n",
    "                \n",
    "            with open(summary_paths[index], mode = 'r', encoding = encoding) as file:\n",
    "                summaries.append(file.read())\n",
    "                \n",
    "    return articles, summaries, categories"
   ]
  },
  {
   "cell_type": "code",
   "execution_count": 5,
   "id": "1ab5d357",
   "metadata": {
    "execution": {
     "iopub.execute_input": "2023-04-08T12:48:04.794603Z",
     "iopub.status.busy": "2023-04-08T12:48:04.793769Z",
     "iopub.status.idle": "2023-04-08T12:48:23.509276Z",
     "shell.execute_reply": "2023-04-08T12:48:23.508204Z"
    },
    "papermill": {
     "duration": 18.728858,
     "end_time": "2023-04-08T12:48:23.511898",
     "exception": false,
     "start_time": "2023-04-08T12:48:04.783040",
     "status": "completed"
    },
    "tags": []
   },
   "outputs": [
    {
     "name": "stdout",
     "output_type": "stream",
     "text": [
      "found 417 in articles/politics folder, 417 in summaries/politics\n",
      "found 511 in articles/sport folder, 511 in summaries/sport\n",
      "found 401 in articles/tech folder, 401 in summaries/tech\n",
      "found 386 in articles/entertainment folder, 386 in summaries/entertainment\n",
      "found 510 in articles/business folder, 510 in summaries/business\n"
     ]
    }
   ],
   "source": [
    "#store the return values into the variables\n",
    "articles, summaries, categories = read_in_folders(article_path, summary_path, categories_list)"
   ]
  },
  {
   "cell_type": "markdown",
   "id": "dff48bc4",
   "metadata": {
    "papermill": {
     "duration": 0.010687,
     "end_time": "2023-04-08T12:48:23.533699",
     "exception": false,
     "start_time": "2023-04-08T12:48:23.523012",
     "status": "completed"
    },
    "tags": []
   },
   "source": [
    "Create a dataframe to work with the data"
   ]
  },
  {
   "cell_type": "code",
   "execution_count": 6,
   "id": "50f0cbe1",
   "metadata": {
    "execution": {
     "iopub.execute_input": "2023-04-08T12:48:23.556410Z",
     "iopub.status.busy": "2023-04-08T12:48:23.556086Z",
     "iopub.status.idle": "2023-04-08T12:48:23.581377Z",
     "shell.execute_reply": "2023-04-08T12:48:23.580474Z"
    },
    "papermill": {
     "duration": 0.039298,
     "end_time": "2023-04-08T12:48:23.583584",
     "exception": false,
     "start_time": "2023-04-08T12:48:23.544286",
     "status": "completed"
    },
    "tags": []
   },
   "outputs": [
    {
     "data": {
      "text/html": [
       "<div>\n",
       "<style scoped>\n",
       "    .dataframe tbody tr th:only-of-type {\n",
       "        vertical-align: middle;\n",
       "    }\n",
       "\n",
       "    .dataframe tbody tr th {\n",
       "        vertical-align: top;\n",
       "    }\n",
       "\n",
       "    .dataframe thead th {\n",
       "        text-align: right;\n",
       "    }\n",
       "</style>\n",
       "<table border=\"1\" class=\"dataframe\">\n",
       "  <thead>\n",
       "    <tr style=\"text-align: right;\">\n",
       "      <th></th>\n",
       "      <th>articles</th>\n",
       "      <th>summaries</th>\n",
       "      <th>categories</th>\n",
       "    </tr>\n",
       "  </thead>\n",
       "  <tbody>\n",
       "    <tr>\n",
       "      <th>0</th>\n",
       "      <td>Budget to set scene for election\\n\\nGordon Bro...</td>\n",
       "      <td>- Increase in the stamp duty threshold from Â£...</td>\n",
       "      <td>politics</td>\n",
       "    </tr>\n",
       "    <tr>\n",
       "      <th>1</th>\n",
       "      <td>Army chiefs in regiments decision\\n\\nMilitary ...</td>\n",
       "      <td>\"They are very much not for the good and will ...</td>\n",
       "      <td>politics</td>\n",
       "    </tr>\n",
       "    <tr>\n",
       "      <th>2</th>\n",
       "      <td>Howard denies split over ID cards\\n\\nMichael H...</td>\n",
       "      <td>Michael Howard has denied his shadow cabinet w...</td>\n",
       "      <td>politics</td>\n",
       "    </tr>\n",
       "    <tr>\n",
       "      <th>3</th>\n",
       "      <td>Observers to monitor UK election\\n\\nMinisters ...</td>\n",
       "      <td>The report said individual registration should...</td>\n",
       "      <td>politics</td>\n",
       "    </tr>\n",
       "    <tr>\n",
       "      <th>4</th>\n",
       "      <td>Kilroy names election seat target\\n\\nEx-chat s...</td>\n",
       "      <td>UKIP's leader, Roger Knapman, has said he is g...</td>\n",
       "      <td>politics</td>\n",
       "    </tr>\n",
       "    <tr>\n",
       "      <th>...</th>\n",
       "      <td>...</td>\n",
       "      <td>...</td>\n",
       "      <td>...</td>\n",
       "    </tr>\n",
       "    <tr>\n",
       "      <th>2220</th>\n",
       "      <td>India opens skies to competition\\n\\nIndia will...</td>\n",
       "      <td>India will allow domestic commercial airlines ...</td>\n",
       "      <td>business</td>\n",
       "    </tr>\n",
       "    <tr>\n",
       "      <th>2221</th>\n",
       "      <td>Yukos bankruptcy 'not US matter'\\n\\nRussian au...</td>\n",
       "      <td>Yukos says a US court was entitled to declare ...</td>\n",
       "      <td>business</td>\n",
       "    </tr>\n",
       "    <tr>\n",
       "      <th>2222</th>\n",
       "      <td>Survey confirms property slowdown\\n\\nGovernmen...</td>\n",
       "      <td>House prices were 11.8% higher on the year in ...</td>\n",
       "      <td>business</td>\n",
       "    </tr>\n",
       "    <tr>\n",
       "      <th>2223</th>\n",
       "      <td>High fuel prices hit BA's profits\\n\\nBritish A...</td>\n",
       "      <td>Rod Eddington, BA's chief executive, said the ...</td>\n",
       "      <td>business</td>\n",
       "    </tr>\n",
       "    <tr>\n",
       "      <th>2224</th>\n",
       "      <td>US trade gap hits record in 2004\\n\\nThe gap be...</td>\n",
       "      <td>The Commerce Department said the trade deficit...</td>\n",
       "      <td>business</td>\n",
       "    </tr>\n",
       "  </tbody>\n",
       "</table>\n",
       "<p>2225 rows × 3 columns</p>\n",
       "</div>"
      ],
      "text/plain": [
       "                                               articles  \\\n",
       "0     Budget to set scene for election\\n\\nGordon Bro...   \n",
       "1     Army chiefs in regiments decision\\n\\nMilitary ...   \n",
       "2     Howard denies split over ID cards\\n\\nMichael H...   \n",
       "3     Observers to monitor UK election\\n\\nMinisters ...   \n",
       "4     Kilroy names election seat target\\n\\nEx-chat s...   \n",
       "...                                                 ...   \n",
       "2220  India opens skies to competition\\n\\nIndia will...   \n",
       "2221  Yukos bankruptcy 'not US matter'\\n\\nRussian au...   \n",
       "2222  Survey confirms property slowdown\\n\\nGovernmen...   \n",
       "2223  High fuel prices hit BA's profits\\n\\nBritish A...   \n",
       "2224  US trade gap hits record in 2004\\n\\nThe gap be...   \n",
       "\n",
       "                                              summaries categories  \n",
       "0     - Increase in the stamp duty threshold from Â£...   politics  \n",
       "1     \"They are very much not for the good and will ...   politics  \n",
       "2     Michael Howard has denied his shadow cabinet w...   politics  \n",
       "3     The report said individual registration should...   politics  \n",
       "4     UKIP's leader, Roger Knapman, has said he is g...   politics  \n",
       "...                                                 ...        ...  \n",
       "2220  India will allow domestic commercial airlines ...   business  \n",
       "2221  Yukos says a US court was entitled to declare ...   business  \n",
       "2222  House prices were 11.8% higher on the year in ...   business  \n",
       "2223  Rod Eddington, BA's chief executive, said the ...   business  \n",
       "2224  The Commerce Department said the trade deficit...   business  \n",
       "\n",
       "[2225 rows x 3 columns]"
      ]
     },
     "execution_count": 6,
     "metadata": {},
     "output_type": "execute_result"
    }
   ],
   "source": [
    "#creates the dataframe df with articles, summaries and categories storeed in key value pairs\n",
    "df = pd.DataFrame({'articles':articles, 'summaries':summaries, 'categories': categories},)\n",
    "df\n"
   ]
  },
  {
   "cell_type": "code",
   "execution_count": 7,
   "id": "5dc17647",
   "metadata": {
    "execution": {
     "iopub.execute_input": "2023-04-08T12:48:23.606548Z",
     "iopub.status.busy": "2023-04-08T12:48:23.606241Z",
     "iopub.status.idle": "2023-04-08T12:48:23.616691Z",
     "shell.execute_reply": "2023-04-08T12:48:23.615584Z"
    },
    "papermill": {
     "duration": 0.025389,
     "end_time": "2023-04-08T12:48:23.620018",
     "exception": false,
     "start_time": "2023-04-08T12:48:23.594629",
     "status": "completed"
    },
    "tags": []
   },
   "outputs": [
    {
     "data": {
      "text/plain": [
       "0    politics\n",
       "1    politics\n",
       "2    politics\n",
       "3    politics\n",
       "4    politics\n",
       "Name: categories, dtype: object"
      ]
     },
     "execution_count": 7,
     "metadata": {},
     "output_type": "execute_result"
    }
   ],
   "source": [
    "df['categories'].head()"
   ]
  },
  {
   "cell_type": "code",
   "execution_count": 8,
   "id": "a8a3ab9e",
   "metadata": {
    "execution": {
     "iopub.execute_input": "2023-04-08T12:48:23.642578Z",
     "iopub.status.busy": "2023-04-08T12:48:23.642295Z",
     "iopub.status.idle": "2023-04-08T12:48:23.866529Z",
     "shell.execute_reply": "2023-04-08T12:48:23.865439Z"
    },
    "papermill": {
     "duration": 0.237996,
     "end_time": "2023-04-08T12:48:23.868637",
     "exception": false,
     "start_time": "2023-04-08T12:48:23.630641",
     "status": "completed"
    },
    "tags": []
   },
   "outputs": [
    {
     "data": {
      "image/png": "[encoded data removed]",
      "text/plain": [
       "<Figure size 640x480 with 1 Axes>"
      ]
     },
     "metadata": {},
     "output_type": "display_data"
    }
   ],
   "source": [
    "# group sizes by the various categories \n",
    "categ_sizes = df.groupby('categories').size() \n",
    "sns.barplot(x=categ_sizes.index, y=categ_sizes) # indexes are the different categories\n",
    "plt.show()"
   ]
  },
  {
   "cell_type": "markdown",
   "id": "c6429afa",
   "metadata": {
    "papermill": {
     "duration": 0.01091,
     "end_time": "2023-04-08T12:48:23.891150",
     "exception": false,
     "start_time": "2023-04-08T12:48:23.880240",
     "status": "completed"
    },
    "tags": []
   },
   "source": [
    "Caclulating the number of words in each article & summary"
   ]
  },
  {
   "cell_type": "code",
   "execution_count": 9,
   "id": "bc43eee3",
   "metadata": {
    "execution": {
     "iopub.execute_input": "2023-04-08T12:48:23.915458Z",
     "iopub.status.busy": "2023-04-08T12:48:23.914415Z",
     "iopub.status.idle": "2023-04-08T12:48:23.978031Z",
     "shell.execute_reply": "2023-04-08T12:48:23.977122Z"
    },
    "papermill": {
     "duration": 0.077799,
     "end_time": "2023-04-08T12:48:23.980290",
     "exception": false,
     "start_time": "2023-04-08T12:48:23.902491",
     "status": "completed"
    },
    "tags": []
   },
   "outputs": [],
   "source": [
    "# apply adds allows us to apply the lambda function and store output in the new columns into the dataframe\n",
    "# x is each article, x.split() split each word in x and len returns the final number of words\n",
    "df['article_len'] = df['articles'].apply(lambda x : len(x.split())) \n",
    "df['summary_len'] = df['summaries'].apply(lambda x : len(x.split()))\n"
   ]
  },
  {
   "cell_type": "code",
   "execution_count": 10,
   "id": "2c3e4f72",
   "metadata": {
    "execution": {
     "iopub.execute_input": "2023-04-08T12:48:24.003313Z",
     "iopub.status.busy": "2023-04-08T12:48:24.003024Z",
     "iopub.status.idle": "2023-04-08T12:48:24.017467Z",
     "shell.execute_reply": "2023-04-08T12:48:24.016474Z"
    },
    "papermill": {
     "duration": 0.028627,
     "end_time": "2023-04-08T12:48:24.019622",
     "exception": false,
     "start_time": "2023-04-08T12:48:23.990995",
     "status": "completed"
    },
    "tags": []
   },
   "outputs": [
    {
     "data": {
      "text/html": [
       "<div>\n",
       "<style scoped>\n",
       "    .dataframe tbody tr th:only-of-type {\n",
       "        vertical-align: middle;\n",
       "    }\n",
       "\n",
       "    .dataframe tbody tr th {\n",
       "        vertical-align: top;\n",
       "    }\n",
       "\n",
       "    .dataframe thead th {\n",
       "        text-align: right;\n",
       "    }\n",
       "</style>\n",
       "<table border=\"1\" class=\"dataframe\">\n",
       "  <thead>\n",
       "    <tr style=\"text-align: right;\">\n",
       "      <th></th>\n",
       "      <th>articles</th>\n",
       "      <th>summaries</th>\n",
       "      <th>categories</th>\n",
       "      <th>article_len</th>\n",
       "      <th>summary_len</th>\n",
       "    </tr>\n",
       "  </thead>\n",
       "  <tbody>\n",
       "    <tr>\n",
       "      <th>0</th>\n",
       "      <td>Budget to set scene for election\\n\\nGordon Bro...</td>\n",
       "      <td>- Increase in the stamp duty threshold from Â£...</td>\n",
       "      <td>politics</td>\n",
       "      <td>538</td>\n",
       "      <td>192</td>\n",
       "    </tr>\n",
       "    <tr>\n",
       "      <th>1</th>\n",
       "      <td>Army chiefs in regiments decision\\n\\nMilitary ...</td>\n",
       "      <td>\"They are very much not for the good and will ...</td>\n",
       "      <td>politics</td>\n",
       "      <td>500</td>\n",
       "      <td>266</td>\n",
       "    </tr>\n",
       "    <tr>\n",
       "      <th>2</th>\n",
       "      <td>Howard denies split over ID cards\\n\\nMichael H...</td>\n",
       "      <td>Michael Howard has denied his shadow cabinet w...</td>\n",
       "      <td>politics</td>\n",
       "      <td>540</td>\n",
       "      <td>225</td>\n",
       "    </tr>\n",
       "    <tr>\n",
       "      <th>3</th>\n",
       "      <td>Observers to monitor UK election\\n\\nMinisters ...</td>\n",
       "      <td>The report said individual registration should...</td>\n",
       "      <td>politics</td>\n",
       "      <td>496</td>\n",
       "      <td>223</td>\n",
       "    </tr>\n",
       "    <tr>\n",
       "      <th>4</th>\n",
       "      <td>Kilroy names election seat target\\n\\nEx-chat s...</td>\n",
       "      <td>UKIP's leader, Roger Knapman, has said he is g...</td>\n",
       "      <td>politics</td>\n",
       "      <td>440</td>\n",
       "      <td>185</td>\n",
       "    </tr>\n",
       "    <tr>\n",
       "      <th>...</th>\n",
       "      <td>...</td>\n",
       "      <td>...</td>\n",
       "      <td>...</td>\n",
       "      <td>...</td>\n",
       "      <td>...</td>\n",
       "    </tr>\n",
       "    <tr>\n",
       "      <th>2220</th>\n",
       "      <td>India opens skies to competition\\n\\nIndia will...</td>\n",
       "      <td>India will allow domestic commercial airlines ...</td>\n",
       "      <td>business</td>\n",
       "      <td>225</td>\n",
       "      <td>90</td>\n",
       "    </tr>\n",
       "    <tr>\n",
       "      <th>2221</th>\n",
       "      <td>Yukos bankruptcy 'not US matter'\\n\\nRussian au...</td>\n",
       "      <td>Yukos says a US court was entitled to declare ...</td>\n",
       "      <td>business</td>\n",
       "      <td>398</td>\n",
       "      <td>180</td>\n",
       "    </tr>\n",
       "    <tr>\n",
       "      <th>2222</th>\n",
       "      <td>Survey confirms property slowdown\\n\\nGovernmen...</td>\n",
       "      <td>House prices were 11.8% higher on the year in ...</td>\n",
       "      <td>business</td>\n",
       "      <td>322</td>\n",
       "      <td>120</td>\n",
       "    </tr>\n",
       "    <tr>\n",
       "      <th>2223</th>\n",
       "      <td>High fuel prices hit BA's profits\\n\\nBritish A...</td>\n",
       "      <td>Rod Eddington, BA's chief executive, said the ...</td>\n",
       "      <td>business</td>\n",
       "      <td>406</td>\n",
       "      <td>197</td>\n",
       "    </tr>\n",
       "    <tr>\n",
       "      <th>2224</th>\n",
       "      <td>US trade gap hits record in 2004\\n\\nThe gap be...</td>\n",
       "      <td>The Commerce Department said the trade deficit...</td>\n",
       "      <td>business</td>\n",
       "      <td>328</td>\n",
       "      <td>148</td>\n",
       "    </tr>\n",
       "  </tbody>\n",
       "</table>\n",
       "<p>2225 rows × 5 columns</p>\n",
       "</div>"
      ],
      "text/plain": [
       "                                               articles  \\\n",
       "0     Budget to set scene for election\\n\\nGordon Bro...   \n",
       "1     Army chiefs in regiments decision\\n\\nMilitary ...   \n",
       "2     Howard denies split over ID cards\\n\\nMichael H...   \n",
       "3     Observers to monitor UK election\\n\\nMinisters ...   \n",
       "4     Kilroy names election seat target\\n\\nEx-chat s...   \n",
       "...                                                 ...   \n",
       "2220  India opens skies to competition\\n\\nIndia will...   \n",
       "2221  Yukos bankruptcy 'not US matter'\\n\\nRussian au...   \n",
       "2222  Survey confirms property slowdown\\n\\nGovernmen...   \n",
       "2223  High fuel prices hit BA's profits\\n\\nBritish A...   \n",
       "2224  US trade gap hits record in 2004\\n\\nThe gap be...   \n",
       "\n",
       "                                              summaries categories  \\\n",
       "0     - Increase in the stamp duty threshold from Â£...   politics   \n",
       "1     \"They are very much not for the good and will ...   politics   \n",
       "2     Michael Howard has denied his shadow cabinet w...   politics   \n",
       "3     The report said individual registration should...   politics   \n",
       "4     UKIP's leader, Roger Knapman, has said he is g...   politics   \n",
       "...                                                 ...        ...   \n",
       "2220  India will allow domestic commercial airlines ...   business   \n",
       "2221  Yukos says a US court was entitled to declare ...   business   \n",
       "2222  House prices were 11.8% higher on the year in ...   business   \n",
       "2223  Rod Eddington, BA's chief executive, said the ...   business   \n",
       "2224  The Commerce Department said the trade deficit...   business   \n",
       "\n",
       "      article_len  summary_len  \n",
       "0             538          192  \n",
       "1             500          266  \n",
       "2             540          225  \n",
       "3             496          223  \n",
       "4             440          185  \n",
       "...           ...          ...  \n",
       "2220          225           90  \n",
       "2221          398          180  \n",
       "2222          322          120  \n",
       "2223          406          197  \n",
       "2224          328          148  \n",
       "\n",
       "[2225 rows x 5 columns]"
      ]
     },
     "execution_count": 10,
     "metadata": {},
     "output_type": "execute_result"
    }
   ],
   "source": [
    "df"
   ]
  },
  {
   "cell_type": "code",
   "execution_count": 11,
   "id": "59230336",
   "metadata": {
    "execution": {
     "iopub.execute_input": "2023-04-08T12:48:24.044640Z",
     "iopub.status.busy": "2023-04-08T12:48:24.043824Z",
     "iopub.status.idle": "2023-04-08T12:48:24.059129Z",
     "shell.execute_reply": "2023-04-08T12:48:24.058143Z"
    },
    "papermill": {
     "duration": 0.030346,
     "end_time": "2023-04-08T12:48:24.061745",
     "exception": false,
     "start_time": "2023-04-08T12:48:24.031399",
     "status": "completed"
    },
    "tags": []
   },
   "outputs": [
    {
     "data": {
      "text/html": [
       "<div>\n",
       "<style scoped>\n",
       "    .dataframe tbody tr th:only-of-type {\n",
       "        vertical-align: middle;\n",
       "    }\n",
       "\n",
       "    .dataframe tbody tr th {\n",
       "        vertical-align: top;\n",
       "    }\n",
       "\n",
       "    .dataframe thead th {\n",
       "        text-align: right;\n",
       "    }\n",
       "</style>\n",
       "<table border=\"1\" class=\"dataframe\">\n",
       "  <thead>\n",
       "    <tr style=\"text-align: right;\">\n",
       "      <th></th>\n",
       "      <th>article_len</th>\n",
       "      <th>summary_len</th>\n",
       "    </tr>\n",
       "    <tr>\n",
       "      <th>categories</th>\n",
       "      <th></th>\n",
       "      <th></th>\n",
       "    </tr>\n",
       "  </thead>\n",
       "  <tbody>\n",
       "    <tr>\n",
       "      <th>business</th>\n",
       "      <td>328.880392</td>\n",
       "      <td>139.929412</td>\n",
       "    </tr>\n",
       "    <tr>\n",
       "      <th>entertainment</th>\n",
       "      <td>330.621762</td>\n",
       "      <td>144.049223</td>\n",
       "    </tr>\n",
       "    <tr>\n",
       "      <th>politics</th>\n",
       "      <td>453.973621</td>\n",
       "      <td>195.709832</td>\n",
       "    </tr>\n",
       "    <tr>\n",
       "      <th>sport</th>\n",
       "      <td>329.262231</td>\n",
       "      <td>143.187867</td>\n",
       "    </tr>\n",
       "    <tr>\n",
       "      <th>tech</th>\n",
       "      <td>502.695761</td>\n",
       "      <td>213.837905</td>\n",
       "    </tr>\n",
       "  </tbody>\n",
       "</table>\n",
       "</div>"
      ],
      "text/plain": [
       "               article_len  summary_len\n",
       "categories                             \n",
       "business        328.880392   139.929412\n",
       "entertainment   330.621762   144.049223\n",
       "politics        453.973621   195.709832\n",
       "sport           329.262231   143.187867\n",
       "tech            502.695761   213.837905"
      ]
     },
     "execution_count": 11,
     "metadata": {},
     "output_type": "execute_result"
    }
   ],
   "source": [
    "# 0 means x axis\\\n",
    "# check mean length of all articles per category\n",
    "category_wise_len = df.groupby('categories', 0).agg({'article_len': 'mean', 'summary_len': 'mean'})\n",
    "category_wise_len"
   ]
  },
  {
   "cell_type": "code",
   "execution_count": 12,
   "id": "be65979a",
   "metadata": {
    "execution": {
     "iopub.execute_input": "2023-04-08T12:48:24.086522Z",
     "iopub.status.busy": "2023-04-08T12:48:24.086236Z",
     "iopub.status.idle": "2023-04-08T12:48:25.186462Z",
     "shell.execute_reply": "2023-04-08T12:48:25.185256Z"
    },
    "papermill": {
     "duration": 1.115072,
     "end_time": "2023-04-08T12:48:25.189139",
     "exception": false,
     "start_time": "2023-04-08T12:48:24.074067",
     "status": "completed"
    },
    "tags": []
   },
   "outputs": [
    {
     "name": "stdout",
     "output_type": "stream",
     "text": [
      "Sat Apr  8 12:48:24 2023       \r\n",
      "+-----------------------------------------------------------------------------+\r\n",
      "| NVIDIA-SMI 470.161.03   Driver Version: 470.161.03   CUDA Version: 11.4     |\r\n",
      "|-------------------------------+----------------------+----------------------+\r\n",
      "| GPU  Name        Persistence-M| Bus-Id        Disp.A | Volatile Uncorr. ECC |\r\n",
      "| Fan  Temp  Perf  Pwr:Usage/Cap|         Memory-Usage | GPU-Util  Compute M. |\r\n",
      "|                               |                      |               MIG M. |\r\n",
      "|===============================+======================+======================|\r\n",
      "|   0  Tesla T4            Off  | 00000000:00:04.0 Off |                    0 |\r\n",
      "| N/A   48C    P8     9W /  70W |      0MiB / 15109MiB |      0%      Default |\r\n",
      "|                               |                      |                  N/A |\r\n",
      "+-------------------------------+----------------------+----------------------+\r\n",
      "|   1  Tesla T4            Off  | 00000000:00:05.0 Off |                    0 |\r\n",
      "| N/A   48C    P8     9W /  70W |      0MiB / 15109MiB |      0%      Default |\r\n",
      "|                               |                      |                  N/A |\r\n",
      "+-------------------------------+----------------------+----------------------+\r\n",
      "                                                                               \r\n",
      "+-----------------------------------------------------------------------------+\r\n",
      "| Processes:                                                                  |\r\n",
      "|  GPU   GI   CI        PID   Type   Process name                  GPU Memory |\r\n",
      "|        ID   ID                                                   Usage      |\r\n",
      "|=============================================================================|\r\n",
      "|  No running processes found                                                 |\r\n",
      "+-----------------------------------------------------------------------------+\r\n"
     ]
    }
   ],
   "source": [
    "!nvidia-smi"
   ]
  },
  {
   "cell_type": "code",
   "execution_count": 13,
   "id": "751e629b",
   "metadata": {
    "execution": {
     "iopub.execute_input": "2023-04-08T12:48:25.214023Z",
     "iopub.status.busy": "2023-04-08T12:48:25.213670Z",
     "iopub.status.idle": "2023-04-08T12:48:25.218532Z",
     "shell.execute_reply": "2023-04-08T12:48:25.217373Z"
    },
    "papermill": {
     "duration": 0.019872,
     "end_time": "2023-04-08T12:48:25.220564",
     "exception": false,
     "start_time": "2023-04-08T12:48:25.200692",
     "status": "completed"
    },
    "tags": []
   },
   "outputs": [],
   "source": [
    "# !python -m pip install --upgrade pip"
   ]
  },
  {
   "cell_type": "code",
   "execution_count": 14,
   "id": "14978333",
   "metadata": {
    "execution": {
     "iopub.execute_input": "2023-04-08T12:48:25.245056Z",
     "iopub.status.busy": "2023-04-08T12:48:25.244174Z",
     "iopub.status.idle": "2023-04-08T12:48:25.248904Z",
     "shell.execute_reply": "2023-04-08T12:48:25.247910Z"
    },
    "papermill": {
     "duration": 0.01922,
     "end_time": "2023-04-08T12:48:25.250948",
     "exception": false,
     "start_time": "2023-04-08T12:48:25.231728",
     "status": "completed"
    },
    "tags": []
   },
   "outputs": [],
   "source": [
    "# !pip install --quiet transformers==4.5.0\n",
    "# !pip install --quiet pytorch-lightning==1.2.7\n",
    "# !pip install --quiet torch==1.8.0\n",
    "# !pip install --quiet torchvision==0.9.0\n",
    "# !pip install --quiet torchtext==0.9.0"
   ]
  },
  {
   "cell_type": "code",
   "execution_count": 15,
   "id": "529de1d0",
   "metadata": {
    "execution": {
     "iopub.execute_input": "2023-04-08T12:48:25.275072Z",
     "iopub.status.busy": "2023-04-08T12:48:25.274361Z",
     "iopub.status.idle": "2023-04-08T12:49:15.211797Z",
     "shell.execute_reply": "2023-04-08T12:49:15.210440Z"
    },
    "papermill": {
     "duration": 49.95269,
     "end_time": "2023-04-08T12:49:15.214641",
     "exception": false,
     "start_time": "2023-04-08T12:48:25.261951",
     "status": "completed"
    },
    "tags": []
   },
   "outputs": [
    {
     "name": "stdout",
     "output_type": "stream",
     "text": [
      "\u001b[33mWARNING: Running pip as the 'root' user can result in broken permissions and conflicting behaviour with the system package manager. It is recommended to use a virtual environment instead: https://pip.pypa.io/warnings/venv\u001b[0m\u001b[33m\r\n",
      "\u001b[0m\u001b[33mWARNING: Running pip as the 'root' user can result in broken permissions and conflicting behaviour with the system package manager. It is recommended to use a virtual environment instead: https://pip.pypa.io/warnings/venv\u001b[0m\u001b[33m\r\n",
      "\u001b[0m\u001b[33mWARNING: Running pip as the 'root' user can result in broken permissions and conflicting behaviour with the system package manager. It is recommended to use a virtual environment instead: https://pip.pypa.io/warnings/venv\u001b[0m\u001b[33m\r\n",
      "\u001b[0m\u001b[33mWARNING: Running pip as the 'root' user can result in broken permissions and conflicting behaviour with the system package manager. It is recommended to use a virtual environment instead: https://pip.pypa.io/warnings/venv\u001b[0m\u001b[33m\r\n",
      "\u001b[0m\u001b[33mWARNING: Running pip as the 'root' user can result in broken permissions and conflicting behaviour with the system package manager. It is recommended to use a virtual environment instead: https://pip.pypa.io/warnings/venv\u001b[0m\u001b[33m\r\n",
      "\u001b[0m"
     ]
    }
   ],
   "source": [
    "!pip install --quiet transformers\n",
    "!pip install --quiet pytorch-lightning\n",
    "!pip install --quiet torch\n",
    "!pip install --quiet torchvision\n",
    "!pip install --quiet torchtext"
   ]
  },
  {
   "cell_type": "code",
   "execution_count": 16,
   "id": "dc75d34d",
   "metadata": {
    "execution": {
     "iopub.execute_input": "2023-04-08T12:49:15.241146Z",
     "iopub.status.busy": "2023-04-08T12:49:15.240819Z",
     "iopub.status.idle": "2023-04-08T12:49:28.564648Z",
     "shell.execute_reply": "2023-04-08T12:49:28.561629Z"
    },
    "papermill": {
     "duration": 13.341762,
     "end_time": "2023-04-08T12:49:28.568997",
     "exception": false,
     "start_time": "2023-04-08T12:49:15.227235",
     "status": "completed"
    },
    "tags": []
   },
   "outputs": [],
   "source": [
    "import json\n",
    "import torch\n",
    "import pandas as pd\n",
    "import numpy as np\n",
    "from pathlib import Path\n",
    "import pytorch_lightning as pl\n",
    "from torch.utils.data import Dataset, DataLoader\n",
    "from pytorch_lightning.callbacks import ModelCheckpoint\n",
    "from pytorch_lightning.callbacks.early_stopping import EarlyStopping\n",
    "from pytorch_lightning.loggers import TensorBoardLogger\n",
    "from sklearn.model_selection import train_test_split\n",
    "from termcolor import colored\n",
    "import textwrap\n",
    "\n",
    "from transformers import (\n",
    "AdamW,\n",
    "T5ForConditionalGeneration,\n",
    "T5TokenizerFast as T5Tokenizer)\n",
    "\n",
    "from tqdm.auto import tqdm"
   ]
  },
  {
   "cell_type": "code",
   "execution_count": null,
   "id": "09975a41",
   "metadata": {
    "papermill": {
     "duration": 0.018439,
     "end_time": "2023-04-08T12:49:28.612952",
     "exception": false,
     "start_time": "2023-04-08T12:49:28.594513",
     "status": "completed"
    },
    "tags": []
   },
   "outputs": [],
   "source": []
  },
  {
   "cell_type": "code",
   "execution_count": 17,
   "id": "5cd0f225",
   "metadata": {
    "execution": {
     "iopub.execute_input": "2023-04-08T12:49:28.655024Z",
     "iopub.status.busy": "2023-04-08T12:49:28.654541Z",
     "iopub.status.idle": "2023-04-08T12:49:28.680096Z",
     "shell.execute_reply": "2023-04-08T12:49:28.679190Z"
    },
    "papermill": {
     "duration": 0.04649,
     "end_time": "2023-04-08T12:49:28.682284",
     "exception": false,
     "start_time": "2023-04-08T12:49:28.635794",
     "status": "completed"
    },
    "tags": []
   },
   "outputs": [],
   "source": [
    "import seaborn as sns\n",
    "from pylab import rcParams\n",
    "import matplotlib.pyplot as plt\n",
    "from matplotlib import rc\n",
    "\n",
    "%matplotlib inline\n",
    "%config InlineBackend.figure_format='retina'\n",
    "sns.set(style='whitegrid', palette='muted', font_scale=1.2)\n",
    "rcParams['figure.figsize']=16, 10"
   ]
  },
  {
   "cell_type": "code",
   "execution_count": 18,
   "id": "ff783d30",
   "metadata": {
    "execution": {
     "iopub.execute_input": "2023-04-08T12:49:28.707392Z",
     "iopub.status.busy": "2023-04-08T12:49:28.707102Z",
     "iopub.status.idle": "2023-04-08T12:49:28.723922Z",
     "shell.execute_reply": "2023-04-08T12:49:28.722848Z"
    },
    "papermill": {
     "duration": 0.032285,
     "end_time": "2023-04-08T12:49:28.726348",
     "exception": false,
     "start_time": "2023-04-08T12:49:28.694063",
     "status": "completed"
    },
    "tags": []
   },
   "outputs": [
    {
     "data": {
      "text/html": [
       "<div>\n",
       "<style scoped>\n",
       "    .dataframe tbody tr th:only-of-type {\n",
       "        vertical-align: middle;\n",
       "    }\n",
       "\n",
       "    .dataframe tbody tr th {\n",
       "        vertical-align: top;\n",
       "    }\n",
       "\n",
       "    .dataframe thead th {\n",
       "        text-align: right;\n",
       "    }\n",
       "</style>\n",
       "<table border=\"1\" class=\"dataframe\">\n",
       "  <thead>\n",
       "    <tr style=\"text-align: right;\">\n",
       "      <th></th>\n",
       "      <th>articles</th>\n",
       "      <th>summaries</th>\n",
       "      <th>categories</th>\n",
       "      <th>article_len</th>\n",
       "      <th>summary_len</th>\n",
       "    </tr>\n",
       "  </thead>\n",
       "  <tbody>\n",
       "    <tr>\n",
       "      <th>0</th>\n",
       "      <td>Budget to set scene for election\\n\\nGordon Bro...</td>\n",
       "      <td>- Increase in the stamp duty threshold from Â£...</td>\n",
       "      <td>politics</td>\n",
       "      <td>538</td>\n",
       "      <td>192</td>\n",
       "    </tr>\n",
       "    <tr>\n",
       "      <th>1</th>\n",
       "      <td>Army chiefs in regiments decision\\n\\nMilitary ...</td>\n",
       "      <td>\"They are very much not for the good and will ...</td>\n",
       "      <td>politics</td>\n",
       "      <td>500</td>\n",
       "      <td>266</td>\n",
       "    </tr>\n",
       "    <tr>\n",
       "      <th>2</th>\n",
       "      <td>Howard denies split over ID cards\\n\\nMichael H...</td>\n",
       "      <td>Michael Howard has denied his shadow cabinet w...</td>\n",
       "      <td>politics</td>\n",
       "      <td>540</td>\n",
       "      <td>225</td>\n",
       "    </tr>\n",
       "    <tr>\n",
       "      <th>3</th>\n",
       "      <td>Observers to monitor UK election\\n\\nMinisters ...</td>\n",
       "      <td>The report said individual registration should...</td>\n",
       "      <td>politics</td>\n",
       "      <td>496</td>\n",
       "      <td>223</td>\n",
       "    </tr>\n",
       "    <tr>\n",
       "      <th>4</th>\n",
       "      <td>Kilroy names election seat target\\n\\nEx-chat s...</td>\n",
       "      <td>UKIP's leader, Roger Knapman, has said he is g...</td>\n",
       "      <td>politics</td>\n",
       "      <td>440</td>\n",
       "      <td>185</td>\n",
       "    </tr>\n",
       "    <tr>\n",
       "      <th>...</th>\n",
       "      <td>...</td>\n",
       "      <td>...</td>\n",
       "      <td>...</td>\n",
       "      <td>...</td>\n",
       "      <td>...</td>\n",
       "    </tr>\n",
       "    <tr>\n",
       "      <th>2220</th>\n",
       "      <td>India opens skies to competition\\n\\nIndia will...</td>\n",
       "      <td>India will allow domestic commercial airlines ...</td>\n",
       "      <td>business</td>\n",
       "      <td>225</td>\n",
       "      <td>90</td>\n",
       "    </tr>\n",
       "    <tr>\n",
       "      <th>2221</th>\n",
       "      <td>Yukos bankruptcy 'not US matter'\\n\\nRussian au...</td>\n",
       "      <td>Yukos says a US court was entitled to declare ...</td>\n",
       "      <td>business</td>\n",
       "      <td>398</td>\n",
       "      <td>180</td>\n",
       "    </tr>\n",
       "    <tr>\n",
       "      <th>2222</th>\n",
       "      <td>Survey confirms property slowdown\\n\\nGovernmen...</td>\n",
       "      <td>House prices were 11.8% higher on the year in ...</td>\n",
       "      <td>business</td>\n",
       "      <td>322</td>\n",
       "      <td>120</td>\n",
       "    </tr>\n",
       "    <tr>\n",
       "      <th>2223</th>\n",
       "      <td>High fuel prices hit BA's profits\\n\\nBritish A...</td>\n",
       "      <td>Rod Eddington, BA's chief executive, said the ...</td>\n",
       "      <td>business</td>\n",
       "      <td>406</td>\n",
       "      <td>197</td>\n",
       "    </tr>\n",
       "    <tr>\n",
       "      <th>2224</th>\n",
       "      <td>US trade gap hits record in 2004\\n\\nThe gap be...</td>\n",
       "      <td>The Commerce Department said the trade deficit...</td>\n",
       "      <td>business</td>\n",
       "      <td>328</td>\n",
       "      <td>148</td>\n",
       "    </tr>\n",
       "  </tbody>\n",
       "</table>\n",
       "<p>2225 rows × 5 columns</p>\n",
       "</div>"
      ],
      "text/plain": [
       "                                               articles  \\\n",
       "0     Budget to set scene for election\\n\\nGordon Bro...   \n",
       "1     Army chiefs in regiments decision\\n\\nMilitary ...   \n",
       "2     Howard denies split over ID cards\\n\\nMichael H...   \n",
       "3     Observers to monitor UK election\\n\\nMinisters ...   \n",
       "4     Kilroy names election seat target\\n\\nEx-chat s...   \n",
       "...                                                 ...   \n",
       "2220  India opens skies to competition\\n\\nIndia will...   \n",
       "2221  Yukos bankruptcy 'not US matter'\\n\\nRussian au...   \n",
       "2222  Survey confirms property slowdown\\n\\nGovernmen...   \n",
       "2223  High fuel prices hit BA's profits\\n\\nBritish A...   \n",
       "2224  US trade gap hits record in 2004\\n\\nThe gap be...   \n",
       "\n",
       "                                              summaries categories  \\\n",
       "0     - Increase in the stamp duty threshold from Â£...   politics   \n",
       "1     \"They are very much not for the good and will ...   politics   \n",
       "2     Michael Howard has denied his shadow cabinet w...   politics   \n",
       "3     The report said individual registration should...   politics   \n",
       "4     UKIP's leader, Roger Knapman, has said he is g...   politics   \n",
       "...                                                 ...        ...   \n",
       "2220  India will allow domestic commercial airlines ...   business   \n",
       "2221  Yukos says a US court was entitled to declare ...   business   \n",
       "2222  House prices were 11.8% higher on the year in ...   business   \n",
       "2223  Rod Eddington, BA's chief executive, said the ...   business   \n",
       "2224  The Commerce Department said the trade deficit...   business   \n",
       "\n",
       "      article_len  summary_len  \n",
       "0             538          192  \n",
       "1             500          266  \n",
       "2             540          225  \n",
       "3             496          223  \n",
       "4             440          185  \n",
       "...           ...          ...  \n",
       "2220          225           90  \n",
       "2221          398          180  \n",
       "2222          322          120  \n",
       "2223          406          197  \n",
       "2224          328          148  \n",
       "\n",
       "[2225 rows x 5 columns]"
      ]
     },
     "execution_count": 18,
     "metadata": {},
     "output_type": "execute_result"
    }
   ],
   "source": [
    "df"
   ]
  },
  {
   "cell_type": "code",
   "execution_count": 19,
   "id": "5f9f6eaf",
   "metadata": {
    "execution": {
     "iopub.execute_input": "2023-04-08T12:49:28.751134Z",
     "iopub.status.busy": "2023-04-08T12:49:28.750866Z",
     "iopub.status.idle": "2023-04-08T12:49:28.759961Z",
     "shell.execute_reply": "2023-04-08T12:49:28.758934Z"
    },
    "papermill": {
     "duration": 0.024183,
     "end_time": "2023-04-08T12:49:28.762446",
     "exception": false,
     "start_time": "2023-04-08T12:49:28.738263",
     "status": "completed"
    },
    "tags": []
   },
   "outputs": [],
   "source": [
    "df = df[['articles', 'summaries']] # only keeping the columns articles and summaries"
   ]
  },
  {
   "cell_type": "code",
   "execution_count": 20,
   "id": "5a99ec7c",
   "metadata": {
    "execution": {
     "iopub.execute_input": "2023-04-08T12:49:28.788321Z",
     "iopub.status.busy": "2023-04-08T12:49:28.787966Z",
     "iopub.status.idle": "2023-04-08T12:49:28.801627Z",
     "shell.execute_reply": "2023-04-08T12:49:28.800500Z"
    },
    "papermill": {
     "duration": 0.029834,
     "end_time": "2023-04-08T12:49:28.803926",
     "exception": false,
     "start_time": "2023-04-08T12:49:28.774092",
     "status": "completed"
    },
    "tags": []
   },
   "outputs": [
    {
     "data": {
      "text/html": [
       "<div>\n",
       "<style scoped>\n",
       "    .dataframe tbody tr th:only-of-type {\n",
       "        vertical-align: middle;\n",
       "    }\n",
       "\n",
       "    .dataframe tbody tr th {\n",
       "        vertical-align: top;\n",
       "    }\n",
       "\n",
       "    .dataframe thead th {\n",
       "        text-align: right;\n",
       "    }\n",
       "</style>\n",
       "<table border=\"1\" class=\"dataframe\">\n",
       "  <thead>\n",
       "    <tr style=\"text-align: right;\">\n",
       "      <th></th>\n",
       "      <th>articles</th>\n",
       "      <th>summaries</th>\n",
       "    </tr>\n",
       "  </thead>\n",
       "  <tbody>\n",
       "    <tr>\n",
       "      <th>0</th>\n",
       "      <td>Budget to set scene for election\\n\\nGordon Bro...</td>\n",
       "      <td>- Increase in the stamp duty threshold from Â£...</td>\n",
       "    </tr>\n",
       "    <tr>\n",
       "      <th>1</th>\n",
       "      <td>Army chiefs in regiments decision\\n\\nMilitary ...</td>\n",
       "      <td>\"They are very much not for the good and will ...</td>\n",
       "    </tr>\n",
       "    <tr>\n",
       "      <th>2</th>\n",
       "      <td>Howard denies split over ID cards\\n\\nMichael H...</td>\n",
       "      <td>Michael Howard has denied his shadow cabinet w...</td>\n",
       "    </tr>\n",
       "    <tr>\n",
       "      <th>3</th>\n",
       "      <td>Observers to monitor UK election\\n\\nMinisters ...</td>\n",
       "      <td>The report said individual registration should...</td>\n",
       "    </tr>\n",
       "    <tr>\n",
       "      <th>4</th>\n",
       "      <td>Kilroy names election seat target\\n\\nEx-chat s...</td>\n",
       "      <td>UKIP's leader, Roger Knapman, has said he is g...</td>\n",
       "    </tr>\n",
       "    <tr>\n",
       "      <th>...</th>\n",
       "      <td>...</td>\n",
       "      <td>...</td>\n",
       "    </tr>\n",
       "    <tr>\n",
       "      <th>2220</th>\n",
       "      <td>India opens skies to competition\\n\\nIndia will...</td>\n",
       "      <td>India will allow domestic commercial airlines ...</td>\n",
       "    </tr>\n",
       "    <tr>\n",
       "      <th>2221</th>\n",
       "      <td>Yukos bankruptcy 'not US matter'\\n\\nRussian au...</td>\n",
       "      <td>Yukos says a US court was entitled to declare ...</td>\n",
       "    </tr>\n",
       "    <tr>\n",
       "      <th>2222</th>\n",
       "      <td>Survey confirms property slowdown\\n\\nGovernmen...</td>\n",
       "      <td>House prices were 11.8% higher on the year in ...</td>\n",
       "    </tr>\n",
       "    <tr>\n",
       "      <th>2223</th>\n",
       "      <td>High fuel prices hit BA's profits\\n\\nBritish A...</td>\n",
       "      <td>Rod Eddington, BA's chief executive, said the ...</td>\n",
       "    </tr>\n",
       "    <tr>\n",
       "      <th>2224</th>\n",
       "      <td>US trade gap hits record in 2004\\n\\nThe gap be...</td>\n",
       "      <td>The Commerce Department said the trade deficit...</td>\n",
       "    </tr>\n",
       "  </tbody>\n",
       "</table>\n",
       "<p>2225 rows × 2 columns</p>\n",
       "</div>"
      ],
      "text/plain": [
       "                                               articles  \\\n",
       "0     Budget to set scene for election\\n\\nGordon Bro...   \n",
       "1     Army chiefs in regiments decision\\n\\nMilitary ...   \n",
       "2     Howard denies split over ID cards\\n\\nMichael H...   \n",
       "3     Observers to monitor UK election\\n\\nMinisters ...   \n",
       "4     Kilroy names election seat target\\n\\nEx-chat s...   \n",
       "...                                                 ...   \n",
       "2220  India opens skies to competition\\n\\nIndia will...   \n",
       "2221  Yukos bankruptcy 'not US matter'\\n\\nRussian au...   \n",
       "2222  Survey confirms property slowdown\\n\\nGovernmen...   \n",
       "2223  High fuel prices hit BA's profits\\n\\nBritish A...   \n",
       "2224  US trade gap hits record in 2004\\n\\nThe gap be...   \n",
       "\n",
       "                                              summaries  \n",
       "0     - Increase in the stamp duty threshold from Â£...  \n",
       "1     \"They are very much not for the good and will ...  \n",
       "2     Michael Howard has denied his shadow cabinet w...  \n",
       "3     The report said individual registration should...  \n",
       "4     UKIP's leader, Roger Knapman, has said he is g...  \n",
       "...                                                 ...  \n",
       "2220  India will allow domestic commercial airlines ...  \n",
       "2221  Yukos says a US court was entitled to declare ...  \n",
       "2222  House prices were 11.8% higher on the year in ...  \n",
       "2223  Rod Eddington, BA's chief executive, said the ...  \n",
       "2224  The Commerce Department said the trade deficit...  \n",
       "\n",
       "[2225 rows x 2 columns]"
      ]
     },
     "execution_count": 20,
     "metadata": {},
     "output_type": "execute_result"
    }
   ],
   "source": [
    "df"
   ]
  },
  {
   "cell_type": "code",
   "execution_count": 21,
   "id": "78d3a431",
   "metadata": {
    "execution": {
     "iopub.execute_input": "2023-04-08T12:49:28.833341Z",
     "iopub.status.busy": "2023-04-08T12:49:28.832527Z",
     "iopub.status.idle": "2023-04-08T12:49:28.861757Z",
     "shell.execute_reply": "2023-04-08T12:49:28.860505Z"
    },
    "papermill": {
     "duration": 0.047171,
     "end_time": "2023-04-08T12:49:28.864779",
     "exception": false,
     "start_time": "2023-04-08T12:49:28.817608",
     "status": "completed"
    },
    "tags": []
   },
   "outputs": [
    {
     "name": "stderr",
     "output_type": "stream",
     "text": [
      "/opt/conda/lib/python3.7/site-packages/ipykernel_launcher.py:2: SettingWithCopyWarning: \n",
      "A value is trying to be set on a copy of a slice from a DataFrame.\n",
      "Try using .loc[row_indexer,col_indexer] = value instead\n",
      "\n",
      "See the caveats in the documentation: https://pandas.pydata.org/pandas-docs/stable/user_guide/indexing.html#returning-a-view-versus-a-copy\n",
      "  \n",
      "/opt/conda/lib/python3.7/site-packages/ipykernel_launcher.py:3: SettingWithCopyWarning: \n",
      "A value is trying to be set on a copy of a slice from a DataFrame.\n",
      "Try using .loc[row_indexer,col_indexer] = value instead\n",
      "\n",
      "See the caveats in the documentation: https://pandas.pydata.org/pandas-docs/stable/user_guide/indexing.html#returning-a-view-versus-a-copy\n",
      "  This is separate from the ipykernel package so we can avoid doing imports until\n"
     ]
    }
   ],
   "source": [
    "# removing non-ascii keywords from the data\n",
    "df['articles']=df['articles'].str.encode('ascii', 'ignore').str.decode('ascii')\n",
    "df['summaries']=df['summaries'].str.encode('ascii', 'ignore').str.decode('ascii')"
   ]
  },
  {
   "cell_type": "code",
   "execution_count": 22,
   "id": "6febca50",
   "metadata": {
    "execution": {
     "iopub.execute_input": "2023-04-08T12:49:28.893039Z",
     "iopub.status.busy": "2023-04-08T12:49:28.892739Z",
     "iopub.status.idle": "2023-04-08T12:49:28.906349Z",
     "shell.execute_reply": "2023-04-08T12:49:28.905468Z"
    },
    "papermill": {
     "duration": 0.029944,
     "end_time": "2023-04-08T12:49:28.908441",
     "exception": false,
     "start_time": "2023-04-08T12:49:28.878497",
     "status": "completed"
    },
    "tags": []
   },
   "outputs": [
    {
     "data": {
      "text/html": [
       "<div>\n",
       "<style scoped>\n",
       "    .dataframe tbody tr th:only-of-type {\n",
       "        vertical-align: middle;\n",
       "    }\n",
       "\n",
       "    .dataframe tbody tr th {\n",
       "        vertical-align: top;\n",
       "    }\n",
       "\n",
       "    .dataframe thead th {\n",
       "        text-align: right;\n",
       "    }\n",
       "</style>\n",
       "<table border=\"1\" class=\"dataframe\">\n",
       "  <thead>\n",
       "    <tr style=\"text-align: right;\">\n",
       "      <th></th>\n",
       "      <th>articles</th>\n",
       "      <th>summaries</th>\n",
       "    </tr>\n",
       "  </thead>\n",
       "  <tbody>\n",
       "    <tr>\n",
       "      <th>0</th>\n",
       "      <td>Budget to set scene for election\\n\\nGordon Bro...</td>\n",
       "      <td>- Increase in the stamp duty threshold from 60...</td>\n",
       "    </tr>\n",
       "    <tr>\n",
       "      <th>1</th>\n",
       "      <td>Army chiefs in regiments decision\\n\\nMilitary ...</td>\n",
       "      <td>\"They are very much not for the good and will ...</td>\n",
       "    </tr>\n",
       "    <tr>\n",
       "      <th>2</th>\n",
       "      <td>Howard denies split over ID cards\\n\\nMichael H...</td>\n",
       "      <td>Michael Howard has denied his shadow cabinet w...</td>\n",
       "    </tr>\n",
       "    <tr>\n",
       "      <th>3</th>\n",
       "      <td>Observers to monitor UK election\\n\\nMinisters ...</td>\n",
       "      <td>The report said individual registration should...</td>\n",
       "    </tr>\n",
       "    <tr>\n",
       "      <th>4</th>\n",
       "      <td>Kilroy names election seat target\\n\\nEx-chat s...</td>\n",
       "      <td>UKIP's leader, Roger Knapman, has said he is g...</td>\n",
       "    </tr>\n",
       "    <tr>\n",
       "      <th>...</th>\n",
       "      <td>...</td>\n",
       "      <td>...</td>\n",
       "    </tr>\n",
       "    <tr>\n",
       "      <th>2220</th>\n",
       "      <td>India opens skies to competition\\n\\nIndia will...</td>\n",
       "      <td>India will allow domestic commercial airlines ...</td>\n",
       "    </tr>\n",
       "    <tr>\n",
       "      <th>2221</th>\n",
       "      <td>Yukos bankruptcy 'not US matter'\\n\\nRussian au...</td>\n",
       "      <td>Yukos says a US court was entitled to declare ...</td>\n",
       "    </tr>\n",
       "    <tr>\n",
       "      <th>2222</th>\n",
       "      <td>Survey confirms property slowdown\\n\\nGovernmen...</td>\n",
       "      <td>House prices were 11.8% higher on the year in ...</td>\n",
       "    </tr>\n",
       "    <tr>\n",
       "      <th>2223</th>\n",
       "      <td>High fuel prices hit BA's profits\\n\\nBritish A...</td>\n",
       "      <td>Rod Eddington, BA's chief executive, said the ...</td>\n",
       "    </tr>\n",
       "    <tr>\n",
       "      <th>2224</th>\n",
       "      <td>US trade gap hits record in 2004\\n\\nThe gap be...</td>\n",
       "      <td>The Commerce Department said the trade deficit...</td>\n",
       "    </tr>\n",
       "  </tbody>\n",
       "</table>\n",
       "<p>2225 rows × 2 columns</p>\n",
       "</div>"
      ],
      "text/plain": [
       "                                               articles  \\\n",
       "0     Budget to set scene for election\\n\\nGordon Bro...   \n",
       "1     Army chiefs in regiments decision\\n\\nMilitary ...   \n",
       "2     Howard denies split over ID cards\\n\\nMichael H...   \n",
       "3     Observers to monitor UK election\\n\\nMinisters ...   \n",
       "4     Kilroy names election seat target\\n\\nEx-chat s...   \n",
       "...                                                 ...   \n",
       "2220  India opens skies to competition\\n\\nIndia will...   \n",
       "2221  Yukos bankruptcy 'not US matter'\\n\\nRussian au...   \n",
       "2222  Survey confirms property slowdown\\n\\nGovernmen...   \n",
       "2223  High fuel prices hit BA's profits\\n\\nBritish A...   \n",
       "2224  US trade gap hits record in 2004\\n\\nThe gap be...   \n",
       "\n",
       "                                              summaries  \n",
       "0     - Increase in the stamp duty threshold from 60...  \n",
       "1     \"They are very much not for the good and will ...  \n",
       "2     Michael Howard has denied his shadow cabinet w...  \n",
       "3     The report said individual registration should...  \n",
       "4     UKIP's leader, Roger Knapman, has said he is g...  \n",
       "...                                                 ...  \n",
       "2220  India will allow domestic commercial airlines ...  \n",
       "2221  Yukos says a US court was entitled to declare ...  \n",
       "2222  House prices were 11.8% higher on the year in ...  \n",
       "2223  Rod Eddington, BA's chief executive, said the ...  \n",
       "2224  The Commerce Department said the trade deficit...  \n",
       "\n",
       "[2225 rows x 2 columns]"
      ]
     },
     "execution_count": 22,
     "metadata": {},
     "output_type": "execute_result"
    }
   ],
   "source": [
    "df"
   ]
  },
  {
   "cell_type": "code",
   "execution_count": 23,
   "id": "7e92c58d",
   "metadata": {
    "execution": {
     "iopub.execute_input": "2023-04-08T12:49:28.934868Z",
     "iopub.status.busy": "2023-04-08T12:49:28.934586Z",
     "iopub.status.idle": "2023-04-08T12:49:28.941740Z",
     "shell.execute_reply": "2023-04-08T12:49:28.940834Z"
    },
    "papermill": {
     "duration": 0.023291,
     "end_time": "2023-04-08T12:49:28.944244",
     "exception": false,
     "start_time": "2023-04-08T12:49:28.920953",
     "status": "completed"
    },
    "tags": []
   },
   "outputs": [],
   "source": [
    "# remove null values\n",
    "df = df.dropna()"
   ]
  },
  {
   "cell_type": "code",
   "execution_count": 24,
   "id": "3fbe6269",
   "metadata": {
    "execution": {
     "iopub.execute_input": "2023-04-08T12:49:28.969783Z",
     "iopub.status.busy": "2023-04-08T12:49:28.969515Z",
     "iopub.status.idle": "2023-04-08T12:49:28.983277Z",
     "shell.execute_reply": "2023-04-08T12:49:28.982386Z"
    },
    "papermill": {
     "duration": 0.029286,
     "end_time": "2023-04-08T12:49:28.985500",
     "exception": false,
     "start_time": "2023-04-08T12:49:28.956214",
     "status": "completed"
    },
    "tags": []
   },
   "outputs": [
    {
     "data": {
      "text/html": [
       "<div>\n",
       "<style scoped>\n",
       "    .dataframe tbody tr th:only-of-type {\n",
       "        vertical-align: middle;\n",
       "    }\n",
       "\n",
       "    .dataframe tbody tr th {\n",
       "        vertical-align: top;\n",
       "    }\n",
       "\n",
       "    .dataframe thead th {\n",
       "        text-align: right;\n",
       "    }\n",
       "</style>\n",
       "<table border=\"1\" class=\"dataframe\">\n",
       "  <thead>\n",
       "    <tr style=\"text-align: right;\">\n",
       "      <th></th>\n",
       "      <th>articles</th>\n",
       "      <th>summaries</th>\n",
       "    </tr>\n",
       "  </thead>\n",
       "  <tbody>\n",
       "    <tr>\n",
       "      <th>0</th>\n",
       "      <td>Budget to set scene for election\\n\\nGordon Bro...</td>\n",
       "      <td>- Increase in the stamp duty threshold from 60...</td>\n",
       "    </tr>\n",
       "    <tr>\n",
       "      <th>1</th>\n",
       "      <td>Army chiefs in regiments decision\\n\\nMilitary ...</td>\n",
       "      <td>\"They are very much not for the good and will ...</td>\n",
       "    </tr>\n",
       "    <tr>\n",
       "      <th>2</th>\n",
       "      <td>Howard denies split over ID cards\\n\\nMichael H...</td>\n",
       "      <td>Michael Howard has denied his shadow cabinet w...</td>\n",
       "    </tr>\n",
       "    <tr>\n",
       "      <th>3</th>\n",
       "      <td>Observers to monitor UK election\\n\\nMinisters ...</td>\n",
       "      <td>The report said individual registration should...</td>\n",
       "    </tr>\n",
       "    <tr>\n",
       "      <th>4</th>\n",
       "      <td>Kilroy names election seat target\\n\\nEx-chat s...</td>\n",
       "      <td>UKIP's leader, Roger Knapman, has said he is g...</td>\n",
       "    </tr>\n",
       "    <tr>\n",
       "      <th>...</th>\n",
       "      <td>...</td>\n",
       "      <td>...</td>\n",
       "    </tr>\n",
       "    <tr>\n",
       "      <th>2220</th>\n",
       "      <td>India opens skies to competition\\n\\nIndia will...</td>\n",
       "      <td>India will allow domestic commercial airlines ...</td>\n",
       "    </tr>\n",
       "    <tr>\n",
       "      <th>2221</th>\n",
       "      <td>Yukos bankruptcy 'not US matter'\\n\\nRussian au...</td>\n",
       "      <td>Yukos says a US court was entitled to declare ...</td>\n",
       "    </tr>\n",
       "    <tr>\n",
       "      <th>2222</th>\n",
       "      <td>Survey confirms property slowdown\\n\\nGovernmen...</td>\n",
       "      <td>House prices were 11.8% higher on the year in ...</td>\n",
       "    </tr>\n",
       "    <tr>\n",
       "      <th>2223</th>\n",
       "      <td>High fuel prices hit BA's profits\\n\\nBritish A...</td>\n",
       "      <td>Rod Eddington, BA's chief executive, said the ...</td>\n",
       "    </tr>\n",
       "    <tr>\n",
       "      <th>2224</th>\n",
       "      <td>US trade gap hits record in 2004\\n\\nThe gap be...</td>\n",
       "      <td>The Commerce Department said the trade deficit...</td>\n",
       "    </tr>\n",
       "  </tbody>\n",
       "</table>\n",
       "<p>2225 rows × 2 columns</p>\n",
       "</div>"
      ],
      "text/plain": [
       "                                               articles  \\\n",
       "0     Budget to set scene for election\\n\\nGordon Bro...   \n",
       "1     Army chiefs in regiments decision\\n\\nMilitary ...   \n",
       "2     Howard denies split over ID cards\\n\\nMichael H...   \n",
       "3     Observers to monitor UK election\\n\\nMinisters ...   \n",
       "4     Kilroy names election seat target\\n\\nEx-chat s...   \n",
       "...                                                 ...   \n",
       "2220  India opens skies to competition\\n\\nIndia will...   \n",
       "2221  Yukos bankruptcy 'not US matter'\\n\\nRussian au...   \n",
       "2222  Survey confirms property slowdown\\n\\nGovernmen...   \n",
       "2223  High fuel prices hit BA's profits\\n\\nBritish A...   \n",
       "2224  US trade gap hits record in 2004\\n\\nThe gap be...   \n",
       "\n",
       "                                              summaries  \n",
       "0     - Increase in the stamp duty threshold from 60...  \n",
       "1     \"They are very much not for the good and will ...  \n",
       "2     Michael Howard has denied his shadow cabinet w...  \n",
       "3     The report said individual registration should...  \n",
       "4     UKIP's leader, Roger Knapman, has said he is g...  \n",
       "...                                                 ...  \n",
       "2220  India will allow domestic commercial airlines ...  \n",
       "2221  Yukos says a US court was entitled to declare ...  \n",
       "2222  House prices were 11.8% higher on the year in ...  \n",
       "2223  Rod Eddington, BA's chief executive, said the ...  \n",
       "2224  The Commerce Department said the trade deficit...  \n",
       "\n",
       "[2225 rows x 2 columns]"
      ]
     },
     "execution_count": 24,
     "metadata": {},
     "output_type": "execute_result"
    }
   ],
   "source": [
    "df"
   ]
  },
  {
   "cell_type": "code",
   "execution_count": 25,
   "id": "8f55ada7",
   "metadata": {
    "execution": {
     "iopub.execute_input": "2023-04-08T12:49:29.011755Z",
     "iopub.status.busy": "2023-04-08T12:49:29.011479Z",
     "iopub.status.idle": "2023-04-08T12:49:29.019650Z",
     "shell.execute_reply": "2023-04-08T12:49:29.018691Z"
    },
    "papermill": {
     "duration": 0.023502,
     "end_time": "2023-04-08T12:49:29.021849",
     "exception": false,
     "start_time": "2023-04-08T12:49:28.998347",
     "status": "completed"
    },
    "tags": []
   },
   "outputs": [],
   "source": [
    "train_df, test_df = train_test_split(df, test_size = 0.1)"
   ]
  },
  {
   "cell_type": "code",
   "execution_count": 26,
   "id": "28b5e023",
   "metadata": {
    "execution": {
     "iopub.execute_input": "2023-04-08T12:49:29.049615Z",
     "iopub.status.busy": "2023-04-08T12:49:29.048784Z",
     "iopub.status.idle": "2023-04-08T12:49:29.060354Z",
     "shell.execute_reply": "2023-04-08T12:49:29.059274Z"
    },
    "papermill": {
     "duration": 0.027558,
     "end_time": "2023-04-08T12:49:29.062671",
     "exception": false,
     "start_time": "2023-04-08T12:49:29.035113",
     "status": "completed"
    },
    "tags": []
   },
   "outputs": [
    {
     "data": {
      "text/html": [
       "<div>\n",
       "<style scoped>\n",
       "    .dataframe tbody tr th:only-of-type {\n",
       "        vertical-align: middle;\n",
       "    }\n",
       "\n",
       "    .dataframe tbody tr th {\n",
       "        vertical-align: top;\n",
       "    }\n",
       "\n",
       "    .dataframe thead th {\n",
       "        text-align: right;\n",
       "    }\n",
       "</style>\n",
       "<table border=\"1\" class=\"dataframe\">\n",
       "  <thead>\n",
       "    <tr style=\"text-align: right;\">\n",
       "      <th></th>\n",
       "      <th>articles</th>\n",
       "      <th>summaries</th>\n",
       "    </tr>\n",
       "  </thead>\n",
       "  <tbody>\n",
       "    <tr>\n",
       "      <th>1841</th>\n",
       "      <td>US economy shows solid GDP growth\\n\\nThe US ec...</td>\n",
       "      <td>Growth was at an annual rate of 4% in the thir...</td>\n",
       "    </tr>\n",
       "    <tr>\n",
       "      <th>2042</th>\n",
       "      <td>Lufthansa may sue over Bush visit\\n\\nGerman ai...</td>\n",
       "      <td>German airline Lufthansa may sue federal agenc...</td>\n",
       "    </tr>\n",
       "    <tr>\n",
       "      <th>336</th>\n",
       "      <td>Brown ally rejects Budget spree\\n\\nChancellor ...</td>\n",
       "      <td>But Mr Balls, a prospective Labour MP, said he...</td>\n",
       "    </tr>\n",
       "    <tr>\n",
       "      <th>482</th>\n",
       "      <td>Prutton poised for lengthy FA ban\\n\\nSouthampt...</td>\n",
       "      <td>He was out of order but he knows that,\" said R...</td>\n",
       "    </tr>\n",
       "    <tr>\n",
       "      <th>826</th>\n",
       "      <td>Dawson set for new Wasps contract\\n\\nEuropean ...</td>\n",
       "      <td>European champions Wasps are set to offer Matt...</td>\n",
       "    </tr>\n",
       "    <tr>\n",
       "      <th>...</th>\n",
       "      <td>...</td>\n",
       "      <td>...</td>\n",
       "    </tr>\n",
       "    <tr>\n",
       "      <th>2043</th>\n",
       "      <td>South African car demand surges\\n\\nCar manufac...</td>\n",
       "      <td>New vehicle sales jumped 22% to 449,603 from a...</td>\n",
       "    </tr>\n",
       "    <tr>\n",
       "      <th>1400</th>\n",
       "      <td>Oscar nominees lack pulling power\\n\\nThis year...</td>\n",
       "      <td>The biggest box office hitter among this year'...</td>\n",
       "    </tr>\n",
       "    <tr>\n",
       "      <th>2123</th>\n",
       "      <td>Wal-Mart to pay $14m in gun suit\\n\\nThe world'...</td>\n",
       "      <td>\"Although Wal-Mart has suspended gun sales in ...</td>\n",
       "    </tr>\n",
       "    <tr>\n",
       "      <th>1318</th>\n",
       "      <td>Microsoft gets the blogging bug\\n\\nSoftware gi...</td>\n",
       "      <td>Microsoft is trailing behind competitors like ...</td>\n",
       "    </tr>\n",
       "    <tr>\n",
       "      <th>1173</th>\n",
       "      <td>Apple sues 'Tiger' file sharers\\n\\nApple has t...</td>\n",
       "      <td>It is the second time in two weeks Apple has t...</td>\n",
       "    </tr>\n",
       "  </tbody>\n",
       "</table>\n",
       "<p>2002 rows × 2 columns</p>\n",
       "</div>"
      ],
      "text/plain": [
       "                                               articles  \\\n",
       "1841  US economy shows solid GDP growth\\n\\nThe US ec...   \n",
       "2042  Lufthansa may sue over Bush visit\\n\\nGerman ai...   \n",
       "336   Brown ally rejects Budget spree\\n\\nChancellor ...   \n",
       "482   Prutton poised for lengthy FA ban\\n\\nSouthampt...   \n",
       "826   Dawson set for new Wasps contract\\n\\nEuropean ...   \n",
       "...                                                 ...   \n",
       "2043  South African car demand surges\\n\\nCar manufac...   \n",
       "1400  Oscar nominees lack pulling power\\n\\nThis year...   \n",
       "2123  Wal-Mart to pay $14m in gun suit\\n\\nThe world'...   \n",
       "1318  Microsoft gets the blogging bug\\n\\nSoftware gi...   \n",
       "1173  Apple sues 'Tiger' file sharers\\n\\nApple has t...   \n",
       "\n",
       "                                              summaries  \n",
       "1841  Growth was at an annual rate of 4% in the thir...  \n",
       "2042  German airline Lufthansa may sue federal agenc...  \n",
       "336   But Mr Balls, a prospective Labour MP, said he...  \n",
       "482   He was out of order but he knows that,\" said R...  \n",
       "826   European champions Wasps are set to offer Matt...  \n",
       "...                                                 ...  \n",
       "2043  New vehicle sales jumped 22% to 449,603 from a...  \n",
       "1400  The biggest box office hitter among this year'...  \n",
       "2123  \"Although Wal-Mart has suspended gun sales in ...  \n",
       "1318  Microsoft is trailing behind competitors like ...  \n",
       "1173  It is the second time in two weeks Apple has t...  \n",
       "\n",
       "[2002 rows x 2 columns]"
      ]
     },
     "execution_count": 26,
     "metadata": {},
     "output_type": "execute_result"
    }
   ],
   "source": [
    "train_df"
   ]
  },
  {
   "cell_type": "raw",
   "id": "c47e1cac",
   "metadata": {
    "papermill": {
     "duration": 0.012651,
     "end_time": "2023-04-08T12:49:29.088173",
     "exception": false,
     "start_time": "2023-04-08T12:49:29.075522",
     "status": "completed"
    },
    "tags": []
   },
   "source": [
    "test_df"
   ]
  },
  {
   "cell_type": "code",
   "execution_count": 27,
   "id": "73991981",
   "metadata": {
    "execution": {
     "iopub.execute_input": "2023-04-08T12:49:29.115797Z",
     "iopub.status.busy": "2023-04-08T12:49:29.115503Z",
     "iopub.status.idle": "2023-04-08T12:49:29.125373Z",
     "shell.execute_reply": "2023-04-08T12:49:29.124408Z"
    },
    "papermill": {
     "duration": 0.026519,
     "end_time": "2023-04-08T12:49:29.127639",
     "exception": false,
     "start_time": "2023-04-08T12:49:29.101120",
     "status": "completed"
    },
    "tags": []
   },
   "outputs": [],
   "source": [
    "class NewsSummaryDataset(Dataset):\n",
    "    \n",
    "    # constructor\n",
    "    def __init__(\n",
    "    self,\n",
    "    data : pd.DataFrame,\n",
    "    tokenizer : T5Tokenizer, \n",
    "    text_maxlen : int = 512,\n",
    "    summary_maxlen : int = 128):\n",
    "        \n",
    "        self.tokenizer = tokenizer\n",
    "        self.data = data\n",
    "        self.text_maxlen = text_maxlen\n",
    "        self.summary_maxlen = summary_maxlen\n",
    "        \n",
    "    #length of the data\n",
    "    def __len__(self):\n",
    "        return len(self.data)\n",
    "    \n",
    "    # obtain each data row-wise\n",
    "    def __getitem__(self, index : int):\n",
    "        data_row = self.data.iloc[index]\n",
    "        text = data_row['articles'] # pick articles column of the row\n",
    "        \n",
    "        #encoding the text with tokenizer\n",
    "        article_encoding = tokenizer(\n",
    "            text, \n",
    "            max_length=self.text_maxlen,\n",
    "            truncation=True, # if length greater than 512 remove them\n",
    "            padding='max_length',\n",
    "            return_attention_mask=True,\n",
    "            add_special_tokens=True,\n",
    "            return_tensors='pt'\n",
    "            )\n",
    "        \n",
    "        summary_encoding = tokenizer(\n",
    "            data_row['summaries'],\n",
    "            max_length=self.summary_maxlen,\n",
    "            truncation=True, # if length greater than 512 remove them\n",
    "            padding='max_length',\n",
    "            return_attention_mask=True, # return the attention mask\n",
    "            add_special_tokens=True, # \n",
    "            return_tensors='pt'\n",
    "            )\n",
    "        \n",
    "        labels = summary_encoding['input_ids']\n",
    "        labels[labels == 0] = -100\n",
    "        \n",
    "        # take all input ids and attention masks and flatten them\n",
    "        return dict(\n",
    "            text=text,\n",
    "            summary=data_row['summaries'],\n",
    "            text_input_ids = article_encoding['input_ids'].flatten(),\n",
    "            text_attention_mask = article_encoding['attention_mask'].flatten(),\n",
    "            labels = labels.flatten(),\n",
    "            labels_attention_mask=summary_encoding['attention_mask'].flatten()\n",
    "        )"
   ]
  },
  {
   "cell_type": "code",
   "execution_count": 28,
   "id": "d6530a4a",
   "metadata": {
    "execution": {
     "iopub.execute_input": "2023-04-08T12:49:29.155437Z",
     "iopub.status.busy": "2023-04-08T12:49:29.155132Z",
     "iopub.status.idle": "2023-04-08T12:49:29.166843Z",
     "shell.execute_reply": "2023-04-08T12:49:29.165697Z"
    },
    "papermill": {
     "duration": 0.028066,
     "end_time": "2023-04-08T12:49:29.169085",
     "exception": false,
     "start_time": "2023-04-08T12:49:29.141019",
     "status": "completed"
    },
    "tags": []
   },
   "outputs": [
    {
     "data": {
      "text/html": [
       "<div>\n",
       "<style scoped>\n",
       "    .dataframe tbody tr th:only-of-type {\n",
       "        vertical-align: middle;\n",
       "    }\n",
       "\n",
       "    .dataframe tbody tr th {\n",
       "        vertical-align: top;\n",
       "    }\n",
       "\n",
       "    .dataframe thead th {\n",
       "        text-align: right;\n",
       "    }\n",
       "</style>\n",
       "<table border=\"1\" class=\"dataframe\">\n",
       "  <thead>\n",
       "    <tr style=\"text-align: right;\">\n",
       "      <th></th>\n",
       "      <th>articles</th>\n",
       "      <th>summaries</th>\n",
       "    </tr>\n",
       "  </thead>\n",
       "  <tbody>\n",
       "    <tr>\n",
       "      <th>143</th>\n",
       "      <td>Blair ready to call election\\n\\nTony Blair see...</td>\n",
       "      <td>And it looked like the Labour campaign - which...</td>\n",
       "    </tr>\n",
       "    <tr>\n",
       "      <th>1674</th>\n",
       "      <td>DVD review: I, Robot\\n\\nOnly one man recognise...</td>\n",
       "      <td>Will Smith co-stars alongside more CGI robots ...</td>\n",
       "    </tr>\n",
       "    <tr>\n",
       "      <th>901</th>\n",
       "      <td>Ferguson hails Man Utd's resolve\\n\\nManchester...</td>\n",
       "      <td>\"Roy came on and brought a bit of composure to...</td>\n",
       "    </tr>\n",
       "    <tr>\n",
       "      <th>137</th>\n",
       "      <td>Brown ally rejects Budget spree\\n\\nChancellor ...</td>\n",
       "      <td>But Mr Balls, a prospective Labour MP, said he...</td>\n",
       "    </tr>\n",
       "    <tr>\n",
       "      <th>539</th>\n",
       "      <td>Harinordoquy suffers France axe\\n\\nNumber eigh...</td>\n",
       "      <td>Harinordoquy was a second-half replacement in ...</td>\n",
       "    </tr>\n",
       "    <tr>\n",
       "      <th>...</th>\n",
       "      <td>...</td>\n",
       "      <td>...</td>\n",
       "    </tr>\n",
       "    <tr>\n",
       "      <th>515</th>\n",
       "      <td>Scotland 18-10 Italy\\n\\nSix Chris Paterson pen...</td>\n",
       "      <td>And Scotland capitalised with a third Paterson...</td>\n",
       "    </tr>\n",
       "    <tr>\n",
       "      <th>1292</th>\n",
       "      <td>Norway upholds 'Napster' ruling\\n\\nA Norwegian...</td>\n",
       "      <td>Frank Allan Bruvik was ordered to pay 100,000 ...</td>\n",
       "    </tr>\n",
       "    <tr>\n",
       "      <th>198</th>\n",
       "      <td>Retirement age could be scrapped\\n\\nThe \"myth ...</td>\n",
       "      <td>Mr Johnson told Age Concern's Age Agenda in Lo...</td>\n",
       "    </tr>\n",
       "    <tr>\n",
       "      <th>1392</th>\n",
       "      <td>Brits return Keane to number one\\n\\nBrits succ...</td>\n",
       "      <td>The debut album, which took the best British a...</td>\n",
       "    </tr>\n",
       "    <tr>\n",
       "      <th>146</th>\n",
       "      <td>Child access laws shake-up\\n\\nParents who refu...</td>\n",
       "      <td>Curfews and community service orders were othe...</td>\n",
       "    </tr>\n",
       "  </tbody>\n",
       "</table>\n",
       "<p>223 rows × 2 columns</p>\n",
       "</div>"
      ],
      "text/plain": [
       "                                               articles  \\\n",
       "143   Blair ready to call election\\n\\nTony Blair see...   \n",
       "1674  DVD review: I, Robot\\n\\nOnly one man recognise...   \n",
       "901   Ferguson hails Man Utd's resolve\\n\\nManchester...   \n",
       "137   Brown ally rejects Budget spree\\n\\nChancellor ...   \n",
       "539   Harinordoquy suffers France axe\\n\\nNumber eigh...   \n",
       "...                                                 ...   \n",
       "515   Scotland 18-10 Italy\\n\\nSix Chris Paterson pen...   \n",
       "1292  Norway upholds 'Napster' ruling\\n\\nA Norwegian...   \n",
       "198   Retirement age could be scrapped\\n\\nThe \"myth ...   \n",
       "1392  Brits return Keane to number one\\n\\nBrits succ...   \n",
       "146   Child access laws shake-up\\n\\nParents who refu...   \n",
       "\n",
       "                                              summaries  \n",
       "143   And it looked like the Labour campaign - which...  \n",
       "1674  Will Smith co-stars alongside more CGI robots ...  \n",
       "901   \"Roy came on and brought a bit of composure to...  \n",
       "137   But Mr Balls, a prospective Labour MP, said he...  \n",
       "539   Harinordoquy was a second-half replacement in ...  \n",
       "...                                                 ...  \n",
       "515   And Scotland capitalised with a third Paterson...  \n",
       "1292  Frank Allan Bruvik was ordered to pay 100,000 ...  \n",
       "198   Mr Johnson told Age Concern's Age Agenda in Lo...  \n",
       "1392  The debut album, which took the best British a...  \n",
       "146   Curfews and community service orders were othe...  \n",
       "\n",
       "[223 rows x 2 columns]"
      ]
     },
     "execution_count": 28,
     "metadata": {},
     "output_type": "execute_result"
    }
   ],
   "source": [
    "test_df"
   ]
  },
  {
   "cell_type": "code",
   "execution_count": 29,
   "id": "1b946e00",
   "metadata": {
    "execution": {
     "iopub.execute_input": "2023-04-08T12:49:29.198944Z",
     "iopub.status.busy": "2023-04-08T12:49:29.198608Z",
     "iopub.status.idle": "2023-04-08T12:49:29.208121Z",
     "shell.execute_reply": "2023-04-08T12:49:29.206975Z"
    },
    "papermill": {
     "duration": 0.027595,
     "end_time": "2023-04-08T12:49:29.210535",
     "exception": false,
     "start_time": "2023-04-08T12:49:29.182940",
     "status": "completed"
    },
    "tags": []
   },
   "outputs": [],
   "source": [
    "class NewsSummaryDataModule(pl.LightningDataModule):\n",
    "    # constructor\n",
    "    def __init__(\n",
    "    self,\n",
    "    train_df : pd.DataFrame,\n",
    "    test_df : pd.DataFrame,\n",
    "    tokenizer : T5Tokenizer, \n",
    "    batch_size : int = 8,\n",
    "    text_maxlen : int = 512,\n",
    "    summary_maxlen : int = 128\n",
    "):\n",
    "            \n",
    "        super().__init__()\n",
    "\n",
    "        self.train_df = train_df\n",
    "        self.test_df = test_df\n",
    "        self.batch_size = batch_size\n",
    "        self.tokenizer = tokenizer\n",
    "        self.text_maxlen = text_maxlen\n",
    "        self.summary_maxlen = summary_maxlen\n",
    "        \n",
    "    # create train data\n",
    "    def setup(self, stage=None):\n",
    "        self.train_dataset=NewsSummaryDataset(\n",
    "            self.train_df,\n",
    "            self.tokenizer,\n",
    "            self.text_maxlen,\n",
    "            self.summary_maxlen\n",
    "            )\n",
    "        \n",
    "        self.test_dataset=NewsSummaryDataset(\n",
    "            self.test_df,\n",
    "            self.tokenizer,\n",
    "            self.text_maxlen,\n",
    "            self.summary_maxlen\n",
    "            )\n",
    "        \n",
    "    # load training and testing\n",
    "    def train_dataloader(self):\n",
    "        return DataLoader(\n",
    "            self.train_dataset,\n",
    "            batch_size=self.batch_size,\n",
    "            shuffle=True,\n",
    "            num_workers=2\n",
    "        )\n",
    "    \n",
    "    def test_dataloader(self):\n",
    "        return DataLoader(\n",
    "            self.test_dataset,\n",
    "            batch_size=self.batch_size,\n",
    "            shuffle=True,\n",
    "            num_workers=2\n",
    "        )"
   ]
  },
  {
   "cell_type": "code",
   "execution_count": 30,
   "id": "f06e40ee",
   "metadata": {
    "execution": {
     "iopub.execute_input": "2023-04-08T12:49:29.240847Z",
     "iopub.status.busy": "2023-04-08T12:49:29.240541Z",
     "iopub.status.idle": "2023-04-08T12:49:30.400128Z",
     "shell.execute_reply": "2023-04-08T12:49:30.398953Z"
    },
    "papermill": {
     "duration": 1.17793,
     "end_time": "2023-04-08T12:49:30.402971",
     "exception": false,
     "start_time": "2023-04-08T12:49:29.225041",
     "status": "completed"
    },
    "tags": []
   },
   "outputs": [
    {
     "data": {
      "application/vnd.jupyter.widget-view+json": {
       "model_id": "f06eee1556a6438b907b8c75860e5a2c",
       "version_major": 2,
       "version_minor": 0
      },
      "text/plain": [
       "Downloading (…)ve/main/spiece.model:   0%|          | 0.00/792k [00:00<?, ?B/s]"
      ]
     },
     "metadata": {},
     "output_type": "display_data"
    },
    {
     "data": {
      "application/vnd.jupyter.widget-view+json": {
       "model_id": "fac7935f549943f2b74b48b6d55e3225",
       "version_major": 2,
       "version_minor": 0
      },
      "text/plain": [
       "Downloading (…)/main/tokenizer.json:   0%|          | 0.00/1.39M [00:00<?, ?B/s]"
      ]
     },
     "metadata": {},
     "output_type": "display_data"
    },
    {
     "data": {
      "application/vnd.jupyter.widget-view+json": {
       "model_id": "7542bb1782994bc2b65fc06db9d1fa0a",
       "version_major": 2,
       "version_minor": 0
      },
      "text/plain": [
       "Downloading (…)lve/main/config.json:   0%|          | 0.00/1.21k [00:00<?, ?B/s]"
      ]
     },
     "metadata": {},
     "output_type": "display_data"
    },
    {
     "name": "stderr",
     "output_type": "stream",
     "text": [
      "/opt/conda/lib/python3.7/site-packages/transformers/models/t5/tokenization_t5_fast.py:165: FutureWarning: This tokenizer was incorrectly instantiated with a model max length of 512 which will be corrected in Transformers v5.\n",
      "For now, this behavior is kept to avoid breaking backwards compatibility when padding/encoding with `truncation is True`.\n",
      "- Be aware that you SHOULD NOT rely on t5-base automatically truncating your input to 512 when padding/encoding.\n",
      "- If you want to encode/pad to sequences longer than 512 you can either instantiate this tokenizer with `model_max_length` or pass `max_length` when encoding/padding.\n",
      "- To avoid this warning, please instantiate this tokenizer with `model_max_length` set to your preferred value.\n",
      "  FutureWarning,\n"
     ]
    }
   ],
   "source": [
    "MODEL_NAME = 't5-base'\n",
    "tokenizer = T5Tokenizer.from_pretrained(MODEL_NAME)"
   ]
  },
  {
   "cell_type": "code",
   "execution_count": 31,
   "id": "45675b72",
   "metadata": {
    "execution": {
     "iopub.execute_input": "2023-04-08T12:49:30.433512Z",
     "iopub.status.busy": "2023-04-08T12:49:30.433142Z",
     "iopub.status.idle": "2023-04-08T12:49:37.438603Z",
     "shell.execute_reply": "2023-04-08T12:49:37.437584Z"
    },
    "papermill": {
     "duration": 7.023591,
     "end_time": "2023-04-08T12:49:37.441314",
     "exception": false,
     "start_time": "2023-04-08T12:49:30.417723",
     "status": "completed"
    },
    "tags": []
   },
   "outputs": [
    {
     "name": "stderr",
     "output_type": "stream",
     "text": [
      "Token indices sequence length is longer than the specified maximum sequence length for this model (678 > 512). Running this sequence through the model will result in indexing errors\n"
     ]
    }
   ],
   "source": [
    "text_count_tokens, summary_count_tokens = [], []\n",
    "for _, row in train_df.iterrows():\n",
    "    text_token_count = len(tokenizer.encode(row['articles']))\n",
    "    text_count_tokens.append(text_count_tokens)\n",
    "    \n",
    "    summary_token_count = len(tokenizer.encode(row['articles']))\n",
    "    summary_count_tokens.append(summary_count_tokens)"
   ]
  },
  {
   "cell_type": "code",
   "execution_count": 32,
   "id": "457429d2",
   "metadata": {
    "execution": {
     "iopub.execute_input": "2023-04-08T12:49:37.470043Z",
     "iopub.status.busy": "2023-04-08T12:49:37.469725Z",
     "iopub.status.idle": "2023-04-08T12:49:37.474012Z",
     "shell.execute_reply": "2023-04-08T12:49:37.472906Z"
    },
    "papermill": {
     "duration": 0.021534,
     "end_time": "2023-04-08T12:49:37.476708",
     "exception": false,
     "start_time": "2023-04-08T12:49:37.455174",
     "status": "completed"
    },
    "tags": []
   },
   "outputs": [],
   "source": [
    "# fig, (ax1, ax2) = plt.subplots(1, 2)\n",
    "# sns.histplot(text_count_tokens, ax=ax1)\n",
    "# sns.histplot(summary_count_tokens, ax=ax2)"
   ]
  },
  {
   "cell_type": "code",
   "execution_count": 33,
   "id": "f7b9920a",
   "metadata": {
    "execution": {
     "iopub.execute_input": "2023-04-08T12:49:37.504525Z",
     "iopub.status.busy": "2023-04-08T12:49:37.504233Z",
     "iopub.status.idle": "2023-04-08T12:49:37.509072Z",
     "shell.execute_reply": "2023-04-08T12:49:37.507801Z"
    },
    "papermill": {
     "duration": 0.021579,
     "end_time": "2023-04-08T12:49:37.511477",
     "exception": false,
     "start_time": "2023-04-08T12:49:37.489898",
     "status": "completed"
    },
    "tags": []
   },
   "outputs": [],
   "source": [
    "epochs = 5\n",
    "batch_size = 8\n",
    "\n",
    "data_module = NewsSummaryDataModule(train_df, test_df, tokenizer)"
   ]
  },
  {
   "cell_type": "code",
   "execution_count": 34,
   "id": "c544b3e2",
   "metadata": {
    "execution": {
     "iopub.execute_input": "2023-04-08T12:49:37.539128Z",
     "iopub.status.busy": "2023-04-08T12:49:37.538870Z",
     "iopub.status.idle": "2023-04-08T12:49:37.544986Z",
     "shell.execute_reply": "2023-04-08T12:49:37.543937Z"
    },
    "papermill": {
     "duration": 0.022523,
     "end_time": "2023-04-08T12:49:37.547236",
     "exception": false,
     "start_time": "2023-04-08T12:49:37.524713",
     "status": "completed"
    },
    "tags": []
   },
   "outputs": [
    {
     "data": {
      "text/plain": [
       "<__main__.NewsSummaryDataModule at 0x7fc351a50510>"
      ]
     },
     "execution_count": 34,
     "metadata": {},
     "output_type": "execute_result"
    }
   ],
   "source": [
    "data_module"
   ]
  },
  {
   "cell_type": "markdown",
   "id": "abd83f63",
   "metadata": {
    "papermill": {
     "duration": 0.013367,
     "end_time": "2023-04-08T12:49:37.573874",
     "exception": false,
     "start_time": "2023-04-08T12:49:37.560507",
     "status": "completed"
    },
    "tags": []
   },
   "source": [
    "Now, we create a model from this"
   ]
  },
  {
   "cell_type": "code",
   "execution_count": 35,
   "id": "01b4c757",
   "metadata": {
    "execution": {
     "iopub.execute_input": "2023-04-08T12:49:37.603979Z",
     "iopub.status.busy": "2023-04-08T12:49:37.603644Z",
     "iopub.status.idle": "2023-04-08T12:49:37.615525Z",
     "shell.execute_reply": "2023-04-08T12:49:37.614468Z"
    },
    "papermill": {
     "duration": 0.02952,
     "end_time": "2023-04-08T12:49:37.617689",
     "exception": false,
     "start_time": "2023-04-08T12:49:37.588169",
     "status": "completed"
    },
    "tags": []
   },
   "outputs": [],
   "source": [
    "# now we create a pytorch module for the model.\n",
    "class NewsSummaryModel(pl.LightningModule):\n",
    "    def __init__(self):\n",
    "        super().__init__()\n",
    "        self.model = T5ForConditionalGeneration.from_pretrained(MODEL_NAME, return_dict=True)\n",
    "    \n",
    "    def forward(self, input_ids, attention_mask, decoder_attention_mask, labels=None):\n",
    "        output = self.model(\n",
    "            input_ids,\n",
    "            attention_mask=attention_mask,\n",
    "            labels=labels,\n",
    "            decoder_attention_mask=decoder_attention_mask\n",
    "        )\n",
    "        \n",
    "        return output.loss, output.logits # logit is predicted output\n",
    "    \n",
    "    # defining each training, test and validation step\n",
    "    def training_step(self, batch, batch_size):\n",
    "        input_ids = batch['text_input_ids']\n",
    "        attention_mask = batch['text_attention_mask']\n",
    "        labels = batch['labels']\n",
    "        labels_attention_mask = batch['labels_attention_mask']\n",
    "        \n",
    "        loss, outputs = self(\n",
    "            input_ids = input_ids,\n",
    "            attention_mask = attention_mask,\n",
    "            decoder_attention_mask=labels_attention_mask,\n",
    "            labels=labels\n",
    "        )\n",
    "        \n",
    "        self.log(\"train_loss\", loss, prog_bar=True, logger=True)\n",
    "        return loss\n",
    "    \n",
    "    def test_step(self, batch, batch_size):\n",
    "        input_ids = batch['text_input_ids']\n",
    "        attention_mask = batch['text_attention_mask']\n",
    "        labels = batch['labels']\n",
    "        labels_attention_mask = batch['labels_attention_mask']\n",
    "        \n",
    "        loss, outputs = self(\n",
    "            input_ids = input_ids,\n",
    "            attention_mask = attention_mask,\n",
    "            decoder_attention_mask=labels_attention_mask,\n",
    "            labels=labels\n",
    "        )\n",
    "        \n",
    "        self.log(\"test_loss\", loss, prog_bar=True, logger=True)\n",
    "        return loss\n",
    "    \n",
    "    def validation_step(self, batch, batch_size):\n",
    "        input_ids = batch['text_input_ids']\n",
    "        attention_mask = batch['text_attention_mask']\n",
    "        labels = batch['labels']\n",
    "        labels_attention_mask = batch['labels_attention_mask']\n",
    "        \n",
    "        loss, outputs = self(\n",
    "            input_ids = input_ids,\n",
    "            attention_mask = attention_mask,\n",
    "            decoder_attention_mask=labels_attention_mask,\n",
    "            labels=labels\n",
    "        )\n",
    "        \n",
    "        self.log(\"validation_loss\", loss, prog_bar=True, logger=True)\n",
    "        return loss\n",
    "    \n",
    "    def configure_optimizers(self):\n",
    "        return AdamW(self.parameters(), lr = 0.0001)"
   ]
  },
  {
   "cell_type": "code",
   "execution_count": 36,
   "id": "af41088c",
   "metadata": {
    "execution": {
     "iopub.execute_input": "2023-04-08T12:49:37.649342Z",
     "iopub.status.busy": "2023-04-08T12:49:37.648348Z",
     "iopub.status.idle": "2023-04-08T12:49:51.826336Z",
     "shell.execute_reply": "2023-04-08T12:49:51.825404Z"
    },
    "papermill": {
     "duration": 14.196445,
     "end_time": "2023-04-08T12:49:51.828564",
     "exception": false,
     "start_time": "2023-04-08T12:49:37.632119",
     "status": "completed"
    },
    "tags": []
   },
   "outputs": [
    {
     "data": {
      "application/vnd.jupyter.widget-view+json": {
       "model_id": "88b6f90764c54154bb5051c5249972b5",
       "version_major": 2,
       "version_minor": 0
      },
      "text/plain": [
       "Downloading pytorch_model.bin:   0%|          | 0.00/892M [00:00<?, ?B/s]"
      ]
     },
     "metadata": {},
     "output_type": "display_data"
    },
    {
     "data": {
      "application/vnd.jupyter.widget-view+json": {
       "model_id": "c0b97dd884214d63ab1e060075487d9a",
       "version_major": 2,
       "version_minor": 0
      },
      "text/plain": [
       "Downloading (…)neration_config.json:   0%|          | 0.00/147 [00:00<?, ?B/s]"
      ]
     },
     "metadata": {},
     "output_type": "display_data"
    }
   ],
   "source": [
    "model = NewsSummaryModel()"
   ]
  },
  {
   "cell_type": "code",
   "execution_count": 37,
   "id": "59816bc4",
   "metadata": {
    "execution": {
     "iopub.execute_input": "2023-04-08T12:49:51.858160Z",
     "iopub.status.busy": "2023-04-08T12:49:51.857873Z",
     "iopub.status.idle": "2023-04-08T12:49:58.444933Z",
     "shell.execute_reply": "2023-04-08T12:49:58.443520Z"
    },
    "papermill": {
     "duration": 6.604368,
     "end_time": "2023-04-08T12:49:58.447401",
     "exception": false,
     "start_time": "2023-04-08T12:49:51.843033",
     "status": "completed"
    },
    "tags": []
   },
   "outputs": [
    {
     "data": {
      "text/html": [
       "\n",
       "      <iframe id=\"tensorboard-frame-8655ccdcb0b79ba\" width=\"100%\" height=\"800\" frameborder=\"0\">\n",
       "      </iframe>\n",
       "      <script>\n",
       "        (function() {\n",
       "          const frame = document.getElementById(\"tensorboard-frame-8655ccdcb0b79ba\");\n",
       "          const url = new URL(\"/\", window.location);\n",
       "          const port = 6006;\n",
       "          if (port) {\n",
       "            url.port = port;\n",
       "          }\n",
       "          frame.src = url;\n",
       "        })();\n",
       "      </script>\n",
       "    "
      ],
      "text/plain": [
       "<IPython.core.display.HTML object>"
      ]
     },
     "metadata": {},
     "output_type": "display_data"
    },
    {
     "name": "stdout",
     "output_type": "stream",
     "text": [
      "huggingface/tokenizers: The current process just got forked, after parallelism has already been used. Disabling parallelism to avoid deadlocks...\n",
      "To disable this warning, you can either:\n",
      "\t- Avoid using `tokenizers` before the fork if possible\n",
      "\t- Explicitly set the environment variable TOKENIZERS_PARALLELISM=(true | false)\n"
     ]
    }
   ],
   "source": [
    "%load_ext tensorboard\n",
    "%tensorboard --logdir ./lightning_logs"
   ]
  },
  {
   "cell_type": "code",
   "execution_count": 38,
   "id": "0841408a",
   "metadata": {
    "execution": {
     "iopub.execute_input": "2023-04-08T12:49:58.490218Z",
     "iopub.status.busy": "2023-04-08T12:49:58.489684Z",
     "iopub.status.idle": "2023-04-08T12:49:58.584965Z",
     "shell.execute_reply": "2023-04-08T12:49:58.583875Z"
    },
    "papermill": {
     "duration": 0.125304,
     "end_time": "2023-04-08T12:49:58.587598",
     "exception": false,
     "start_time": "2023-04-08T12:49:58.462294",
     "status": "completed"
    },
    "tags": []
   },
   "outputs": [
    {
     "name": "stderr",
     "output_type": "stream",
     "text": [
      "/opt/conda/lib/python3.7/site-packages/pytorch_lightning/trainer/connectors/accelerator_connector.py:479: LightningDeprecationWarning: Setting `Trainer(gpus=1)` is deprecated in v1.7 and will be removed in v2.0. Please use `Trainer(accelerator='gpu', devices=1)` instead.\n",
      "  f\"Setting `Trainer(gpus={gpus!r})` is deprecated in v1.7 and will be removed\"\n"
     ]
    }
   ],
   "source": [
    "early_stopping_callback = EarlyStopping(monitor='train_loss', patience=2)\n",
    "\n",
    "# now we create objects to monitor validation loss\n",
    "checkpoint_callback = ModelCheckpoint(\n",
    "    dirpath='checkpoints',\n",
    "    filename='best-checkpoint',\n",
    "    save_top_k=1,\n",
    "    verbose=True,\n",
    "    monitor='train_loss',\n",
    "    mode='min') # loss should be min\n",
    "\n",
    "logger = TensorBoardLogger(\"lightning_logs\", name = \"news-summary\")\n",
    "\n",
    "trainer = pl.Trainer(\n",
    "        logger = logger,\n",
    "        callbacks=[early_stopping_callback, checkpoint_callback],\n",
    "        max_epochs=epochs,\n",
    "        gpus=1)"
   ]
  },
  {
   "cell_type": "code",
   "execution_count": 39,
   "id": "d8ecb32a",
   "metadata": {
    "execution": {
     "iopub.execute_input": "2023-04-08T12:49:58.617899Z",
     "iopub.status.busy": "2023-04-08T12:49:58.617612Z",
     "iopub.status.idle": "2023-04-08T12:49:58.623213Z",
     "shell.execute_reply": "2023-04-08T12:49:58.622106Z"
    },
    "papermill": {
     "duration": 0.023638,
     "end_time": "2023-04-08T12:49:58.625355",
     "exception": false,
     "start_time": "2023-04-08T12:49:58.601717",
     "status": "completed"
    },
    "tags": []
   },
   "outputs": [],
   "source": [
    "torch.cuda.empty_cache()"
   ]
  },
  {
   "cell_type": "code",
   "execution_count": 40,
   "id": "54b58b30",
   "metadata": {
    "execution": {
     "iopub.execute_input": "2023-04-08T12:49:58.675602Z",
     "iopub.status.busy": "2023-04-08T12:49:58.675132Z",
     "iopub.status.idle": "2023-04-08T12:49:58.991823Z",
     "shell.execute_reply": "2023-04-08T12:49:58.990683Z"
    },
    "papermill": {
     "duration": 0.344003,
     "end_time": "2023-04-08T12:49:58.995484",
     "exception": false,
     "start_time": "2023-04-08T12:49:58.651481",
     "status": "completed"
    },
    "tags": []
   },
   "outputs": [
    {
     "data": {
      "text/plain": [
       "216"
      ]
     },
     "execution_count": 40,
     "metadata": {},
     "output_type": "execute_result"
    }
   ],
   "source": [
    "import gc\n",
    "gc.collect()"
   ]
  },
  {
   "cell_type": "code",
   "execution_count": 41,
   "id": "99234a87",
   "metadata": {
    "execution": {
     "iopub.execute_input": "2023-04-08T12:49:59.025251Z",
     "iopub.status.busy": "2023-04-08T12:49:59.024951Z",
     "iopub.status.idle": "2023-04-08T13:05:20.586036Z",
     "shell.execute_reply": "2023-04-08T13:05:20.584948Z"
    },
    "papermill": {
     "duration": 921.579277,
     "end_time": "2023-04-08T13:05:20.589015",
     "exception": false,
     "start_time": "2023-04-08T12:49:59.009738",
     "status": "completed"
    },
    "tags": []
   },
   "outputs": [
    {
     "name": "stderr",
     "output_type": "stream",
     "text": [
      "/opt/conda/lib/python3.7/site-packages/pytorch_lightning/trainer/configuration_validator.py:110: PossibleUserWarning: You defined a `validation_step` but have no `val_dataloader`. Skipping val loop.\n",
      "  category=PossibleUserWarning,\n",
      "/opt/conda/lib/python3.7/site-packages/transformers/optimization.py:395: FutureWarning: This implementation of AdamW is deprecated and will be removed in a future version. Use the PyTorch implementation torch.optim.AdamW instead, or set `no_deprecation_warning=True` to disable this warning\n",
      "  FutureWarning,\n"
     ]
    },
    {
     "data": {
      "application/vnd.jupyter.widget-view+json": {
       "model_id": "350a7e00f3a842b3a9385cb7828c8080",
       "version_major": 2,
       "version_minor": 0
      },
      "text/plain": [
       "Training: 0it [00:00, ?it/s]"
      ]
     },
     "metadata": {},
     "output_type": "display_data"
    },
    {
     "name": "stdout",
     "output_type": "stream",
     "text": [
      "huggingface/tokenizers: The current process just got forked, after parallelism has already been used. Disabling parallelism to avoid deadlocks...\n",
      "To disable this warning, you can either:\n",
      "\t- Avoid using `tokenizers` before the fork if possible\n",
      "\t- Explicitly set the environment variable TOKENIZERS_PARALLELISM=(true | false)\n",
      "huggingface/tokenizers: The current process just got forked, after parallelism has already been used. Disabling parallelism to avoid deadlocks...\n",
      "To disable this warning, you can either:\n",
      "\t- Avoid using `tokenizers` before the fork if possible\n",
      "\t- Explicitly set the environment variable TOKENIZERS_PARALLELISM=(true | false)\n",
      "huggingface/tokenizers: The current process just got forked, after parallelism has already been used. Disabling parallelism to avoid deadlocks...\n",
      "To disable this warning, you can either:\n",
      "\t- Avoid using `tokenizers` before the fork if possible\n",
      "\t- Explicitly set the environment variable TOKENIZERS_PARALLELISM=(true | false)\n",
      "huggingface/tokenizers: The current process just got forked, after parallelism has already been used. Disabling parallelism to avoid deadlocks...\n",
      "To disable this warning, you can either:\n",
      "\t- Avoid using `tokenizers` before the fork if possible\n",
      "\t- Explicitly set the environment variable TOKENIZERS_PARALLELISM=(true | false)\n",
      "To disable this warning, you can either:\n",
      "\t- Avoid using `tokenizers` before the fork if possible\n",
      "\t- Explicitly set the environment variable TOKENIZERS_PARALLELISM=(true | false)\n",
      "huggingface/tokenizers: The current process just got forked, after parallelism has already been used. Disabling parallelism to avoid deadlocks...\n",
      "To disable this warning, you can either:\n",
      "\t- Avoid using `tokenizers` before the fork if possible\n",
      "\t- Explicitly set the environment variable TOKENIZERS_PARALLELISM=(true | false)\n",
      "huggingface/tokenizers: The current process just got forked, after parallelism has already been used. Disabling parallelism to avoid deadlocks...\n",
      "To disable this warning, you can either:\n",
      "\t- Avoid using `tokenizers` before the fork if possible\n",
      "\t- Explicitly set the environment variable TOKENIZERS_PARALLELISM=(true | false)\n"
     ]
    }
   ],
   "source": [
    "trainer.fit(model, data_module)"
   ]
  },
  {
   "cell_type": "code",
   "execution_count": 42,
   "id": "309b2f98",
   "metadata": {
    "execution": {
     "iopub.execute_input": "2023-04-08T13:05:20.620827Z",
     "iopub.status.busy": "2023-04-08T13:05:20.620499Z",
     "iopub.status.idle": "2023-04-08T13:05:31.822388Z",
     "shell.execute_reply": "2023-04-08T13:05:31.818067Z"
    },
    "papermill": {
     "duration": 11.226471,
     "end_time": "2023-04-08T13:05:31.831069",
     "exception": false,
     "start_time": "2023-04-08T13:05:20.604598",
     "status": "completed"
    },
    "tags": []
   },
   "outputs": [],
   "source": [
    "trained_model = NewsSummaryModel.load_from_checkpoint(trainer.checkpoint_callback.best_model_path)\n",
    "trained_model.freeze()"
   ]
  },
  {
   "cell_type": "code",
   "execution_count": 43,
   "id": "0584d976",
   "metadata": {
    "execution": {
     "iopub.execute_input": "2023-04-08T13:05:31.865342Z",
     "iopub.status.busy": "2023-04-08T13:05:31.864486Z",
     "iopub.status.idle": "2023-04-08T13:05:31.872547Z",
     "shell.execute_reply": "2023-04-08T13:05:31.871495Z"
    },
    "papermill": {
     "duration": 0.027175,
     "end_time": "2023-04-08T13:05:31.874844",
     "exception": false,
     "start_time": "2023-04-08T13:05:31.847669",
     "status": "completed"
    },
    "tags": []
   },
   "outputs": [],
   "source": [
    "def summarizeText(txt):\n",
    "    article_encoding = tokenizer(\n",
    "        txt,\n",
    "        max_length=512,\n",
    "        padding='max_length',\n",
    "        truncation=True,\n",
    "        return_attention_mask=True,\n",
    "        add_special_tokens=True,\n",
    "        return_tensors='pt'\n",
    "    )\n",
    "    \n",
    "    generated_ids = trained_model.model.generate(\n",
    "        input_ids=article_encoding['input_ids'],\n",
    "        attention_mask=article_encoding['attention_mask'],\n",
    "        max_length=150,\n",
    "        num_beams=2,\n",
    "        repetition_penalty=2.5,\n",
    "        length_penalty=1.0,\n",
    "        early_stopping=True\n",
    "    )\n",
    "    \n",
    "    preds = [\n",
    "        tokenizer.decode(gen_id, skip_special_tokens=True, clean_up_tokenization_spaces=True)\n",
    "        for gen_id in generated_ids\n",
    "    ]\n",
    "    \n",
    "    return \" \".join(preds)"
   ]
  },
  {
   "cell_type": "code",
   "execution_count": 44,
   "id": "4f396211",
   "metadata": {
    "execution": {
     "iopub.execute_input": "2023-04-08T13:05:31.907130Z",
     "iopub.status.busy": "2023-04-08T13:05:31.906831Z",
     "iopub.status.idle": "2023-04-08T13:05:46.180521Z",
     "shell.execute_reply": "2023-04-08T13:05:46.179387Z"
    },
    "papermill": {
     "duration": 14.292213,
     "end_time": "2023-04-08T13:05:46.182790",
     "exception": false,
     "start_time": "2023-04-08T13:05:31.890577",
     "status": "completed"
    },
    "tags": []
   },
   "outputs": [
    {
     "data": {
      "text/plain": [
       "'Blair ready to call election\\n\\nTony Blair seems certain to end weeks of phoney war on Monday and announce there will be a general election on 5 May.\\n\\nThe date has been pencilled into the diaries of politicians and political journalists for many months and, despite occasional panics that the prime minister was on the verge of calling a snap poll, it has not shifted. Over the weeks, there have been any number of signs that 050505 was going to be the day Mr Blair would go for an historic third term. And the calling of a special political cabinet meeting has only added to the belief that the announcement is imminent. The prime minister and his campaign boss Alan Milburn have already insisted the election will be fought on the economy and what they claim is a stark choice between Labour\\'s stability and investment against Tory cuts and boom and bust.\\n\\nAnd Chancellor Gordon Brown has stepped into the front line of the campaign - to the relief of many of his supporters in Westminster - to underline that economic message. And it is certain one of the big arguments at the centre of the election battle will be around the big parties\\' tax and spend policies.\\n\\nDuring the phoney campaign, Labour got into trouble over its central claim that Michael Howard was planning 35 bn cuts in public services. The prime minister found himself struggling to explain how a smaller, slower increase in spending planned by the Tories compared to Labour\\'s plans was a cut. And it looked like the Labour campaign - which was already being criticised for being thrown into defensive mode by Mr Howard on issues such as immigration and health - was on the rocks. Then deputy Conservative Chairman Howard Flight was reported to have suggested Mr Howard was secretly planning even bigger \"cuts\".\\n\\nHe was sacked for his gaffe, but the damage had been done and the faltering Labour campaign was back on track. A second central argument will be over taxation, with the Tories claiming the Chancellor has to fill a black hole at the centre of his finances and will be forced to raise taxes if Labour wins again. Mr Brown slaps that aside, claiming his forecasts are accurate and that previous claims of looming economic disaster have proved inaccurate. As usual, the Liberal Democrats will have to fight to get their voice heard over the sounds of battle between the two big parties. But leader Charles Kennedy believes he has set out a distinctive manifesto with plans for a tax rise for the wealthiest to finance extra spending and the abolition of the council tax in favour of a local income tax. Other issues are certain to play a part - immigration and asylum, the war on Iraq, law and order and education, for example. But, as ever, it will be the economy that will almost certainly decide the outcome. And, whatever that outcome, 2005 is set to be a far more lively, even bitter campaign than 2001\\'s non-event.\\n'"
      ]
     },
     "execution_count": 44,
     "metadata": {},
     "output_type": "execute_result"
    }
   ],
   "source": [
    "sample_row=test_df.iloc[0]\n",
    "txt=sample_row['articles']\n",
    "model_summary=summarizeText(txt)\n",
    "txt"
   ]
  },
  {
   "cell_type": "code",
   "execution_count": 45,
   "id": "99ebcbd1",
   "metadata": {
    "execution": {
     "iopub.execute_input": "2023-04-08T13:05:46.213959Z",
     "iopub.status.busy": "2023-04-08T13:05:46.213350Z",
     "iopub.status.idle": "2023-04-08T13:05:46.220497Z",
     "shell.execute_reply": "2023-04-08T13:05:46.219472Z"
    },
    "papermill": {
     "duration": 0.024857,
     "end_time": "2023-04-08T13:05:46.222572",
     "exception": false,
     "start_time": "2023-04-08T13:05:46.197715",
     "status": "completed"
    },
    "tags": []
   },
   "outputs": [
    {
     "data": {
      "text/plain": [
       "'And it looked like the Labour campaign - which was already being criticised for being thrown into defensive mode by Mr Howard on issues such as immigration and health - was on the rocks.During the phoney campaign, Labour got into trouble over its central claim that Michael Howard was planning 35 bn cuts in public services.He was sacked for his gaffe, but the damage had been done and the faltering Labour campaign was back on track.Then deputy Conservative Chairman Howard Flight was reported to have suggested Mr Howard was secretly planning even bigger \"cuts\".The date has been pencilled into the diaries of politicians and political journalists for many months and, despite occasional panics that the prime minister was on the verge of calling a snap poll, it has not shifted.And it is certain one of the big arguments at the centre of the election battle will be around the big parties\\' tax and spend policies.A second central argument will be over taxation, with the Tories claiming the Chancellor has to fill a black hole at the centre of his finances and will be forced to raise taxes if Labour wins again.The prime minister and his campaign boss Alan Milburn have already insisted the election will be fought on the economy and what they claim is a stark choice between Labour\\'s stability and investment against Tory cuts and boom and bust.'"
      ]
     },
     "execution_count": 45,
     "metadata": {},
     "output_type": "execute_result"
    }
   ],
   "source": [
    "sample_row['summaries']"
   ]
  },
  {
   "cell_type": "code",
   "execution_count": 46,
   "id": "8b29fd55",
   "metadata": {
    "execution": {
     "iopub.execute_input": "2023-04-08T13:05:46.253629Z",
     "iopub.status.busy": "2023-04-08T13:05:46.252762Z",
     "iopub.status.idle": "2023-04-08T13:05:46.259197Z",
     "shell.execute_reply": "2023-04-08T13:05:46.258143Z"
    },
    "papermill": {
     "duration": 0.02408,
     "end_time": "2023-04-08T13:05:46.261252",
     "exception": false,
     "start_time": "2023-04-08T13:05:46.237172",
     "status": "completed"
    },
    "tags": []
   },
   "outputs": [
    {
     "data": {
      "text/plain": [
       "\"And it is certain one of the big arguments at the centre of the election battle will be around the big parties' tax and spend policies.During the phoney campaign, Labour got into trouble over its central claim that Michael Howard was planning 35 bn cuts in public services.Tony Blair seems certain to end weeks of phoney war on Monday and announce there will be a general election on 5 May.The prime minister found himself struggling to explain how a smaller, slower increase in spending planned by the Tories compared to Labour's plans was a cut.\""
      ]
     },
     "execution_count": 46,
     "metadata": {},
     "output_type": "execute_result"
    }
   ],
   "source": [
    "model_summary"
   ]
  }
 ],
 "metadata": {
  "kernelspec": {
   "display_name": "Python 3",
   "language": "python",
   "name": "python3"
  },
  "language_info": {
   "codemirror_mode": {
    "name": "ipython",
    "version": 3
   },
   "file_extension": ".py",
   "mimetype": "text/x-python",
   "name": "python",
   "nbconvert_exporter": "python",
   "pygments_lexer": "ipython3",
   "version": "3.7.12"
  },
  "papermill": {
   "default_parameters": {},
   "duration": 1076.374474,
   "end_time": "2023-04-08T13:05:49.502792",
   "environment_variables": {},
   "exception": null,
   "input_path": "__notebook__.ipynb",
   "output_path": "__notebook__.ipynb",
   "parameters": {},
   "start_time": "2023-04-08T12:47:53.128318",
   "version": "2.4.0"
  },
  "widgets": {
   "application/vnd.jupyter.widget-state+json": {
    "state": {
     "010a825d9fed4421b736a896d5b14fc5": {
      "model_module": "@jupyter-widgets/controls",
      "model_module_version": "1.5.0",
      "model_name": "DescriptionStyleModel",
      "state": {
       "_model_module": "@jupyter-widgets/controls",
       "_model_module_version": "1.5.0",
       "_model_name": "DescriptionStyleModel",
       "_view_count": null,
       "_view_module": "@jupyter-widgets/base",
       "_view_module_version": "1.2.0",
       "_view_name": "StyleView",
       "description_width": ""
      }
     },
     "05a16a04ed0f4275b81a84ec94a96920": {
      "model_module": "@jupyter-widgets/base",
      "model_module_version": "1.2.0",
      "model_name": "LayoutModel",
      "state": {
       "_model_module": "@jupyter-widgets/base",
       "_model_module_version": "1.2.0",
       "_model_name": "LayoutModel",
       "_view_count": null,
       "_view_module": "@jupyter-widgets/base",
       "_view_module_version": "1.2.0",
       "_view_name": "LayoutView",
       "align_content": null,
       "align_items": null,
       "align_self": null,
       "border": null,
       "bottom": null,
       "display": null,
       "flex": null,
       "flex_flow": null,
       "grid_area": null,
       "grid_auto_columns": null,
       "grid_auto_flow": null,
       "grid_auto_rows": null,
       "grid_column": null,
       "grid_gap": null,
       "grid_row": null,
       "grid_template_areas": null,
       "grid_template_columns": null,
       "grid_template_rows": null,
       "height": null,
       "justify_content": null,
       "justify_items": null,
       "left": null,
       "margin": null,
       "max_height": null,
       "max_width": null,
       "min_height": null,
       "min_width": null,
       "object_fit": null,
       "object_position": null,
       "order": null,
       "overflow": null,
       "overflow_x": null,
       "overflow_y": null,
       "padding": null,
       "right": null,
       "top": null,
       "visibility": null,
       "width": null
      }
     },
     "06ce4f6762204a8ca9397aa1db785f54": {
      "model_module": "@jupyter-widgets/controls",
      "model_module_version": "1.5.0",
      "model_name": "HTMLModel",
      "state": {
       "_dom_classes": [],
       "_model_module": "@jupyter-widgets/controls",
       "_model_module_version": "1.5.0",
       "_model_name": "HTMLModel",
       "_view_count": null,
       "_view_module": "@jupyter-widgets/controls",
       "_view_module_version": "1.5.0",
       "_view_name": "HTMLView",
       "description": "",
       "description_tooltip": null,
       "layout": "IPY_MODEL_aaa8038e8c91490c926b4d1793f68f0a",
       "placeholder": "​",
       "style": "IPY_MODEL_c4c5c380cde643288f2699a016a07809",
       "value": " 147/147 [00:00&lt;00:00, 6.53kB/s]"
      }
     },
     "07cea5cb6ce54d8ea89794095793c084": {
      "model_module": "@jupyter-widgets/controls",
      "model_module_version": "1.5.0",
      "model_name": "ProgressStyleModel",
      "state": {
       "_model_module": "@jupyter-widgets/controls",
       "_model_module_version": "1.5.0",
       "_model_name": "ProgressStyleModel",
       "_view_count": null,
       "_view_module": "@jupyter-widgets/base",
       "_view_module_version": "1.2.0",
       "_view_name": "StyleView",
       "bar_color": null,
       "description_width": ""
      }
     },
     "08694c65e2204e9aac10de5b43feadb6": {
      "model_module": "@jupyter-widgets/base",
      "model_module_version": "1.2.0",
      "model_name": "LayoutModel",
      "state": {
       "_model_module": "@jupyter-widgets/base",
       "_model_module_version": "1.2.0",
       "_model_name": "LayoutModel",
       "_view_count": null,
       "_view_module": "@jupyter-widgets/base",
       "_view_module_version": "1.2.0",
       "_view_name": "LayoutView",
       "align_content": null,
       "align_items": null,
       "align_self": null,
       "border": null,
       "bottom": null,
       "display": null,
       "flex": null,
       "flex_flow": null,
       "grid_area": null,
       "grid_auto_columns": null,
       "grid_auto_flow": null,
       "grid_auto_rows": null,
       "grid_column": null,
       "grid_gap": null,
       "grid_row": null,
       "grid_template_areas": null,
       "grid_template_columns": null,
       "grid_template_rows": null,
       "height": null,
       "justify_content": null,
       "justify_items": null,
       "left": null,
       "margin": null,
       "max_height": null,
       "max_width": null,
       "min_height": null,
       "min_width": null,
       "object_fit": null,
       "object_position": null,
       "order": null,
       "overflow": null,
       "overflow_x": null,
       "overflow_y": null,
       "padding": null,
       "right": null,
       "top": null,
       "visibility": null,
       "width": null
      }
     },
     "08c61a9a5b2e4077afc3d94b3df319d9": {
      "model_module": "@jupyter-widgets/controls",
      "model_module_version": "1.5.0",
      "model_name": "FloatProgressModel",
      "state": {
       "_dom_classes": [],
       "_model_module": "@jupyter-widgets/controls",
       "_model_module_version": "1.5.0",
       "_model_name": "FloatProgressModel",
       "_view_count": null,
       "_view_module": "@jupyter-widgets/controls",
       "_view_module_version": "1.5.0",
       "_view_name": "ProgressView",
       "bar_style": "success",
       "description": "",
       "description_tooltip": null,
       "layout": "IPY_MODEL_4d7d61eb169d491dbef7739bd1db0f4a",
       "max": 251.0,
       "min": 0.0,
       "orientation": "horizontal",
       "style": "IPY_MODEL_38ad4c514fa94ca79e2dcf3830dcf489",
       "value": 251.0
      }
     },
     "0c1c2bf569d84df196cbdf7688b05b73": {
      "model_module": "@jupyter-widgets/controls",
      "model_module_version": "1.5.0",
      "model_name": "DescriptionStyleModel",
      "state": {
       "_model_module": "@jupyter-widgets/controls",
       "_model_module_version": "1.5.0",
       "_model_name": "DescriptionStyleModel",
       "_view_count": null,
       "_view_module": "@jupyter-widgets/base",
       "_view_module_version": "1.2.0",
       "_view_name": "StyleView",
       "description_width": ""
      }
     },
     "1cb37079c65e4f5a8e47dfe657876ed3": {
      "model_module": "@jupyter-widgets/base",
      "model_module_version": "1.2.0",
      "model_name": "LayoutModel",
      "state": {
       "_model_module": "@jupyter-widgets/base",
       "_model_module_version": "1.2.0",
       "_model_name": "LayoutModel",
       "_view_count": null,
       "_view_module": "@jupyter-widgets/base",
       "_view_module_version": "1.2.0",
       "_view_name": "LayoutView",
       "align_content": null,
       "align_items": null,
       "align_self": null,
       "border": null,
       "bottom": null,
       "display": null,
       "flex": null,
       "flex_flow": null,
       "grid_area": null,
       "grid_auto_columns": null,
       "grid_auto_flow": null,
       "grid_auto_rows": null,
       "grid_column": null,
       "grid_gap": null,
       "grid_row": null,
       "grid_template_areas": null,
       "grid_template_columns": null,
       "grid_template_rows": null,
       "height": null,
       "justify_content": null,
       "justify_items": null,
       "left": null,
       "margin": null,
       "max_height": null,
       "max_width": null,
       "min_height": null,
       "min_width": null,
       "object_fit": null,
       "object_position": null,
       "order": null,
       "overflow": null,
       "overflow_x": null,
       "overflow_y": null,
       "padding": null,
       "right": null,
       "top": null,
       "visibility": null,
       "width": null
      }
     },
     "2bfce982bf454cf985117efdf6c48ce8": {
      "model_module": "@jupyter-widgets/base",
      "model_module_version": "1.2.0",
      "model_name": "LayoutModel",
      "state": {
       "_model_module": "@jupyter-widgets/base",
       "_model_module_version": "1.2.0",
       "_model_name": "LayoutModel",
       "_view_count": null,
       "_view_module": "@jupyter-widgets/base",
       "_view_module_version": "1.2.0",
       "_view_name": "LayoutView",
       "align_content": null,
       "align_items": null,
       "align_self": null,
       "border": null,
       "bottom": null,
       "display": null,
       "flex": null,
       "flex_flow": null,
       "grid_area": null,
       "grid_auto_columns": null,
       "grid_auto_flow": null,
       "grid_auto_rows": null,
       "grid_column": null,
       "grid_gap": null,
       "grid_row": null,
       "grid_template_areas": null,
       "grid_template_columns": null,
       "grid_template_rows": null,
       "height": null,
       "justify_content": null,
       "justify_items": null,
       "left": null,
       "margin": null,
       "max_height": null,
       "max_width": null,
       "min_height": null,
       "min_width": null,
       "object_fit": null,
       "object_position": null,
       "order": null,
       "overflow": null,
       "overflow_x": null,
       "overflow_y": null,
       "padding": null,
       "right": null,
       "top": null,
       "visibility": null,
       "width": null
      }
     },
     "2e1b18eb1db5469a97f7074517e35a66": {
      "model_module": "@jupyter-widgets/controls",
      "model_module_version": "1.5.0",
      "model_name": "DescriptionStyleModel",
      "state": {
       "_model_module": "@jupyter-widgets/controls",
       "_model_module_version": "1.5.0",
       "_model_name": "DescriptionStyleModel",
       "_view_count": null,
       "_view_module": "@jupyter-widgets/base",
       "_view_module_version": "1.2.0",
       "_view_name": "StyleView",
       "description_width": ""
      }
     },
     "2ed856aa9b3240a49e3f1507a065d3ea": {
      "model_module": "@jupyter-widgets/controls",
      "model_module_version": "1.5.0",
      "model_name": "DescriptionStyleModel",
      "state": {
       "_model_module": "@jupyter-widgets/controls",
       "_model_module_version": "1.5.0",
       "_model_name": "DescriptionStyleModel",
       "_view_count": null,
       "_view_module": "@jupyter-widgets/base",
       "_view_module_version": "1.2.0",
       "_view_name": "StyleView",
       "description_width": ""
      }
     },
     "306862d3a4c44dd4b9b497d0fea57722": {
      "model_module": "@jupyter-widgets/base",
      "model_module_version": "1.2.0",
      "model_name": "LayoutModel",
      "state": {
       "_model_module": "@jupyter-widgets/base",
       "_model_module_version": "1.2.0",
       "_model_name": "LayoutModel",
       "_view_count": null,
       "_view_module": "@jupyter-widgets/base",
       "_view_module_version": "1.2.0",
       "_view_name": "LayoutView",
       "align_content": null,
       "align_items": null,
       "align_self": null,
       "border": null,
       "bottom": null,
       "display": null,
       "flex": null,
       "flex_flow": null,
       "grid_area": null,
       "grid_auto_columns": null,
       "grid_auto_flow": null,
       "grid_auto_rows": null,
       "grid_column": null,
       "grid_gap": null,
       "grid_row": null,
       "grid_template_areas": null,
       "grid_template_columns": null,
       "grid_template_rows": null,
       "height": null,
       "justify_content": null,
       "justify_items": null,
       "left": null,
       "margin": null,
       "max_height": null,
       "max_width": null,
       "min_height": null,
       "min_width": null,
       "object_fit": null,
       "object_position": null,
       "order": null,
       "overflow": null,
       "overflow_x": null,
       "overflow_y": null,
       "padding": null,
       "right": null,
       "top": null,
       "visibility": null,
       "width": null
      }
     },
     "31fddb8b4b0041f3833fdb3801d07ab5": {
      "model_module": "@jupyter-widgets/controls",
      "model_module_version": "1.5.0",
      "model_name": "FloatProgressModel",
      "state": {
       "_dom_classes": [],
       "_model_module": "@jupyter-widgets/controls",
       "_model_module_version": "1.5.0",
       "_model_name": "FloatProgressModel",
       "_view_count": null,
       "_view_module": "@jupyter-widgets/controls",
       "_view_module_version": "1.5.0",
       "_view_name": "ProgressView",
       "bar_style": "success",
       "description": "",
       "description_tooltip": null,
       "layout": "IPY_MODEL_ac133814b9374c60b9125a59ee0244d3",
       "max": 791656.0,
       "min": 0.0,
       "orientation": "horizontal",
       "style": "IPY_MODEL_ced23360a4f645aca7c22d65956e92a1",
       "value": 791656.0
      }
     },
     "350a7e00f3a842b3a9385cb7828c8080": {
      "model_module": "@jupyter-widgets/controls",
      "model_module_version": "1.5.0",
      "model_name": "HBoxModel",
      "state": {
       "_dom_classes": [],
       "_model_module": "@jupyter-widgets/controls",
       "_model_module_version": "1.5.0",
       "_model_name": "HBoxModel",
       "_view_count": null,
       "_view_module": "@jupyter-widgets/controls",
       "_view_module_version": "1.5.0",
       "_view_name": "HBoxView",
       "box_style": "",
       "children": [
        "IPY_MODEL_7744590417d34a1c815db3370b2fe9b9",
        "IPY_MODEL_08c61a9a5b2e4077afc3d94b3df319d9",
        "IPY_MODEL_5cd5ff9724e4414c8c0747dce2ac3b9d"
       ],
       "layout": "IPY_MODEL_8d22b1b695164d2ba0f062234d07948a"
      }
     },
     "360ae168607f48a882150b7b52fe8ed6": {
      "model_module": "@jupyter-widgets/controls",
      "model_module_version": "1.5.0",
      "model_name": "HTMLModel",
      "state": {
       "_dom_classes": [],
       "_model_module": "@jupyter-widgets/controls",
       "_model_module_version": "1.5.0",
       "_model_name": "HTMLModel",
       "_view_count": null,
       "_view_module": "@jupyter-widgets/controls",
       "_view_module_version": "1.5.0",
       "_view_name": "HTMLView",
       "description": "",
       "description_tooltip": null,
       "layout": "IPY_MODEL_08694c65e2204e9aac10de5b43feadb6",
       "placeholder": "​",
       "style": "IPY_MODEL_b5bf729695b142d1b5793dfb45e697c6",
       "value": "Downloading (…)neration_config.json: 100%"
      }
     },
     "38ad4c514fa94ca79e2dcf3830dcf489": {
      "model_module": "@jupyter-widgets/controls",
      "model_module_version": "1.5.0",
      "model_name": "ProgressStyleModel",
      "state": {
       "_model_module": "@jupyter-widgets/controls",
       "_model_module_version": "1.5.0",
       "_model_name": "ProgressStyleModel",
       "_view_count": null,
       "_view_module": "@jupyter-widgets/base",
       "_view_module_version": "1.2.0",
       "_view_name": "StyleView",
       "bar_color": null,
       "description_width": ""
      }
     },
     "3c9c54ac8ecc44228ad562b6a0845744": {
      "model_module": "@jupyter-widgets/base",
      "model_module_version": "1.2.0",
      "model_name": "LayoutModel",
      "state": {
       "_model_module": "@jupyter-widgets/base",
       "_model_module_version": "1.2.0",
       "_model_name": "LayoutModel",
       "_view_count": null,
       "_view_module": "@jupyter-widgets/base",
       "_view_module_version": "1.2.0",
       "_view_name": "LayoutView",
       "align_content": null,
       "align_items": null,
       "align_self": null,
       "border": null,
       "bottom": null,
       "display": null,
       "flex": null,
       "flex_flow": null,
       "grid_area": null,
       "grid_auto_columns": null,
       "grid_auto_flow": null,
       "grid_auto_rows": null,
       "grid_column": null,
       "grid_gap": null,
       "grid_row": null,
       "grid_template_areas": null,
       "grid_template_columns": null,
       "grid_template_rows": null,
       "height": null,
       "justify_content": null,
       "justify_items": null,
       "left": null,
       "margin": null,
       "max_height": null,
       "max_width": null,
       "min_height": null,
       "min_width": null,
       "object_fit": null,
       "object_position": null,
       "order": null,
       "overflow": null,
       "overflow_x": null,
       "overflow_y": null,
       "padding": null,
       "right": null,
       "top": null,
       "visibility": null,
       "width": null
      }
     },
     "3d340e97b77943309be1650aff9622d9": {
      "model_module": "@jupyter-widgets/controls",
      "model_module_version": "1.5.0",
      "model_name": "HTMLModel",
      "state": {
       "_dom_classes": [],
       "_model_module": "@jupyter-widgets/controls",
       "_model_module_version": "1.5.0",
       "_model_name": "HTMLModel",
       "_view_count": null,
       "_view_module": "@jupyter-widgets/controls",
       "_view_module_version": "1.5.0",
       "_view_name": "HTMLView",
       "description": "",
       "description_tooltip": null,
       "layout": "IPY_MODEL_dfda3cd70e3942628f77d906a2214a63",
       "placeholder": "​",
       "style": "IPY_MODEL_2ed856aa9b3240a49e3f1507a065d3ea",
       "value": "Downloading pytorch_model.bin: 100%"
      }
     },
     "43a7eb0489ab45a68c5fec0a62627f04": {
      "model_module": "@jupyter-widgets/controls",
      "model_module_version": "1.5.0",
      "model_name": "FloatProgressModel",
      "state": {
       "_dom_classes": [],
       "_model_module": "@jupyter-widgets/controls",
       "_model_module_version": "1.5.0",
       "_model_name": "FloatProgressModel",
       "_view_count": null,
       "_view_module": "@jupyter-widgets/controls",
       "_view_module_version": "1.5.0",
       "_view_name": "ProgressView",
       "bar_style": "success",
       "description": "",
       "description_tooltip": null,
       "layout": "IPY_MODEL_49cf7bbd0aa3450b8eb9525a0b75ba6e",
       "max": 1389353.0,
       "min": 0.0,
       "orientation": "horizontal",
       "style": "IPY_MODEL_07cea5cb6ce54d8ea89794095793c084",
       "value": 1389353.0
      }
     },
     "47fe9f04611b4fddb7c59a1393a11279": {
      "model_module": "@jupyter-widgets/controls",
      "model_module_version": "1.5.0",
      "model_name": "DescriptionStyleModel",
      "state": {
       "_model_module": "@jupyter-widgets/controls",
       "_model_module_version": "1.5.0",
       "_model_name": "DescriptionStyleModel",
       "_view_count": null,
       "_view_module": "@jupyter-widgets/base",
       "_view_module_version": "1.2.0",
       "_view_name": "StyleView",
       "description_width": ""
      }
     },
     "4824edc0898045279ee882bedf3c8526": {
      "model_module": "@jupyter-widgets/base",
      "model_module_version": "1.2.0",
      "model_name": "LayoutModel",
      "state": {
       "_model_module": "@jupyter-widgets/base",
       "_model_module_version": "1.2.0",
       "_model_name": "LayoutModel",
       "_view_count": null,
       "_view_module": "@jupyter-widgets/base",
       "_view_module_version": "1.2.0",
       "_view_name": "LayoutView",
       "align_content": null,
       "align_items": null,
       "align_self": null,
       "border": null,
       "bottom": null,
       "display": null,
       "flex": null,
       "flex_flow": null,
       "grid_area": null,
       "grid_auto_columns": null,
       "grid_auto_flow": null,
       "grid_auto_rows": null,
       "grid_column": null,
       "grid_gap": null,
       "grid_row": null,
       "grid_template_areas": null,
       "grid_template_columns": null,
       "grid_template_rows": null,
       "height": null,
       "justify_content": null,
       "justify_items": null,
       "left": null,
       "margin": null,
       "max_height": null,
       "max_width": null,
       "min_height": null,
       "min_width": null,
       "object_fit": null,
       "object_position": null,
       "order": null,
       "overflow": null,
       "overflow_x": null,
       "overflow_y": null,
       "padding": null,
       "right": null,
       "top": null,
       "visibility": null,
       "width": null
      }
     },
     "49cf7bbd0aa3450b8eb9525a0b75ba6e": {
      "model_module": "@jupyter-widgets/base",
      "model_module_version": "1.2.0",
      "model_name": "LayoutModel",
      "state": {
       "_model_module": "@jupyter-widgets/base",
       "_model_module_version": "1.2.0",
       "_model_name": "LayoutModel",
       "_view_count": null,
       "_view_module": "@jupyter-widgets/base",
       "_view_module_version": "1.2.0",
       "_view_name": "LayoutView",
       "align_content": null,
       "align_items": null,
       "align_self": null,
       "border": null,
       "bottom": null,
       "display": null,
       "flex": null,
       "flex_flow": null,
       "grid_area": null,
       "grid_auto_columns": null,
       "grid_auto_flow": null,
       "grid_auto_rows": null,
       "grid_column": null,
       "grid_gap": null,
       "grid_row": null,
       "grid_template_areas": null,
       "grid_template_columns": null,
       "grid_template_rows": null,
       "height": null,
       "justify_content": null,
       "justify_items": null,
       "left": null,
       "margin": null,
       "max_height": null,
       "max_width": null,
       "min_height": null,
       "min_width": null,
       "object_fit": null,
       "object_position": null,
       "order": null,
       "overflow": null,
       "overflow_x": null,
       "overflow_y": null,
       "padding": null,
       "right": null,
       "top": null,
       "visibility": null,
       "width": null
      }
     },
     "4a32e534925e4b7280a2b86941830606": {
      "model_module": "@jupyter-widgets/controls",
      "model_module_version": "1.5.0",
      "model_name": "HTMLModel",
      "state": {
       "_dom_classes": [],
       "_model_module": "@jupyter-widgets/controls",
       "_model_module_version": "1.5.0",
       "_model_name": "HTMLModel",
       "_view_count": null,
       "_view_module": "@jupyter-widgets/controls",
       "_view_module_version": "1.5.0",
       "_view_name": "HTMLView",
       "description": "",
       "description_tooltip": null,
       "layout": "IPY_MODEL_f3d35d688d32422597bd69685c2430eb",
       "placeholder": "​",
       "style": "IPY_MODEL_47fe9f04611b4fddb7c59a1393a11279",
       "value": "Downloading (…)ve/main/spiece.model: 100%"
      }
     },
     "4d7d61eb169d491dbef7739bd1db0f4a": {
      "model_module": "@jupyter-widgets/base",
      "model_module_version": "1.2.0",
      "model_name": "LayoutModel",
      "state": {
       "_model_module": "@jupyter-widgets/base",
       "_model_module_version": "1.2.0",
       "_model_name": "LayoutModel",
       "_view_count": null,
       "_view_module": "@jupyter-widgets/base",
       "_view_module_version": "1.2.0",
       "_view_name": "LayoutView",
       "align_content": null,
       "align_items": null,
       "align_self": null,
       "border": null,
       "bottom": null,
       "display": null,
       "flex": "2",
       "flex_flow": null,
       "grid_area": null,
       "grid_auto_columns": null,
       "grid_auto_flow": null,
       "grid_auto_rows": null,
       "grid_column": null,
       "grid_gap": null,
       "grid_row": null,
       "grid_template_areas": null,
       "grid_template_columns": null,
       "grid_template_rows": null,
       "height": null,
       "justify_content": null,
       "justify_items": null,
       "left": null,
       "margin": null,
       "max_height": null,
       "max_width": null,
       "min_height": null,
       "min_width": null,
       "object_fit": null,
       "object_position": null,
       "order": null,
       "overflow": null,
       "overflow_x": null,
       "overflow_y": null,
       "padding": null,
       "right": null,
       "top": null,
       "visibility": null,
       "width": null
      }
     },
     "566d1e4b58e64d3db1eb0fc83a419f42": {
      "model_module": "@jupyter-widgets/base",
      "model_module_version": "1.2.0",
      "model_name": "LayoutModel",
      "state": {
       "_model_module": "@jupyter-widgets/base",
       "_model_module_version": "1.2.0",
       "_model_name": "LayoutModel",
       "_view_count": null,
       "_view_module": "@jupyter-widgets/base",
       "_view_module_version": "1.2.0",
       "_view_name": "LayoutView",
       "align_content": null,
       "align_items": null,
       "align_self": null,
       "border": null,
       "bottom": null,
       "display": null,
       "flex": null,
       "flex_flow": null,
       "grid_area": null,
       "grid_auto_columns": null,
       "grid_auto_flow": null,
       "grid_auto_rows": null,
       "grid_column": null,
       "grid_gap": null,
       "grid_row": null,
       "grid_template_areas": null,
       "grid_template_columns": null,
       "grid_template_rows": null,
       "height": null,
       "justify_content": null,
       "justify_items": null,
       "left": null,
       "margin": null,
       "max_height": null,
       "max_width": null,
       "min_height": null,
       "min_width": null,
       "object_fit": null,
       "object_position": null,
       "order": null,
       "overflow": null,
       "overflow_x": null,
       "overflow_y": null,
       "padding": null,
       "right": null,
       "top": null,
       "visibility": null,
       "width": null
      }
     },
     "5cd5ff9724e4414c8c0747dce2ac3b9d": {
      "model_module": "@jupyter-widgets/controls",
      "model_module_version": "1.5.0",
      "model_name": "HTMLModel",
      "state": {
       "_dom_classes": [],
       "_model_module": "@jupyter-widgets/controls",
       "_model_module_version": "1.5.0",
       "_model_name": "HTMLModel",
       "_view_count": null,
       "_view_module": "@jupyter-widgets/controls",
       "_view_module_version": "1.5.0",
       "_view_name": "HTMLView",
       "description": "",
       "description_tooltip": null,
       "layout": "IPY_MODEL_dbe0afb57db640a5a6ee1773d8a37886",
       "placeholder": "​",
       "style": "IPY_MODEL_ff7f9480bdd644599d97546177dab225",
       "value": " 251/251 [05:00&lt;00:00,  1.20s/it, loss=0.43, v_num=0, train_loss=0.813]"
      }
     },
     "63bc2e3e812f43d38f20481b64ee757c": {
      "model_module": "@jupyter-widgets/base",
      "model_module_version": "1.2.0",
      "model_name": "LayoutModel",
      "state": {
       "_model_module": "@jupyter-widgets/base",
       "_model_module_version": "1.2.0",
       "_model_name": "LayoutModel",
       "_view_count": null,
       "_view_module": "@jupyter-widgets/base",
       "_view_module_version": "1.2.0",
       "_view_name": "LayoutView",
       "align_content": null,
       "align_items": null,
       "align_self": null,
       "border": null,
       "bottom": null,
       "display": null,
       "flex": null,
       "flex_flow": null,
       "grid_area": null,
       "grid_auto_columns": null,
       "grid_auto_flow": null,
       "grid_auto_rows": null,
       "grid_column": null,
       "grid_gap": null,
       "grid_row": null,
       "grid_template_areas": null,
       "grid_template_columns": null,
       "grid_template_rows": null,
       "height": null,
       "justify_content": null,
       "justify_items": null,
       "left": null,
       "margin": null,
       "max_height": null,
       "max_width": null,
       "min_height": null,
       "min_width": null,
       "object_fit": null,
       "object_position": null,
       "order": null,
       "overflow": null,
       "overflow_x": null,
       "overflow_y": null,
       "padding": null,
       "right": null,
       "top": null,
       "visibility": null,
       "width": null
      }
     },
     "63ec68335fb84d18b2bfd90b1f232d8e": {
      "model_module": "@jupyter-widgets/controls",
      "model_module_version": "1.5.0",
      "model_name": "ProgressStyleModel",
      "state": {
       "_model_module": "@jupyter-widgets/controls",
       "_model_module_version": "1.5.0",
       "_model_name": "ProgressStyleModel",
       "_view_count": null,
       "_view_module": "@jupyter-widgets/base",
       "_view_module_version": "1.2.0",
       "_view_name": "StyleView",
       "bar_color": null,
       "description_width": ""
      }
     },
     "6ae55a1c41834cf8aeab0ed5ff478984": {
      "model_module": "@jupyter-widgets/base",
      "model_module_version": "1.2.0",
      "model_name": "LayoutModel",
      "state": {
       "_model_module": "@jupyter-widgets/base",
       "_model_module_version": "1.2.0",
       "_model_name": "LayoutModel",
       "_view_count": null,
       "_view_module": "@jupyter-widgets/base",
       "_view_module_version": "1.2.0",
       "_view_name": "LayoutView",
       "align_content": null,
       "align_items": null,
       "align_self": null,
       "border": null,
       "bottom": null,
       "display": null,
       "flex": null,
       "flex_flow": null,
       "grid_area": null,
       "grid_auto_columns": null,
       "grid_auto_flow": null,
       "grid_auto_rows": null,
       "grid_column": null,
       "grid_gap": null,
       "grid_row": null,
       "grid_template_areas": null,
       "grid_template_columns": null,
       "grid_template_rows": null,
       "height": null,
       "justify_content": null,
       "justify_items": null,
       "left": null,
       "margin": null,
       "max_height": null,
       "max_width": null,
       "min_height": null,
       "min_width": null,
       "object_fit": null,
       "object_position": null,
       "order": null,
       "overflow": null,
       "overflow_x": null,
       "overflow_y": null,
       "padding": null,
       "right": null,
       "top": null,
       "visibility": null,
       "width": null
      }
     },
     "722ace84c07c4d9792c0596b546ec975": {
      "model_module": "@jupyter-widgets/controls",
      "model_module_version": "1.5.0",
      "model_name": "HTMLModel",
      "state": {
       "_dom_classes": [],
       "_model_module": "@jupyter-widgets/controls",
       "_model_module_version": "1.5.0",
       "_model_name": "HTMLModel",
       "_view_count": null,
       "_view_module": "@jupyter-widgets/controls",
       "_view_module_version": "1.5.0",
       "_view_name": "HTMLView",
       "description": "",
       "description_tooltip": null,
       "layout": "IPY_MODEL_dda83d276ca3491a82c7d079c3b31a27",
       "placeholder": "​",
       "style": "IPY_MODEL_2e1b18eb1db5469a97f7074517e35a66",
       "value": " 1.21k/1.21k [00:00&lt;00:00, 59.2kB/s]"
      }
     },
     "7542bb1782994bc2b65fc06db9d1fa0a": {
      "model_module": "@jupyter-widgets/controls",
      "model_module_version": "1.5.0",
      "model_name": "HBoxModel",
      "state": {
       "_dom_classes": [],
       "_model_module": "@jupyter-widgets/controls",
       "_model_module_version": "1.5.0",
       "_model_name": "HBoxModel",
       "_view_count": null,
       "_view_module": "@jupyter-widgets/controls",
       "_view_module_version": "1.5.0",
       "_view_name": "HBoxView",
       "box_style": "",
       "children": [
        "IPY_MODEL_75e1e09117f84a8d80e63429c2f39fcd",
        "IPY_MODEL_e00130c698b644a5a80804fb1b537563",
        "IPY_MODEL_722ace84c07c4d9792c0596b546ec975"
       ],
       "layout": "IPY_MODEL_1cb37079c65e4f5a8e47dfe657876ed3"
      }
     },
     "75e1e09117f84a8d80e63429c2f39fcd": {
      "model_module": "@jupyter-widgets/controls",
      "model_module_version": "1.5.0",
      "model_name": "HTMLModel",
      "state": {
       "_dom_classes": [],
       "_model_module": "@jupyter-widgets/controls",
       "_model_module_version": "1.5.0",
       "_model_name": "HTMLModel",
       "_view_count": null,
       "_view_module": "@jupyter-widgets/controls",
       "_view_module_version": "1.5.0",
       "_view_name": "HTMLView",
       "description": "",
       "description_tooltip": null,
       "layout": "IPY_MODEL_90716977ca7d4734ae7ad67fc7ef8614",
       "placeholder": "​",
       "style": "IPY_MODEL_8b9d16b87d064fc8b504d1a6eab37062",
       "value": "Downloading (…)lve/main/config.json: 100%"
      }
     },
     "7744590417d34a1c815db3370b2fe9b9": {
      "model_module": "@jupyter-widgets/controls",
      "model_module_version": "1.5.0",
      "model_name": "HTMLModel",
      "state": {
       "_dom_classes": [],
       "_model_module": "@jupyter-widgets/controls",
       "_model_module_version": "1.5.0",
       "_model_name": "HTMLModel",
       "_view_count": null,
       "_view_module": "@jupyter-widgets/controls",
       "_view_module_version": "1.5.0",
       "_view_name": "HTMLView",
       "description": "",
       "description_tooltip": null,
       "layout": "IPY_MODEL_f71a4c7ab0034e0c8128e6c70bb6cd5e",
       "placeholder": "​",
       "style": "IPY_MODEL_0c1c2bf569d84df196cbdf7688b05b73",
       "value": "Epoch 2: 100%"
      }
     },
     "7a8aef8219174242bb3751e5bbe4b1ff": {
      "model_module": "@jupyter-widgets/controls",
      "model_module_version": "1.5.0",
      "model_name": "DescriptionStyleModel",
      "state": {
       "_model_module": "@jupyter-widgets/controls",
       "_model_module_version": "1.5.0",
       "_model_name": "DescriptionStyleModel",
       "_view_count": null,
       "_view_module": "@jupyter-widgets/base",
       "_view_module_version": "1.2.0",
       "_view_name": "StyleView",
       "description_width": ""
      }
     },
     "82a04c4c3d5d40ea9f0647a37ddff101": {
      "model_module": "@jupyter-widgets/base",
      "model_module_version": "1.2.0",
      "model_name": "LayoutModel",
      "state": {
       "_model_module": "@jupyter-widgets/base",
       "_model_module_version": "1.2.0",
       "_model_name": "LayoutModel",
       "_view_count": null,
       "_view_module": "@jupyter-widgets/base",
       "_view_module_version": "1.2.0",
       "_view_name": "LayoutView",
       "align_content": null,
       "align_items": null,
       "align_self": null,
       "border": null,
       "bottom": null,
       "display": null,
       "flex": null,
       "flex_flow": null,
       "grid_area": null,
       "grid_auto_columns": null,
       "grid_auto_flow": null,
       "grid_auto_rows": null,
       "grid_column": null,
       "grid_gap": null,
       "grid_row": null,
       "grid_template_areas": null,
       "grid_template_columns": null,
       "grid_template_rows": null,
       "height": null,
       "justify_content": null,
       "justify_items": null,
       "left": null,
       "margin": null,
       "max_height": null,
       "max_width": null,
       "min_height": null,
       "min_width": null,
       "object_fit": null,
       "object_position": null,
       "order": null,
       "overflow": null,
       "overflow_x": null,
       "overflow_y": null,
       "padding": null,
       "right": null,
       "top": null,
       "visibility": null,
       "width": null
      }
     },
     "88b6f90764c54154bb5051c5249972b5": {
      "model_module": "@jupyter-widgets/controls",
      "model_module_version": "1.5.0",
      "model_name": "HBoxModel",
      "state": {
       "_dom_classes": [],
       "_model_module": "@jupyter-widgets/controls",
       "_model_module_version": "1.5.0",
       "_model_name": "HBoxModel",
       "_view_count": null,
       "_view_module": "@jupyter-widgets/controls",
       "_view_module_version": "1.5.0",
       "_view_name": "HBoxView",
       "box_style": "",
       "children": [
        "IPY_MODEL_3d340e97b77943309be1650aff9622d9",
        "IPY_MODEL_8c13a69546a445feac30591378b8a74e",
        "IPY_MODEL_fe1b4375504c4caeb2040a5dc07d35fe"
       ],
       "layout": "IPY_MODEL_8cfac47b1f3a4240bd7b58e327d989ba"
      }
     },
     "8b9d16b87d064fc8b504d1a6eab37062": {
      "model_module": "@jupyter-widgets/controls",
      "model_module_version": "1.5.0",
      "model_name": "DescriptionStyleModel",
      "state": {
       "_model_module": "@jupyter-widgets/controls",
       "_model_module_version": "1.5.0",
       "_model_name": "DescriptionStyleModel",
       "_view_count": null,
       "_view_module": "@jupyter-widgets/base",
       "_view_module_version": "1.2.0",
       "_view_name": "StyleView",
       "description_width": ""
      }
     },
     "8c13a69546a445feac30591378b8a74e": {
      "model_module": "@jupyter-widgets/controls",
      "model_module_version": "1.5.0",
      "model_name": "FloatProgressModel",
      "state": {
       "_dom_classes": [],
       "_model_module": "@jupyter-widgets/controls",
       "_model_module_version": "1.5.0",
       "_model_name": "FloatProgressModel",
       "_view_count": null,
       "_view_module": "@jupyter-widgets/controls",
       "_view_module_version": "1.5.0",
       "_view_name": "ProgressView",
       "bar_style": "success",
       "description": "",
       "description_tooltip": null,
       "layout": "IPY_MODEL_63bc2e3e812f43d38f20481b64ee757c",
       "max": 891691430.0,
       "min": 0.0,
       "orientation": "horizontal",
       "style": "IPY_MODEL_9b9c66f665284265890952b4d48a63a3",
       "value": 891691430.0
      }
     },
     "8cfac47b1f3a4240bd7b58e327d989ba": {
      "model_module": "@jupyter-widgets/base",
      "model_module_version": "1.2.0",
      "model_name": "LayoutModel",
      "state": {
       "_model_module": "@jupyter-widgets/base",
       "_model_module_version": "1.2.0",
       "_model_name": "LayoutModel",
       "_view_count": null,
       "_view_module": "@jupyter-widgets/base",
       "_view_module_version": "1.2.0",
       "_view_name": "LayoutView",
       "align_content": null,
       "align_items": null,
       "align_self": null,
       "border": null,
       "bottom": null,
       "display": null,
       "flex": null,
       "flex_flow": null,
       "grid_area": null,
       "grid_auto_columns": null,
       "grid_auto_flow": null,
       "grid_auto_rows": null,
       "grid_column": null,
       "grid_gap": null,
       "grid_row": null,
       "grid_template_areas": null,
       "grid_template_columns": null,
       "grid_template_rows": null,
       "height": null,
       "justify_content": null,
       "justify_items": null,
       "left": null,
       "margin": null,
       "max_height": null,
       "max_width": null,
       "min_height": null,
       "min_width": null,
       "object_fit": null,
       "object_position": null,
       "order": null,
       "overflow": null,
       "overflow_x": null,
       "overflow_y": null,
       "padding": null,
       "right": null,
       "top": null,
       "visibility": null,
       "width": null
      }
     },
     "8d22b1b695164d2ba0f062234d07948a": {
      "model_module": "@jupyter-widgets/base",
      "model_module_version": "1.2.0",
      "model_name": "LayoutModel",
      "state": {
       "_model_module": "@jupyter-widgets/base",
       "_model_module_version": "1.2.0",
       "_model_name": "LayoutModel",
       "_view_count": null,
       "_view_module": "@jupyter-widgets/base",
       "_view_module_version": "1.2.0",
       "_view_name": "LayoutView",
       "align_content": null,
       "align_items": null,
       "align_self": null,
       "border": null,
       "bottom": null,
       "display": "inline-flex",
       "flex": null,
       "flex_flow": "row wrap",
       "grid_area": null,
       "grid_auto_columns": null,
       "grid_auto_flow": null,
       "grid_auto_rows": null,
       "grid_column": null,
       "grid_gap": null,
       "grid_row": null,
       "grid_template_areas": null,
       "grid_template_columns": null,
       "grid_template_rows": null,
       "height": null,
       "justify_content": null,
       "justify_items": null,
       "left": null,
       "margin": null,
       "max_height": null,
       "max_width": null,
       "min_height": null,
       "min_width": null,
       "object_fit": null,
       "object_position": null,
       "order": null,
       "overflow": null,
       "overflow_x": null,
       "overflow_y": null,
       "padding": null,
       "right": null,
       "top": null,
       "visibility": null,
       "width": "100%"
      }
     },
     "90716977ca7d4734ae7ad67fc7ef8614": {
      "model_module": "@jupyter-widgets/base",
      "model_module_version": "1.2.0",
      "model_name": "LayoutModel",
      "state": {
       "_model_module": "@jupyter-widgets/base",
       "_model_module_version": "1.2.0",
       "_model_name": "LayoutModel",
       "_view_count": null,
       "_view_module": "@jupyter-widgets/base",
       "_view_module_version": "1.2.0",
       "_view_name": "LayoutView",
       "align_content": null,
       "align_items": null,
       "align_self": null,
       "border": null,
       "bottom": null,
       "display": null,
       "flex": null,
       "flex_flow": null,
       "grid_area": null,
       "grid_auto_columns": null,
       "grid_auto_flow": null,
       "grid_auto_rows": null,
       "grid_column": null,
       "grid_gap": null,
       "grid_row": null,
       "grid_template_areas": null,
       "grid_template_columns": null,
       "grid_template_rows": null,
       "height": null,
       "justify_content": null,
       "justify_items": null,
       "left": null,
       "margin": null,
       "max_height": null,
       "max_width": null,
       "min_height": null,
       "min_width": null,
       "object_fit": null,
       "object_position": null,
       "order": null,
       "overflow": null,
       "overflow_x": null,
       "overflow_y": null,
       "padding": null,
       "right": null,
       "top": null,
       "visibility": null,
       "width": null
      }
     },
     "9a690df6eb4c4d1f8f7ab20e5bf6d590": {
      "model_module": "@jupyter-widgets/base",
      "model_module_version": "1.2.0",
      "model_name": "LayoutModel",
      "state": {
       "_model_module": "@jupyter-widgets/base",
       "_model_module_version": "1.2.0",
       "_model_name": "LayoutModel",
       "_view_count": null,
       "_view_module": "@jupyter-widgets/base",
       "_view_module_version": "1.2.0",
       "_view_name": "LayoutView",
       "align_content": null,
       "align_items": null,
       "align_self": null,
       "border": null,
       "bottom": null,
       "display": null,
       "flex": null,
       "flex_flow": null,
       "grid_area": null,
       "grid_auto_columns": null,
       "grid_auto_flow": null,
       "grid_auto_rows": null,
       "grid_column": null,
       "grid_gap": null,
       "grid_row": null,
       "grid_template_areas": null,
       "grid_template_columns": null,
       "grid_template_rows": null,
       "height": null,
       "justify_content": null,
       "justify_items": null,
       "left": null,
       "margin": null,
       "max_height": null,
       "max_width": null,
       "min_height": null,
       "min_width": null,
       "object_fit": null,
       "object_position": null,
       "order": null,
       "overflow": null,
       "overflow_x": null,
       "overflow_y": null,
       "padding": null,
       "right": null,
       "top": null,
       "visibility": null,
       "width": null
      }
     },
     "9b9c66f665284265890952b4d48a63a3": {
      "model_module": "@jupyter-widgets/controls",
      "model_module_version": "1.5.0",
      "model_name": "ProgressStyleModel",
      "state": {
       "_model_module": "@jupyter-widgets/controls",
       "_model_module_version": "1.5.0",
       "_model_name": "ProgressStyleModel",
       "_view_count": null,
       "_view_module": "@jupyter-widgets/base",
       "_view_module_version": "1.2.0",
       "_view_name": "StyleView",
       "bar_color": null,
       "description_width": ""
      }
     },
     "9f22049d2c2c4a80a6fdd946f533044f": {
      "model_module": "@jupyter-widgets/controls",
      "model_module_version": "1.5.0",
      "model_name": "DescriptionStyleModel",
      "state": {
       "_model_module": "@jupyter-widgets/controls",
       "_model_module_version": "1.5.0",
       "_model_name": "DescriptionStyleModel",
       "_view_count": null,
       "_view_module": "@jupyter-widgets/base",
       "_view_module_version": "1.2.0",
       "_view_name": "StyleView",
       "description_width": ""
      }
     },
     "a144ad2abd8844c080ad6c3e286e0c1d": {
      "model_module": "@jupyter-widgets/controls",
      "model_module_version": "1.5.0",
      "model_name": "HTMLModel",
      "state": {
       "_dom_classes": [],
       "_model_module": "@jupyter-widgets/controls",
       "_model_module_version": "1.5.0",
       "_model_name": "HTMLModel",
       "_view_count": null,
       "_view_module": "@jupyter-widgets/controls",
       "_view_module_version": "1.5.0",
       "_view_name": "HTMLView",
       "description": "",
       "description_tooltip": null,
       "layout": "IPY_MODEL_05a16a04ed0f4275b81a84ec94a96920",
       "placeholder": "​",
       "style": "IPY_MODEL_9f22049d2c2c4a80a6fdd946f533044f",
       "value": "Downloading (…)/main/tokenizer.json: 100%"
      }
     },
     "aaa8038e8c91490c926b4d1793f68f0a": {
      "model_module": "@jupyter-widgets/base",
      "model_module_version": "1.2.0",
      "model_name": "LayoutModel",
      "state": {
       "_model_module": "@jupyter-widgets/base",
       "_model_module_version": "1.2.0",
       "_model_name": "LayoutModel",
       "_view_count": null,
       "_view_module": "@jupyter-widgets/base",
       "_view_module_version": "1.2.0",
       "_view_name": "LayoutView",
       "align_content": null,
       "align_items": null,
       "align_self": null,
       "border": null,
       "bottom": null,
       "display": null,
       "flex": null,
       "flex_flow": null,
       "grid_area": null,
       "grid_auto_columns": null,
       "grid_auto_flow": null,
       "grid_auto_rows": null,
       "grid_column": null,
       "grid_gap": null,
       "grid_row": null,
       "grid_template_areas": null,
       "grid_template_columns": null,
       "grid_template_rows": null,
       "height": null,
       "justify_content": null,
       "justify_items": null,
       "left": null,
       "margin": null,
       "max_height": null,
       "max_width": null,
       "min_height": null,
       "min_width": null,
       "object_fit": null,
       "object_position": null,
       "order": null,
       "overflow": null,
       "overflow_x": null,
       "overflow_y": null,
       "padding": null,
       "right": null,
       "top": null,
       "visibility": null,
       "width": null
      }
     },
     "ac133814b9374c60b9125a59ee0244d3": {
      "model_module": "@jupyter-widgets/base",
      "model_module_version": "1.2.0",
      "model_name": "LayoutModel",
      "state": {
       "_model_module": "@jupyter-widgets/base",
       "_model_module_version": "1.2.0",
       "_model_name": "LayoutModel",
       "_view_count": null,
       "_view_module": "@jupyter-widgets/base",
       "_view_module_version": "1.2.0",
       "_view_name": "LayoutView",
       "align_content": null,
       "align_items": null,
       "align_self": null,
       "border": null,
       "bottom": null,
       "display": null,
       "flex": null,
       "flex_flow": null,
       "grid_area": null,
       "grid_auto_columns": null,
       "grid_auto_flow": null,
       "grid_auto_rows": null,
       "grid_column": null,
       "grid_gap": null,
       "grid_row": null,
       "grid_template_areas": null,
       "grid_template_columns": null,
       "grid_template_rows": null,
       "height": null,
       "justify_content": null,
       "justify_items": null,
       "left": null,
       "margin": null,
       "max_height": null,
       "max_width": null,
       "min_height": null,
       "min_width": null,
       "object_fit": null,
       "object_position": null,
       "order": null,
       "overflow": null,
       "overflow_x": null,
       "overflow_y": null,
       "padding": null,
       "right": null,
       "top": null,
       "visibility": null,
       "width": null
      }
     },
     "b5bf729695b142d1b5793dfb45e697c6": {
      "model_module": "@jupyter-widgets/controls",
      "model_module_version": "1.5.0",
      "model_name": "DescriptionStyleModel",
      "state": {
       "_model_module": "@jupyter-widgets/controls",
       "_model_module_version": "1.5.0",
       "_model_name": "DescriptionStyleModel",
       "_view_count": null,
       "_view_module": "@jupyter-widgets/base",
       "_view_module_version": "1.2.0",
       "_view_name": "StyleView",
       "description_width": ""
      }
     },
     "c0b97dd884214d63ab1e060075487d9a": {
      "model_module": "@jupyter-widgets/controls",
      "model_module_version": "1.5.0",
      "model_name": "HBoxModel",
      "state": {
       "_dom_classes": [],
       "_model_module": "@jupyter-widgets/controls",
       "_model_module_version": "1.5.0",
       "_model_name": "HBoxModel",
       "_view_count": null,
       "_view_module": "@jupyter-widgets/controls",
       "_view_module_version": "1.5.0",
       "_view_name": "HBoxView",
       "box_style": "",
       "children": [
        "IPY_MODEL_360ae168607f48a882150b7b52fe8ed6",
        "IPY_MODEL_f32096306d3444279fa1380642abb35e",
        "IPY_MODEL_06ce4f6762204a8ca9397aa1db785f54"
       ],
       "layout": "IPY_MODEL_2bfce982bf454cf985117efdf6c48ce8"
      }
     },
     "c4c5c380cde643288f2699a016a07809": {
      "model_module": "@jupyter-widgets/controls",
      "model_module_version": "1.5.0",
      "model_name": "DescriptionStyleModel",
      "state": {
       "_model_module": "@jupyter-widgets/controls",
       "_model_module_version": "1.5.0",
       "_model_name": "DescriptionStyleModel",
       "_view_count": null,
       "_view_module": "@jupyter-widgets/base",
       "_view_module_version": "1.2.0",
       "_view_name": "StyleView",
       "description_width": ""
      }
     },
     "ced23360a4f645aca7c22d65956e92a1": {
      "model_module": "@jupyter-widgets/controls",
      "model_module_version": "1.5.0",
      "model_name": "ProgressStyleModel",
      "state": {
       "_model_module": "@jupyter-widgets/controls",
       "_model_module_version": "1.5.0",
       "_model_name": "ProgressStyleModel",
       "_view_count": null,
       "_view_module": "@jupyter-widgets/base",
       "_view_module_version": "1.2.0",
       "_view_name": "StyleView",
       "bar_color": null,
       "description_width": ""
      }
     },
     "d49f847781ea4d4e89c55080e428dc5a": {
      "model_module": "@jupyter-widgets/controls",
      "model_module_version": "1.5.0",
      "model_name": "HTMLModel",
      "state": {
       "_dom_classes": [],
       "_model_module": "@jupyter-widgets/controls",
       "_model_module_version": "1.5.0",
       "_model_name": "HTMLModel",
       "_view_count": null,
       "_view_module": "@jupyter-widgets/controls",
       "_view_module_version": "1.5.0",
       "_view_name": "HTMLView",
       "description": "",
       "description_tooltip": null,
       "layout": "IPY_MODEL_6ae55a1c41834cf8aeab0ed5ff478984",
       "placeholder": "​",
       "style": "IPY_MODEL_7a8aef8219174242bb3751e5bbe4b1ff",
       "value": " 792k/792k [00:00&lt;00:00, 9.55MB/s]"
      }
     },
     "dbd0604c9f4a49e0880a2c329ee37fb1": {
      "model_module": "@jupyter-widgets/controls",
      "model_module_version": "1.5.0",
      "model_name": "DescriptionStyleModel",
      "state": {
       "_model_module": "@jupyter-widgets/controls",
       "_model_module_version": "1.5.0",
       "_model_name": "DescriptionStyleModel",
       "_view_count": null,
       "_view_module": "@jupyter-widgets/base",
       "_view_module_version": "1.2.0",
       "_view_name": "StyleView",
       "description_width": ""
      }
     },
     "dbe0afb57db640a5a6ee1773d8a37886": {
      "model_module": "@jupyter-widgets/base",
      "model_module_version": "1.2.0",
      "model_name": "LayoutModel",
      "state": {
       "_model_module": "@jupyter-widgets/base",
       "_model_module_version": "1.2.0",
       "_model_name": "LayoutModel",
       "_view_count": null,
       "_view_module": "@jupyter-widgets/base",
       "_view_module_version": "1.2.0",
       "_view_name": "LayoutView",
       "align_content": null,
       "align_items": null,
       "align_self": null,
       "border": null,
       "bottom": null,
       "display": null,
       "flex": null,
       "flex_flow": null,
       "grid_area": null,
       "grid_auto_columns": null,
       "grid_auto_flow": null,
       "grid_auto_rows": null,
       "grid_column": null,
       "grid_gap": null,
       "grid_row": null,
       "grid_template_areas": null,
       "grid_template_columns": null,
       "grid_template_rows": null,
       "height": null,
       "justify_content": null,
       "justify_items": null,
       "left": null,
       "margin": null,
       "max_height": null,
       "max_width": null,
       "min_height": null,
       "min_width": null,
       "object_fit": null,
       "object_position": null,
       "order": null,
       "overflow": null,
       "overflow_x": null,
       "overflow_y": null,
       "padding": null,
       "right": null,
       "top": null,
       "visibility": null,
       "width": null
      }
     },
     "dda83d276ca3491a82c7d079c3b31a27": {
      "model_module": "@jupyter-widgets/base",
      "model_module_version": "1.2.0",
      "model_name": "LayoutModel",
      "state": {
       "_model_module": "@jupyter-widgets/base",
       "_model_module_version": "1.2.0",
       "_model_name": "LayoutModel",
       "_view_count": null,
       "_view_module": "@jupyter-widgets/base",
       "_view_module_version": "1.2.0",
       "_view_name": "LayoutView",
       "align_content": null,
       "align_items": null,
       "align_self": null,
       "border": null,
       "bottom": null,
       "display": null,
       "flex": null,
       "flex_flow": null,
       "grid_area": null,
       "grid_auto_columns": null,
       "grid_auto_flow": null,
       "grid_auto_rows": null,
       "grid_column": null,
       "grid_gap": null,
       "grid_row": null,
       "grid_template_areas": null,
       "grid_template_columns": null,
       "grid_template_rows": null,
       "height": null,
       "justify_content": null,
       "justify_items": null,
       "left": null,
       "margin": null,
       "max_height": null,
       "max_width": null,
       "min_height": null,
       "min_width": null,
       "object_fit": null,
       "object_position": null,
       "order": null,
       "overflow": null,
       "overflow_x": null,
       "overflow_y": null,
       "padding": null,
       "right": null,
       "top": null,
       "visibility": null,
       "width": null
      }
     },
     "dfda3cd70e3942628f77d906a2214a63": {
      "model_module": "@jupyter-widgets/base",
      "model_module_version": "1.2.0",
      "model_name": "LayoutModel",
      "state": {
       "_model_module": "@jupyter-widgets/base",
       "_model_module_version": "1.2.0",
       "_model_name": "LayoutModel",
       "_view_count": null,
       "_view_module": "@jupyter-widgets/base",
       "_view_module_version": "1.2.0",
       "_view_name": "LayoutView",
       "align_content": null,
       "align_items": null,
       "align_self": null,
       "border": null,
       "bottom": null,
       "display": null,
       "flex": null,
       "flex_flow": null,
       "grid_area": null,
       "grid_auto_columns": null,
       "grid_auto_flow": null,
       "grid_auto_rows": null,
       "grid_column": null,
       "grid_gap": null,
       "grid_row": null,
       "grid_template_areas": null,
       "grid_template_columns": null,
       "grid_template_rows": null,
       "height": null,
       "justify_content": null,
       "justify_items": null,
       "left": null,
       "margin": null,
       "max_height": null,
       "max_width": null,
       "min_height": null,
       "min_width": null,
       "object_fit": null,
       "object_position": null,
       "order": null,
       "overflow": null,
       "overflow_x": null,
       "overflow_y": null,
       "padding": null,
       "right": null,
       "top": null,
       "visibility": null,
       "width": null
      }
     },
     "e00130c698b644a5a80804fb1b537563": {
      "model_module": "@jupyter-widgets/controls",
      "model_module_version": "1.5.0",
      "model_name": "FloatProgressModel",
      "state": {
       "_dom_classes": [],
       "_model_module": "@jupyter-widgets/controls",
       "_model_module_version": "1.5.0",
       "_model_name": "FloatProgressModel",
       "_view_count": null,
       "_view_module": "@jupyter-widgets/controls",
       "_view_module_version": "1.5.0",
       "_view_name": "ProgressView",
       "bar_style": "success",
       "description": "",
       "description_tooltip": null,
       "layout": "IPY_MODEL_4824edc0898045279ee882bedf3c8526",
       "max": 1208.0,
       "min": 0.0,
       "orientation": "horizontal",
       "style": "IPY_MODEL_63ec68335fb84d18b2bfd90b1f232d8e",
       "value": 1208.0
      }
     },
     "e26abda2a3df4be3b71d3ff10bca9b9d": {
      "model_module": "@jupyter-widgets/controls",
      "model_module_version": "1.5.0",
      "model_name": "HTMLModel",
      "state": {
       "_dom_classes": [],
       "_model_module": "@jupyter-widgets/controls",
       "_model_module_version": "1.5.0",
       "_model_name": "HTMLModel",
       "_view_count": null,
       "_view_module": "@jupyter-widgets/controls",
       "_view_module_version": "1.5.0",
       "_view_name": "HTMLView",
       "description": "",
       "description_tooltip": null,
       "layout": "IPY_MODEL_566d1e4b58e64d3db1eb0fc83a419f42",
       "placeholder": "​",
       "style": "IPY_MODEL_010a825d9fed4421b736a896d5b14fc5",
       "value": " 1.39M/1.39M [00:00&lt;00:00, 12.8MB/s]"
      }
     },
     "e5c4f9a7a8cd423b93bb3b73b5d27264": {
      "model_module": "@jupyter-widgets/controls",
      "model_module_version": "1.5.0",
      "model_name": "ProgressStyleModel",
      "state": {
       "_model_module": "@jupyter-widgets/controls",
       "_model_module_version": "1.5.0",
       "_model_name": "ProgressStyleModel",
       "_view_count": null,
       "_view_module": "@jupyter-widgets/base",
       "_view_module_version": "1.2.0",
       "_view_name": "StyleView",
       "bar_color": null,
       "description_width": ""
      }
     },
     "f06eee1556a6438b907b8c75860e5a2c": {
      "model_module": "@jupyter-widgets/controls",
      "model_module_version": "1.5.0",
      "model_name": "HBoxModel",
      "state": {
       "_dom_classes": [],
       "_model_module": "@jupyter-widgets/controls",
       "_model_module_version": "1.5.0",
       "_model_name": "HBoxModel",
       "_view_count": null,
       "_view_module": "@jupyter-widgets/controls",
       "_view_module_version": "1.5.0",
       "_view_name": "HBoxView",
       "box_style": "",
       "children": [
        "IPY_MODEL_4a32e534925e4b7280a2b86941830606",
        "IPY_MODEL_31fddb8b4b0041f3833fdb3801d07ab5",
        "IPY_MODEL_d49f847781ea4d4e89c55080e428dc5a"
       ],
       "layout": "IPY_MODEL_9a690df6eb4c4d1f8f7ab20e5bf6d590"
      }
     },
     "f32096306d3444279fa1380642abb35e": {
      "model_module": "@jupyter-widgets/controls",
      "model_module_version": "1.5.0",
      "model_name": "FloatProgressModel",
      "state": {
       "_dom_classes": [],
       "_model_module": "@jupyter-widgets/controls",
       "_model_module_version": "1.5.0",
       "_model_name": "FloatProgressModel",
       "_view_count": null,
       "_view_module": "@jupyter-widgets/controls",
       "_view_module_version": "1.5.0",
       "_view_name": "ProgressView",
       "bar_style": "success",
       "description": "",
       "description_tooltip": null,
       "layout": "IPY_MODEL_82a04c4c3d5d40ea9f0647a37ddff101",
       "max": 147.0,
       "min": 0.0,
       "orientation": "horizontal",
       "style": "IPY_MODEL_e5c4f9a7a8cd423b93bb3b73b5d27264",
       "value": 147.0
      }
     },
     "f3d35d688d32422597bd69685c2430eb": {
      "model_module": "@jupyter-widgets/base",
      "model_module_version": "1.2.0",
      "model_name": "LayoutModel",
      "state": {
       "_model_module": "@jupyter-widgets/base",
       "_model_module_version": "1.2.0",
       "_model_name": "LayoutModel",
       "_view_count": null,
       "_view_module": "@jupyter-widgets/base",
       "_view_module_version": "1.2.0",
       "_view_name": "LayoutView",
       "align_content": null,
       "align_items": null,
       "align_self": null,
       "border": null,
       "bottom": null,
       "display": null,
       "flex": null,
       "flex_flow": null,
       "grid_area": null,
       "grid_auto_columns": null,
       "grid_auto_flow": null,
       "grid_auto_rows": null,
       "grid_column": null,
       "grid_gap": null,
       "grid_row": null,
       "grid_template_areas": null,
       "grid_template_columns": null,
       "grid_template_rows": null,
       "height": null,
       "justify_content": null,
       "justify_items": null,
       "left": null,
       "margin": null,
       "max_height": null,
       "max_width": null,
       "min_height": null,
       "min_width": null,
       "object_fit": null,
       "object_position": null,
       "order": null,
       "overflow": null,
       "overflow_x": null,
       "overflow_y": null,
       "padding": null,
       "right": null,
       "top": null,
       "visibility": null,
       "width": null
      }
     },
     "f71a4c7ab0034e0c8128e6c70bb6cd5e": {
      "model_module": "@jupyter-widgets/base",
      "model_module_version": "1.2.0",
      "model_name": "LayoutModel",
      "state": {
       "_model_module": "@jupyter-widgets/base",
       "_model_module_version": "1.2.0",
       "_model_name": "LayoutModel",
       "_view_count": null,
       "_view_module": "@jupyter-widgets/base",
       "_view_module_version": "1.2.0",
       "_view_name": "LayoutView",
       "align_content": null,
       "align_items": null,
       "align_self": null,
       "border": null,
       "bottom": null,
       "display": null,
       "flex": null,
       "flex_flow": null,
       "grid_area": null,
       "grid_auto_columns": null,
       "grid_auto_flow": null,
       "grid_auto_rows": null,
       "grid_column": null,
       "grid_gap": null,
       "grid_row": null,
       "grid_template_areas": null,
       "grid_template_columns": null,
       "grid_template_rows": null,
       "height": null,
       "justify_content": null,
       "justify_items": null,
       "left": null,
       "margin": null,
       "max_height": null,
       "max_width": null,
       "min_height": null,
       "min_width": null,
       "object_fit": null,
       "object_position": null,
       "order": null,
       "overflow": null,
       "overflow_x": null,
       "overflow_y": null,
       "padding": null,
       "right": null,
       "top": null,
       "visibility": null,
       "width": null
      }
     },
     "fac7935f549943f2b74b48b6d55e3225": {
      "model_module": "@jupyter-widgets/controls",
      "model_module_version": "1.5.0",
      "model_name": "HBoxModel",
      "state": {
       "_dom_classes": [],
       "_model_module": "@jupyter-widgets/controls",
       "_model_module_version": "1.5.0",
       "_model_name": "HBoxModel",
       "_view_count": null,
       "_view_module": "@jupyter-widgets/controls",
       "_view_module_version": "1.5.0",
       "_view_name": "HBoxView",
       "box_style": "",
       "children": [
        "IPY_MODEL_a144ad2abd8844c080ad6c3e286e0c1d",
        "IPY_MODEL_43a7eb0489ab45a68c5fec0a62627f04",
        "IPY_MODEL_e26abda2a3df4be3b71d3ff10bca9b9d"
       ],
       "layout": "IPY_MODEL_306862d3a4c44dd4b9b497d0fea57722"
      }
     },
     "fe1b4375504c4caeb2040a5dc07d35fe": {
      "model_module": "@jupyter-widgets/controls",
      "model_module_version": "1.5.0",
      "model_name": "HTMLModel",
      "state": {
       "_dom_classes": [],
       "_model_module": "@jupyter-widgets/controls",
       "_model_module_version": "1.5.0",
       "_model_name": "HTMLModel",
       "_view_count": null,
       "_view_module": "@jupyter-widgets/controls",
       "_view_module_version": "1.5.0",
       "_view_name": "HTMLView",
       "description": "",
       "description_tooltip": null,
       "layout": "IPY_MODEL_3c9c54ac8ecc44228ad562b6a0845744",
       "placeholder": "​",
       "style": "IPY_MODEL_dbd0604c9f4a49e0880a2c329ee37fb1",
       "value": " 892M/892M [00:09&lt;00:00, 92.9MB/s]"
      }
     },
     "ff7f9480bdd644599d97546177dab225": {
      "model_module": "@jupyter-widgets/controls",
      "model_module_version": "1.5.0",
      "model_name": "DescriptionStyleModel",
      "state": {
       "_model_module": "@jupyter-widgets/controls",
       "_model_module_version": "1.5.0",
       "_model_name": "DescriptionStyleModel",
       "_view_count": null,
       "_view_module": "@jupyter-widgets/base",
       "_view_module_version": "1.2.0",
       "_view_name": "StyleView",
       "description_width": ""
      }
     }
    },
    "version_major": 2,
    "version_minor": 0
   }
  }
 },
 "nbformat": 4,
 "nbformat_minor": 5
}
