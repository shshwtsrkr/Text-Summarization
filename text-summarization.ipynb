{
 "cells": [
  {
   "cell_type": "code",
   "execution_count": 1,
   "id": "9a75711c",
   "metadata": {
    "_cell_guid": "b1076dfc-b9ad-4769-8c92-a6c4dae69d19",
    "_uuid": "8f2839f25d086af736a60e9eeb907d3b93b6e0e5",
    "execution": {
     "iopub.execute_input": "2023-04-03T23:36:31.537088Z",
     "iopub.status.busy": "2023-04-03T23:36:31.535922Z",
     "iopub.status.idle": "2023-04-03T23:36:32.536726Z",
     "shell.execute_reply": "2023-04-03T23:36:32.535430Z"
    },
    "papermill": {
     "duration": 1.008213,
     "end_time": "2023-04-03T23:36:32.539770",
     "exception": false,
     "start_time": "2023-04-03T23:36:31.531557",
     "status": "completed"
    },
    "tags": []
   },
   "outputs": [],
   "source": [
    "import os\n",
    "import time\n",
    "import glob\n",
    "import pathlib\n",
    "\n",
    "import numpy as np\n",
    "import pandas as pd\n",
    "import matplotlib.pyplot as plt\n",
    "import seaborn as sns\n",
    "\n",
    "\n"
   ]
  },
  {
   "cell_type": "code",
   "execution_count": 2,
   "id": "5dcea29d",
   "metadata": {
    "execution": {
     "iopub.execute_input": "2023-04-03T23:36:32.544696Z",
     "iopub.status.busy": "2023-04-03T23:36:32.544404Z",
     "iopub.status.idle": "2023-04-03T23:36:32.558328Z",
     "shell.execute_reply": "2023-04-03T23:36:32.557343Z"
    },
    "papermill": {
     "duration": 0.018895,
     "end_time": "2023-04-03T23:36:32.560565",
     "exception": false,
     "start_time": "2023-04-03T23:36:32.541670",
     "status": "completed"
    },
    "tags": []
   },
   "outputs": [
    {
     "data": {
      "text/plain": [
       "['politics', 'sport', 'tech', 'entertainment', 'business']"
      ]
     },
     "execution_count": 2,
     "metadata": {},
     "output_type": "execute_result"
    }
   ],
   "source": [
    "os.listdir('/kaggle/input/bbc-news-summary/BBC News Summary/Summaries/') # categories of summaries"
   ]
  },
  {
   "cell_type": "code",
   "execution_count": 3,
   "id": "f2ec5be5",
   "metadata": {
    "execution": {
     "iopub.execute_input": "2023-04-03T23:36:32.565801Z",
     "iopub.status.busy": "2023-04-03T23:36:32.565491Z",
     "iopub.status.idle": "2023-04-03T23:36:32.571469Z",
     "shell.execute_reply": "2023-04-03T23:36:32.570446Z"
    },
    "papermill": {
     "duration": 0.011309,
     "end_time": "2023-04-03T23:36:32.573728",
     "exception": false,
     "start_time": "2023-04-03T23:36:32.562419",
     "status": "completed"
    },
    "tags": []
   },
   "outputs": [],
   "source": [
    "# Now we define paths for articles, summaries and maintain a list of categories of our data\n",
    "article_path = '/kaggle/input/bbc-news-summary/BBC News Summary/News Articles'\n",
    "summary_path = '/kaggle/input/bbc-news-summary/BBC News Summary/Summaries/'\n",
    "categories = ['politics', 'sport', 'tech', 'entertainment', 'business']"
   ]
  },
  {
   "cell_type": "code",
   "execution_count": null,
   "id": "c64e5f3e",
   "metadata": {
    "papermill": {
     "duration": 0.001596,
     "end_time": "2023-04-03T23:36:32.577097",
     "exception": false,
     "start_time": "2023-04-03T23:36:32.575501",
     "status": "completed"
    },
    "tags": []
   },
   "outputs": [],
   "source": []
  }
 ],
 "metadata": {
  "kernelspec": {
   "display_name": "Python 3",
   "language": "python",
   "name": "python3"
  },
  "language_info": {
   "codemirror_mode": {
    "name": "ipython",
    "version": 3
   },
   "file_extension": ".py",
   "mimetype": "text/x-python",
   "name": "python",
   "nbconvert_exporter": "python",
   "pygments_lexer": "ipython3",
   "version": "3.7.12"
  },
  "papermill": {
   "default_parameters": {},
   "duration": 11.457557,
   "end_time": "2023-04-03T23:36:33.099825",
   "environment_variables": {},
   "exception": null,
   "input_path": "__notebook__.ipynb",
   "output_path": "__notebook__.ipynb",
   "parameters": {},
   "start_time": "2023-04-03T23:36:21.642268",
   "version": "2.4.0"
  }
 },
 "nbformat": 4,
 "nbformat_minor": 5
}
